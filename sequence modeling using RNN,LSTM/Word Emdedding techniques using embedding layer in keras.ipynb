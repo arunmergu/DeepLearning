{
 "cells": [
  {
   "cell_type": "code",
   "execution_count": 2,
   "metadata": {},
   "outputs": [],
   "source": [
    "from tensorflow.keras.preprocessing.text import one_hot"
   ]
  },
  {
   "cell_type": "code",
   "execution_count": 3,
   "metadata": {},
   "outputs": [],
   "source": [
    "sent=['boy is good',\n",
    "     'girl is cute',\n",
    "     'am drining apple juice',\n",
    "     'he doesnot like pineapple juice',\n",
    "     'i like cricket',\n",
    "     'weather is sunny today',\n",
    "     'i love python programming']\n"
   ]
  },
  {
   "cell_type": "code",
   "execution_count": 5,
   "metadata": {},
   "outputs": [],
   "source": [
    "voc_size=10000"
   ]
  },
  {
   "cell_type": "code",
   "execution_count": 6,
   "metadata": {},
   "outputs": [],
   "source": [
    "onehot_repr=[one_hot(word,voc_size) for word in sent]"
   ]
  },
  {
   "cell_type": "code",
   "execution_count": 7,
   "metadata": {},
   "outputs": [
    {
     "data": {
      "text/plain": [
       "[[7819, 4850, 285],\n",
       " [4133, 4850, 9028],\n",
       " [8737, 2498, 513, 3496],\n",
       " [423, 2409, 5725, 5723, 3496],\n",
       " [294, 5725, 5002],\n",
       " [7543, 4850, 8570, 2027],\n",
       " [294, 294, 2621, 2728]]"
      ]
     },
     "execution_count": 7,
     "metadata": {},
     "output_type": "execute_result"
    }
   ],
   "source": [
    "onehot_repr"
   ]
  },
  {
   "cell_type": "code",
   "execution_count": 8,
   "metadata": {},
   "outputs": [],
   "source": [
    "from tensorflow.keras.layers import Embedding\n",
    "from tensorflow.keras.models import Sequential\n",
    "from tensorflow.keras.preprocessing.sequence import pad_sequences"
   ]
  },
  {
   "cell_type": "code",
   "execution_count": 9,
   "metadata": {},
   "outputs": [],
   "source": [
    "import numpy as np"
   ]
  },
  {
   "cell_type": "code",
   "execution_count": 10,
   "metadata": {},
   "outputs": [
    {
     "name": "stdout",
     "output_type": "stream",
     "text": [
      "[[   0    0    0    0    0 7819 4850  285]\n",
      " [   0    0    0    0    0 4133 4850 9028]\n",
      " [   0    0    0    0 8737 2498  513 3496]\n",
      " [   0    0    0  423 2409 5725 5723 3496]\n",
      " [   0    0    0    0    0  294 5725 5002]\n",
      " [   0    0    0    0 7543 4850 8570 2027]\n",
      " [   0    0    0    0  294  294 2621 2728]]\n"
     ]
    }
   ],
   "source": [
    "sent_len=8\n",
    "embedded_docs=pad_sequences(onehot_repr,padding='pre',maxlen=sent_len)\n",
    "print(embedded_docs)"
   ]
  },
  {
   "cell_type": "code",
   "execution_count": 13,
   "metadata": {},
   "outputs": [],
   "source": [
    "dim=10\n",
    "model=Sequential()\n",
    "model.add(Embedding(voc_size,dim,input_length=sent_len))\n",
    "model.compile('adam','mse')"
   ]
  },
  {
   "cell_type": "code",
   "execution_count": 14,
   "metadata": {},
   "outputs": [
    {
     "name": "stdout",
     "output_type": "stream",
     "text": [
      "Model: \"sequential\"\n",
      "_________________________________________________________________\n",
      "Layer (type)                 Output Shape              Param #   \n",
      "=================================================================\n",
      "embedding (Embedding)        (None, 8, 10)             100000    \n",
      "=================================================================\n",
      "Total params: 100,000\n",
      "Trainable params: 100,000\n",
      "Non-trainable params: 0\n",
      "_________________________________________________________________\n"
     ]
    }
   ],
   "source": [
    "model.summary()"
   ]
  },
  {
   "cell_type": "code",
   "execution_count": 16,
   "metadata": {},
   "outputs": [],
   "source": [
    "predict_embedded=model.predict(embedded_docs)"
   ]
  },
  {
   "cell_type": "code",
   "execution_count": 18,
   "metadata": {},
   "outputs": [
    {
     "data": {
      "text/plain": [
       "array([[ 0.04608622,  0.0270779 ,  0.00929072, -0.02918563, -0.03271638,\n",
       "         0.02348052, -0.01207517,  0.0232576 ,  0.03222544,  0.00614814],\n",
       "       [ 0.04608622,  0.0270779 ,  0.00929072, -0.02918563, -0.03271638,\n",
       "         0.02348052, -0.01207517,  0.0232576 ,  0.03222544,  0.00614814],\n",
       "       [ 0.04608622,  0.0270779 ,  0.00929072, -0.02918563, -0.03271638,\n",
       "         0.02348052, -0.01207517,  0.0232576 ,  0.03222544,  0.00614814],\n",
       "       [ 0.04608622,  0.0270779 ,  0.00929072, -0.02918563, -0.03271638,\n",
       "         0.02348052, -0.01207517,  0.0232576 ,  0.03222544,  0.00614814],\n",
       "       [ 0.04608622,  0.0270779 ,  0.00929072, -0.02918563, -0.03271638,\n",
       "         0.02348052, -0.01207517,  0.0232576 ,  0.03222544,  0.00614814],\n",
       "       [-0.04059788, -0.02547761, -0.03995531, -0.01044202, -0.0299605 ,\n",
       "         0.01847365,  0.04583697, -0.00038289, -0.01576646, -0.01224796],\n",
       "       [ 0.03566507,  0.00017918, -0.02822213,  0.04175181, -0.01040394,\n",
       "         0.03703548,  0.00215092, -0.03066646, -0.0470345 ,  0.03324774],\n",
       "       [ 0.02373916,  0.04398066,  0.018905  ,  0.02600889, -0.0140064 ,\n",
       "        -0.00020204,  0.02003178,  0.01514089,  0.01867471, -0.00657294]],\n",
       "      dtype=float32)"
      ]
     },
     "execution_count": 18,
     "metadata": {},
     "output_type": "execute_result"
    }
   ],
   "source": [
    "predict_embedded[0]"
   ]
  },
  {
   "cell_type": "code",
   "execution_count": null,
   "metadata": {},
   "outputs": [],
   "source": []
  }
 ],
 "metadata": {
  "kernelspec": {
   "display_name": "Python 3",
   "language": "python",
   "name": "python3"
  },
  "language_info": {
   "codemirror_mode": {
    "name": "ipython",
    "version": 3
   },
   "file_extension": ".py",
   "mimetype": "text/x-python",
   "name": "python",
   "nbconvert_exporter": "python",
   "pygments_lexer": "ipython3",
   "version": "3.7.4"
  }
 },
 "nbformat": 4,
 "nbformat_minor": 2
}
