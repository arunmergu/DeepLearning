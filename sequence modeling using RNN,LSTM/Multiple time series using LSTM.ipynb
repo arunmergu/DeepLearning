{
 "cells": [
  {
   "cell_type": "code",
   "execution_count": 1,
   "metadata": {},
   "outputs": [],
   "source": [
    "import warnings\n",
    "warnings.filterwarnings('ignore')\n",
    "import pandas as pd\n",
    "import numpy as np\n",
    "import math\n",
    "from tensorflow.keras.models import Sequential\n",
    "from tensorflow.keras.layers import LSTM\n",
    "from tensorflow.keras.layers importrt Dense, Activation, Dropout\n",
    "from sklearn.preprocessing import MinMaxScaler,StandardScaler\n",
    "from sklearn.metrics import mean_absolute_error\n",
    "import seaborn as sns"
   ]
  },
  {
   "cell_type": "code",
   "execution_count": 2,
   "metadata": {},
   "outputs": [],
   "source": [
    "file=r'C:\\Users\\ARUNA\\Deep Learning Edvancer/Download Data/all_stocks_2006-01-01_to_2018-01-01.csv'\n",
    "data=pd.read_csv(file)"
   ]
  },
  {
   "cell_type": "code",
   "execution_count": 3,
   "metadata": {},
   "outputs": [
    {
     "data": {
      "text/html": [
       "<div>\n",
       "<style scoped>\n",
       "    .dataframe tbody tr th:only-of-type {\n",
       "        vertical-align: middle;\n",
       "    }\n",
       "\n",
       "    .dataframe tbody tr th {\n",
       "        vertical-align: top;\n",
       "    }\n",
       "\n",
       "    .dataframe thead th {\n",
       "        text-align: right;\n",
       "    }\n",
       "</style>\n",
       "<table border=\"1\" class=\"dataframe\">\n",
       "  <thead>\n",
       "    <tr style=\"text-align: right;\">\n",
       "      <th></th>\n",
       "      <th>Date</th>\n",
       "      <th>Open</th>\n",
       "      <th>High</th>\n",
       "      <th>Low</th>\n",
       "      <th>Close</th>\n",
       "      <th>Volume</th>\n",
       "      <th>Name</th>\n",
       "    </tr>\n",
       "  </thead>\n",
       "  <tbody>\n",
       "    <tr>\n",
       "      <td>0</td>\n",
       "      <td>2006-01-03</td>\n",
       "      <td>77.76</td>\n",
       "      <td>79.35</td>\n",
       "      <td>77.24</td>\n",
       "      <td>79.11</td>\n",
       "      <td>3117200</td>\n",
       "      <td>MMM</td>\n",
       "    </tr>\n",
       "    <tr>\n",
       "      <td>1</td>\n",
       "      <td>2006-01-04</td>\n",
       "      <td>79.49</td>\n",
       "      <td>79.49</td>\n",
       "      <td>78.25</td>\n",
       "      <td>78.71</td>\n",
       "      <td>2558000</td>\n",
       "      <td>MMM</td>\n",
       "    </tr>\n",
       "    <tr>\n",
       "      <td>2</td>\n",
       "      <td>2006-01-05</td>\n",
       "      <td>78.41</td>\n",
       "      <td>78.65</td>\n",
       "      <td>77.56</td>\n",
       "      <td>77.99</td>\n",
       "      <td>2529500</td>\n",
       "      <td>MMM</td>\n",
       "    </tr>\n",
       "    <tr>\n",
       "      <td>3</td>\n",
       "      <td>2006-01-06</td>\n",
       "      <td>78.64</td>\n",
       "      <td>78.90</td>\n",
       "      <td>77.64</td>\n",
       "      <td>78.63</td>\n",
       "      <td>2479500</td>\n",
       "      <td>MMM</td>\n",
       "    </tr>\n",
       "    <tr>\n",
       "      <td>4</td>\n",
       "      <td>2006-01-09</td>\n",
       "      <td>78.50</td>\n",
       "      <td>79.83</td>\n",
       "      <td>78.46</td>\n",
       "      <td>79.02</td>\n",
       "      <td>1845600</td>\n",
       "      <td>MMM</td>\n",
       "    </tr>\n",
       "    <tr>\n",
       "      <td>...</td>\n",
       "      <td>...</td>\n",
       "      <td>...</td>\n",
       "      <td>...</td>\n",
       "      <td>...</td>\n",
       "      <td>...</td>\n",
       "      <td>...</td>\n",
       "      <td>...</td>\n",
       "    </tr>\n",
       "    <tr>\n",
       "      <td>93607</td>\n",
       "      <td>2017-12-22</td>\n",
       "      <td>71.42</td>\n",
       "      <td>71.87</td>\n",
       "      <td>71.22</td>\n",
       "      <td>71.58</td>\n",
       "      <td>10979165</td>\n",
       "      <td>AABA</td>\n",
       "    </tr>\n",
       "    <tr>\n",
       "      <td>93608</td>\n",
       "      <td>2017-12-26</td>\n",
       "      <td>70.94</td>\n",
       "      <td>71.39</td>\n",
       "      <td>69.63</td>\n",
       "      <td>69.86</td>\n",
       "      <td>8542802</td>\n",
       "      <td>AABA</td>\n",
       "    </tr>\n",
       "    <tr>\n",
       "      <td>93609</td>\n",
       "      <td>2017-12-27</td>\n",
       "      <td>69.77</td>\n",
       "      <td>70.49</td>\n",
       "      <td>69.69</td>\n",
       "      <td>70.06</td>\n",
       "      <td>6345124</td>\n",
       "      <td>AABA</td>\n",
       "    </tr>\n",
       "    <tr>\n",
       "      <td>93610</td>\n",
       "      <td>2017-12-28</td>\n",
       "      <td>70.12</td>\n",
       "      <td>70.32</td>\n",
       "      <td>69.51</td>\n",
       "      <td>69.82</td>\n",
       "      <td>7556877</td>\n",
       "      <td>AABA</td>\n",
       "    </tr>\n",
       "    <tr>\n",
       "      <td>93611</td>\n",
       "      <td>2017-12-29</td>\n",
       "      <td>69.79</td>\n",
       "      <td>70.13</td>\n",
       "      <td>69.43</td>\n",
       "      <td>69.85</td>\n",
       "      <td>6613070</td>\n",
       "      <td>AABA</td>\n",
       "    </tr>\n",
       "  </tbody>\n",
       "</table>\n",
       "<p>93612 rows × 7 columns</p>\n",
       "</div>"
      ],
      "text/plain": [
       "             Date   Open   High    Low  Close    Volume  Name\n",
       "0      2006-01-03  77.76  79.35  77.24  79.11   3117200   MMM\n",
       "1      2006-01-04  79.49  79.49  78.25  78.71   2558000   MMM\n",
       "2      2006-01-05  78.41  78.65  77.56  77.99   2529500   MMM\n",
       "3      2006-01-06  78.64  78.90  77.64  78.63   2479500   MMM\n",
       "4      2006-01-09  78.50  79.83  78.46  79.02   1845600   MMM\n",
       "...           ...    ...    ...    ...    ...       ...   ...\n",
       "93607  2017-12-22  71.42  71.87  71.22  71.58  10979165  AABA\n",
       "93608  2017-12-26  70.94  71.39  69.63  69.86   8542802  AABA\n",
       "93609  2017-12-27  69.77  70.49  69.69  70.06   6345124  AABA\n",
       "93610  2017-12-28  70.12  70.32  69.51  69.82   7556877  AABA\n",
       "93611  2017-12-29  69.79  70.13  69.43  69.85   6613070  AABA\n",
       "\n",
       "[93612 rows x 7 columns]"
      ]
     },
     "execution_count": 3,
     "metadata": {},
     "output_type": "execute_result"
    }
   ],
   "source": [
    "data"
   ]
  },
  {
   "cell_type": "code",
   "execution_count": 4,
   "metadata": {},
   "outputs": [],
   "source": [
    "data=data[['Date','Close','Name']]\n"
   ]
  },
  {
   "cell_type": "code",
   "execution_count": 5,
   "metadata": {},
   "outputs": [
    {
     "data": {
      "text/html": [
       "<div>\n",
       "<style scoped>\n",
       "    .dataframe tbody tr th:only-of-type {\n",
       "        vertical-align: middle;\n",
       "    }\n",
       "\n",
       "    .dataframe tbody tr th {\n",
       "        vertical-align: top;\n",
       "    }\n",
       "\n",
       "    .dataframe thead th {\n",
       "        text-align: right;\n",
       "    }\n",
       "</style>\n",
       "<table border=\"1\" class=\"dataframe\">\n",
       "  <thead>\n",
       "    <tr style=\"text-align: right;\">\n",
       "      <th></th>\n",
       "      <th>Date</th>\n",
       "      <th>Close</th>\n",
       "      <th>Name</th>\n",
       "    </tr>\n",
       "  </thead>\n",
       "  <tbody>\n",
       "    <tr>\n",
       "      <td>0</td>\n",
       "      <td>2006-01-03</td>\n",
       "      <td>79.11</td>\n",
       "      <td>MMM</td>\n",
       "    </tr>\n",
       "    <tr>\n",
       "      <td>1</td>\n",
       "      <td>2006-01-04</td>\n",
       "      <td>78.71</td>\n",
       "      <td>MMM</td>\n",
       "    </tr>\n",
       "    <tr>\n",
       "      <td>2</td>\n",
       "      <td>2006-01-05</td>\n",
       "      <td>77.99</td>\n",
       "      <td>MMM</td>\n",
       "    </tr>\n",
       "    <tr>\n",
       "      <td>3</td>\n",
       "      <td>2006-01-06</td>\n",
       "      <td>78.63</td>\n",
       "      <td>MMM</td>\n",
       "    </tr>\n",
       "    <tr>\n",
       "      <td>4</td>\n",
       "      <td>2006-01-09</td>\n",
       "      <td>79.02</td>\n",
       "      <td>MMM</td>\n",
       "    </tr>\n",
       "    <tr>\n",
       "      <td>...</td>\n",
       "      <td>...</td>\n",
       "      <td>...</td>\n",
       "      <td>...</td>\n",
       "    </tr>\n",
       "    <tr>\n",
       "      <td>93607</td>\n",
       "      <td>2017-12-22</td>\n",
       "      <td>71.58</td>\n",
       "      <td>AABA</td>\n",
       "    </tr>\n",
       "    <tr>\n",
       "      <td>93608</td>\n",
       "      <td>2017-12-26</td>\n",
       "      <td>69.86</td>\n",
       "      <td>AABA</td>\n",
       "    </tr>\n",
       "    <tr>\n",
       "      <td>93609</td>\n",
       "      <td>2017-12-27</td>\n",
       "      <td>70.06</td>\n",
       "      <td>AABA</td>\n",
       "    </tr>\n",
       "    <tr>\n",
       "      <td>93610</td>\n",
       "      <td>2017-12-28</td>\n",
       "      <td>69.82</td>\n",
       "      <td>AABA</td>\n",
       "    </tr>\n",
       "    <tr>\n",
       "      <td>93611</td>\n",
       "      <td>2017-12-29</td>\n",
       "      <td>69.85</td>\n",
       "      <td>AABA</td>\n",
       "    </tr>\n",
       "  </tbody>\n",
       "</table>\n",
       "<p>93612 rows × 3 columns</p>\n",
       "</div>"
      ],
      "text/plain": [
       "             Date  Close  Name\n",
       "0      2006-01-03  79.11   MMM\n",
       "1      2006-01-04  78.71   MMM\n",
       "2      2006-01-05  77.99   MMM\n",
       "3      2006-01-06  78.63   MMM\n",
       "4      2006-01-09  79.02   MMM\n",
       "...           ...    ...   ...\n",
       "93607  2017-12-22  71.58  AABA\n",
       "93608  2017-12-26  69.86  AABA\n",
       "93609  2017-12-27  70.06  AABA\n",
       "93610  2017-12-28  69.82  AABA\n",
       "93611  2017-12-29  69.85  AABA\n",
       "\n",
       "[93612 rows x 3 columns]"
      ]
     },
     "execution_count": 5,
     "metadata": {},
     "output_type": "execute_result"
    }
   ],
   "source": [
    "data"
   ]
  },
  {
   "cell_type": "code",
   "execution_count": 7,
   "metadata": {},
   "outputs": [],
   "source": [
    "multi_ts=data.pivot_table(columns='Name',index='Date',values='Close')"
   ]
  },
  {
   "cell_type": "code",
   "execution_count": 8,
   "metadata": {},
   "outputs": [
    {
     "data": {
      "text/html": [
       "<div>\n",
       "<style scoped>\n",
       "    .dataframe tbody tr th:only-of-type {\n",
       "        vertical-align: middle;\n",
       "    }\n",
       "\n",
       "    .dataframe tbody tr th {\n",
       "        vertical-align: top;\n",
       "    }\n",
       "\n",
       "    .dataframe thead th {\n",
       "        text-align: right;\n",
       "    }\n",
       "</style>\n",
       "<table border=\"1\" class=\"dataframe\">\n",
       "  <thead>\n",
       "    <tr style=\"text-align: right;\">\n",
       "      <th>Name</th>\n",
       "      <th>AABA</th>\n",
       "      <th>AAPL</th>\n",
       "      <th>AMZN</th>\n",
       "      <th>AXP</th>\n",
       "      <th>BA</th>\n",
       "      <th>CAT</th>\n",
       "      <th>CSCO</th>\n",
       "      <th>CVX</th>\n",
       "      <th>DIS</th>\n",
       "      <th>GE</th>\n",
       "      <th>...</th>\n",
       "      <th>MSFT</th>\n",
       "      <th>NKE</th>\n",
       "      <th>PFE</th>\n",
       "      <th>PG</th>\n",
       "      <th>TRV</th>\n",
       "      <th>UNH</th>\n",
       "      <th>UTX</th>\n",
       "      <th>VZ</th>\n",
       "      <th>WMT</th>\n",
       "      <th>XOM</th>\n",
       "    </tr>\n",
       "    <tr>\n",
       "      <th>Date</th>\n",
       "      <th></th>\n",
       "      <th></th>\n",
       "      <th></th>\n",
       "      <th></th>\n",
       "      <th></th>\n",
       "      <th></th>\n",
       "      <th></th>\n",
       "      <th></th>\n",
       "      <th></th>\n",
       "      <th></th>\n",
       "      <th></th>\n",
       "      <th></th>\n",
       "      <th></th>\n",
       "      <th></th>\n",
       "      <th></th>\n",
       "      <th></th>\n",
       "      <th></th>\n",
       "      <th></th>\n",
       "      <th></th>\n",
       "      <th></th>\n",
       "      <th></th>\n",
       "    </tr>\n",
       "  </thead>\n",
       "  <tbody>\n",
       "    <tr>\n",
       "      <td>2006-01-03</td>\n",
       "      <td>40.91</td>\n",
       "      <td>10.68</td>\n",
       "      <td>47.58</td>\n",
       "      <td>52.58</td>\n",
       "      <td>70.44</td>\n",
       "      <td>57.80</td>\n",
       "      <td>17.45</td>\n",
       "      <td>59.08</td>\n",
       "      <td>24.40</td>\n",
       "      <td>35.37</td>\n",
       "      <td>...</td>\n",
       "      <td>26.84</td>\n",
       "      <td>10.74</td>\n",
       "      <td>23.78</td>\n",
       "      <td>58.78</td>\n",
       "      <td>45.99</td>\n",
       "      <td>61.73</td>\n",
       "      <td>56.53</td>\n",
       "      <td>30.38</td>\n",
       "      <td>46.23</td>\n",
       "      <td>58.47</td>\n",
       "    </tr>\n",
       "    <tr>\n",
       "      <td>2006-01-04</td>\n",
       "      <td>40.97</td>\n",
       "      <td>10.71</td>\n",
       "      <td>47.25</td>\n",
       "      <td>51.95</td>\n",
       "      <td>71.17</td>\n",
       "      <td>59.27</td>\n",
       "      <td>17.85</td>\n",
       "      <td>58.91</td>\n",
       "      <td>23.99</td>\n",
       "      <td>35.32</td>\n",
       "      <td>...</td>\n",
       "      <td>26.97</td>\n",
       "      <td>10.69</td>\n",
       "      <td>24.55</td>\n",
       "      <td>58.89</td>\n",
       "      <td>46.50</td>\n",
       "      <td>61.88</td>\n",
       "      <td>56.19</td>\n",
       "      <td>31.27</td>\n",
       "      <td>46.32</td>\n",
       "      <td>58.57</td>\n",
       "    </tr>\n",
       "    <tr>\n",
       "      <td>2006-01-05</td>\n",
       "      <td>41.53</td>\n",
       "      <td>10.63</td>\n",
       "      <td>47.65</td>\n",
       "      <td>52.50</td>\n",
       "      <td>70.33</td>\n",
       "      <td>59.27</td>\n",
       "      <td>18.35</td>\n",
       "      <td>58.19</td>\n",
       "      <td>24.41</td>\n",
       "      <td>35.23</td>\n",
       "      <td>...</td>\n",
       "      <td>26.99</td>\n",
       "      <td>10.76</td>\n",
       "      <td>24.58</td>\n",
       "      <td>58.70</td>\n",
       "      <td>46.95</td>\n",
       "      <td>61.69</td>\n",
       "      <td>55.98</td>\n",
       "      <td>31.63</td>\n",
       "      <td>45.69</td>\n",
       "      <td>58.28</td>\n",
       "    </tr>\n",
       "    <tr>\n",
       "      <td>2006-01-06</td>\n",
       "      <td>43.21</td>\n",
       "      <td>10.90</td>\n",
       "      <td>47.87</td>\n",
       "      <td>52.68</td>\n",
       "      <td>69.35</td>\n",
       "      <td>60.45</td>\n",
       "      <td>18.77</td>\n",
       "      <td>59.25</td>\n",
       "      <td>24.74</td>\n",
       "      <td>35.47</td>\n",
       "      <td>...</td>\n",
       "      <td>26.91</td>\n",
       "      <td>10.72</td>\n",
       "      <td>24.85</td>\n",
       "      <td>58.64</td>\n",
       "      <td>47.21</td>\n",
       "      <td>62.90</td>\n",
       "      <td>56.16</td>\n",
       "      <td>31.35</td>\n",
       "      <td>45.88</td>\n",
       "      <td>59.43</td>\n",
       "    </tr>\n",
       "    <tr>\n",
       "      <td>2006-01-09</td>\n",
       "      <td>43.42</td>\n",
       "      <td>10.86</td>\n",
       "      <td>47.08</td>\n",
       "      <td>53.99</td>\n",
       "      <td>68.77</td>\n",
       "      <td>61.55</td>\n",
       "      <td>19.06</td>\n",
       "      <td>58.95</td>\n",
       "      <td>25.00</td>\n",
       "      <td>35.38</td>\n",
       "      <td>...</td>\n",
       "      <td>26.86</td>\n",
       "      <td>10.88</td>\n",
       "      <td>24.85</td>\n",
       "      <td>59.08</td>\n",
       "      <td>47.23</td>\n",
       "      <td>61.40</td>\n",
       "      <td>56.80</td>\n",
       "      <td>31.48</td>\n",
       "      <td>45.71</td>\n",
       "      <td>59.40</td>\n",
       "    </tr>\n",
       "  </tbody>\n",
       "</table>\n",
       "<p>5 rows × 31 columns</p>\n",
       "</div>"
      ],
      "text/plain": [
       "Name         AABA   AAPL   AMZN    AXP     BA    CAT   CSCO    CVX    DIS  \\\n",
       "Date                                                                        \n",
       "2006-01-03  40.91  10.68  47.58  52.58  70.44  57.80  17.45  59.08  24.40   \n",
       "2006-01-04  40.97  10.71  47.25  51.95  71.17  59.27  17.85  58.91  23.99   \n",
       "2006-01-05  41.53  10.63  47.65  52.50  70.33  59.27  18.35  58.19  24.41   \n",
       "2006-01-06  43.21  10.90  47.87  52.68  69.35  60.45  18.77  59.25  24.74   \n",
       "2006-01-09  43.42  10.86  47.08  53.99  68.77  61.55  19.06  58.95  25.00   \n",
       "\n",
       "Name           GE  ...   MSFT    NKE    PFE     PG    TRV    UNH    UTX  \\\n",
       "Date               ...                                                    \n",
       "2006-01-03  35.37  ...  26.84  10.74  23.78  58.78  45.99  61.73  56.53   \n",
       "2006-01-04  35.32  ...  26.97  10.69  24.55  58.89  46.50  61.88  56.19   \n",
       "2006-01-05  35.23  ...  26.99  10.76  24.58  58.70  46.95  61.69  55.98   \n",
       "2006-01-06  35.47  ...  26.91  10.72  24.85  58.64  47.21  62.90  56.16   \n",
       "2006-01-09  35.38  ...  26.86  10.88  24.85  59.08  47.23  61.40  56.80   \n",
       "\n",
       "Name           VZ    WMT    XOM  \n",
       "Date                             \n",
       "2006-01-03  30.38  46.23  58.47  \n",
       "2006-01-04  31.27  46.32  58.57  \n",
       "2006-01-05  31.63  45.69  58.28  \n",
       "2006-01-06  31.35  45.88  59.43  \n",
       "2006-01-09  31.48  45.71  59.40  \n",
       "\n",
       "[5 rows x 31 columns]"
      ]
     },
     "execution_count": 8,
     "metadata": {},
     "output_type": "execute_result"
    }
   ],
   "source": [
    "multi_ts.head()"
   ]
  },
  {
   "cell_type": "code",
   "execution_count": 12,
   "metadata": {},
   "outputs": [
    {
     "data": {
      "text/plain": [
       "Name\n",
       "AABA     1\n",
       "AAPL     1\n",
       "AMZN     1\n",
       "AXP      0\n",
       "BA       0\n",
       "CAT      0\n",
       "CSCO     1\n",
       "CVX      0\n",
       "DIS      0\n",
       "GE       0\n",
       "GOOGL    1\n",
       "GS       0\n",
       "HD       0\n",
       "IBM      0\n",
       "INTC     1\n",
       "JNJ      0\n",
       "JPM      0\n",
       "KO       0\n",
       "MCD      0\n",
       "MMM      0\n",
       "MRK      1\n",
       "MSFT     1\n",
       "NKE      0\n",
       "PFE      0\n",
       "PG       0\n",
       "TRV      0\n",
       "UNH      0\n",
       "UTX      0\n",
       "VZ       0\n",
       "WMT      0\n",
       "XOM      0\n",
       "dtype: int64"
      ]
     },
     "execution_count": 12,
     "metadata": {},
     "output_type": "execute_result"
    }
   ],
   "source": [
    "multi_ts.isna().sum()"
   ]
  },
  {
   "cell_type": "code",
   "execution_count": 13,
   "metadata": {},
   "outputs": [],
   "source": [
    "multi_ts.fillna(0,inplace=True)"
   ]
  },
  {
   "cell_type": "code",
   "execution_count": 14,
   "metadata": {},
   "outputs": [
    {
     "data": {
      "text/plain": [
       "Index(['AABA', 'AAPL', 'AMZN', 'AXP', 'BA', 'CAT', 'CSCO', 'CVX', 'DIS', 'GE',\n",
       "       'GOOGL', 'GS', 'HD', 'IBM', 'INTC', 'JNJ', 'JPM', 'KO', 'MCD', 'MMM',\n",
       "       'MRK', 'MSFT', 'NKE', 'PFE', 'PG', 'TRV', 'UNH', 'UTX', 'VZ', 'WMT',\n",
       "       'XOM'],\n",
       "      dtype='object', name='Name')"
      ]
     },
     "execution_count": 14,
     "metadata": {},
     "output_type": "execute_result"
    }
   ],
   "source": [
    "multi_ts.columns"
   ]
  },
  {
   "cell_type": "code",
   "execution_count": 15,
   "metadata": {},
   "outputs": [],
   "source": [
    "scalar=MinMaxScaler(feature_range=(0,1))"
   ]
  },
  {
   "cell_type": "code",
   "execution_count": 16,
   "metadata": {},
   "outputs": [
    {
     "data": {
      "text/plain": [
       "MinMaxScaler(copy=True, feature_range=(0, 1))"
      ]
     },
     "execution_count": 16,
     "metadata": {},
     "output_type": "execute_result"
    }
   ],
   "source": [
    "scalar"
   ]
  },
  {
   "cell_type": "code",
   "execution_count": 17,
   "metadata": {},
   "outputs": [],
   "source": [
    "multi_ts=np.array(multi_ts)"
   ]
  },
  {
   "cell_type": "code",
   "execution_count": 21,
   "metadata": {},
   "outputs": [],
   "source": [
    "train_fraction=0.70\n",
    "\n",
    "train_ts=int(len(multi_ts)*train_fraction)\n",
    "test_ts=len(multi_ts)-train_ts\n",
    "train_data,test_data=multi_ts[0:train_ts,],multi_ts[train_ts:len(multi_ts),]"
   ]
  },
  {
   "cell_type": "code",
   "execution_count": 22,
   "metadata": {},
   "outputs": [
    {
     "data": {
      "text/plain": [
       "(906, 31)"
      ]
     },
     "execution_count": 22,
     "metadata": {},
     "output_type": "execute_result"
    }
   ],
   "source": [
    "train_data.shape\n",
    "test_data.shape"
   ]
  },
  {
   "cell_type": "code",
   "execution_count": 23,
   "metadata": {},
   "outputs": [
    {
     "data": {
      "text/plain": [
       "MinMaxScaler(copy=True, feature_range=(0, 1))"
      ]
     },
     "execution_count": 23,
     "metadata": {},
     "output_type": "execute_result"
    }
   ],
   "source": [
    "scalar.fit(train_data)"
   ]
  },
  {
   "cell_type": "code",
   "execution_count": 24,
   "metadata": {},
   "outputs": [],
   "source": [
    "sd_train=scalar.transform(train_data)\n",
    "sd_test=scalar.transform(test_data)"
   ]
  },
  {
   "cell_type": "code",
   "execution_count": 28,
   "metadata": {},
   "outputs": [
    {
     "data": {
      "text/plain": [
       "array([[0.94219254, 0.10648056, 0.11688982, ..., 0.18383628, 0.10169492,\n",
       "        0.0408251 ],\n",
       "       [0.94357439, 0.10677966, 0.11607911, ..., 0.2147069 , 0.10400616,\n",
       "        0.04297379],\n",
       "       [0.95647167, 0.10598205, 0.11706179, ..., 0.2271939 , 0.08782743,\n",
       "        0.03674259],\n",
       "       ...,\n",
       "       [0.80654076, 0.87467597, 0.76708021, ..., 0.855359  , 0.85618901,\n",
       "        0.96153846],\n",
       "       [0.80884385, 0.89112662, 0.7635917 , ..., 0.85119667, 0.8556754 ,\n",
       "        0.96239794],\n",
       "       [0.80101336, 0.8887338 , 0.76197027, ..., 0.855359  , 0.85413457,\n",
       "        0.95595187]])"
      ]
     },
     "execution_count": 28,
     "metadata": {},
     "output_type": "execute_result"
    }
   ],
   "source": [
    "sd_train"
   ]
  },
  {
   "cell_type": "code",
   "execution_count": 32,
   "metadata": {},
   "outputs": [
    {
     "data": {
      "text/plain": [
       "array([[0.94219254, 0.10648056, 0.11688982, 0.5062201 , 0.35718633,\n",
       "        0.37892162, 0.51203052, 0.06786102, 0.12927366, 0.80964467,\n",
       "        0.35668905, 0.39235402, 0.3580342 , 0.07163682, 0.87628513,\n",
       "        0.2745707 , 0.53774629, 0.06330161, 0.02205164, 0.36914546,\n",
       "        0.53891723, 0.64799614, 0.04011838, 0.57467994, 0.35411108,\n",
       "        0.24591205, 0.68885519, 0.23047017, 0.18383628, 0.10169492,\n",
       "        0.0408251 ]])"
      ]
     },
     "execution_count": 32,
     "metadata": {},
     "output_type": "execute_result"
    }
   ],
   "source": [
    "sd_train[0:(1),]\n"
   ]
  },
  {
   "cell_type": "code",
   "execution_count": 34,
   "metadata": {},
   "outputs": [
    {
     "data": {
      "text/plain": [
       "array([0.94357439, 0.10677966, 0.11607911, 0.49868421, 0.36353361,\n",
       "       0.39455493, 0.52376761, 0.06555375, 0.12325752, 0.80823463,\n",
       "       0.36489275, 0.38326868, 0.34632568, 0.07087325, 0.88793694,\n",
       "       0.29192547, 0.5251273 , 0.06164667, 0.02623866, 0.36518467,\n",
       "       0.54517031, 0.65113472, 0.03847419, 0.61119014, 0.35677904,\n",
       "       0.25400857, 0.69112964, 0.22633945, 0.2147069 , 0.10400616,\n",
       "       0.04297379])"
      ]
     },
     "execution_count": 34,
     "metadata": {},
     "output_type": "execute_result"
    }
   ],
   "source": [
    "sd_train[1,]"
   ]
  },
  {
   "cell_type": "code",
   "execution_count": 39,
   "metadata": {},
   "outputs": [],
   "source": [
    "def create_dataset(dataset,windowsize=1):\n",
    "    data_X,data_Y=[],[]\n",
    "    for i in range(int(len(dataset))-windowsize):\n",
    "        a=dataset[i:(i+windowsize),]\n",
    "        data_X.append(a)\n",
    "        data_Y.append(dataset[i+windowsize],)\n",
    "    return (np.array(data_X),np.array(data_Y))"
   ]
  },
  {
   "cell_type": "code",
   "execution_count": 41,
   "metadata": {},
   "outputs": [],
   "source": [
    "windowsize=10\n",
    "train_X,train_Y=create_dataset(sd_train,windowsize)\n",
    "test_X,test_Y=create_dataset(sd_test,windowsize)\n"
   ]
  },
  {
   "cell_type": "code",
   "execution_count": 42,
   "metadata": {},
   "outputs": [
    {
     "data": {
      "text/plain": [
       "(2104, 10, 31)"
      ]
     },
     "execution_count": 42,
     "metadata": {},
     "output_type": "execute_result"
    }
   ],
   "source": [
    "train_X.shape"
   ]
  },
  {
   "cell_type": "code",
   "execution_count": 43,
   "metadata": {},
   "outputs": [
    {
     "data": {
      "text/plain": [
       "(896, 10, 31)"
      ]
     },
     "execution_count": 43,
     "metadata": {},
     "output_type": "execute_result"
    }
   ],
   "source": [
    "test_X.shape"
   ]
  },
  {
   "cell_type": "code",
   "execution_count": 44,
   "metadata": {},
   "outputs": [
    {
     "data": {
      "text/plain": [
       "(2104, 31)"
      ]
     },
     "execution_count": 44,
     "metadata": {},
     "output_type": "execute_result"
    }
   ],
   "source": [
    "train_Y.shape"
   ]
  },
  {
   "cell_type": "code",
   "execution_count": 50,
   "metadata": {},
   "outputs": [
    {
     "name": "stdout",
     "output_type": "stream",
     "text": [
      "Train on 2104 samples\n",
      "Epoch 1/3\n",
      "2104/2104 - 33s - loss: 0.0017\n",
      "Epoch 2/3\n",
      "2104/2104 - 21s - loss: 0.0020\n",
      "Epoch 3/3\n",
      "2104/2104 - 20s - loss: 0.0022\n"
     ]
    },
    {
     "data": {
      "text/plain": [
       "<tensorflow.python.keras.callbacks.History at 0x17f9cec8>"
      ]
     },
     "execution_count": 50,
     "metadata": {},
     "output_type": "execute_result"
    }
   ],
   "source": [
    "model=Sequential()\n",
    "model.add(LSTM(100,input_shape=(windowsize,31)))\n",
    "model.add(Dense(50))\n",
    "model.add(Dense(31))\n",
    "model.compile(loss='mean_squared_error',optimizer='adam')\n",
    "model.fit(train_X,train_Y,verbose=2,batch_size=1,epochs=3,shuffle=False)"
   ]
  },
  {
   "cell_type": "code",
   "execution_count": 51,
   "metadata": {},
   "outputs": [
    {
     "name": "stdout",
     "output_type": "stream",
     "text": [
      "Model: \"sequential_4\"\n",
      "_________________________________________________________________\n",
      "Layer (type)                 Output Shape              Param #   \n",
      "=================================================================\n",
      "lstm (LSTM)                  (None, 100)               52800     \n",
      "_________________________________________________________________\n",
      "dense (Dense)                (None, 50)                5050      \n",
      "_________________________________________________________________\n",
      "dense_1 (Dense)              (None, 31)                1581      \n",
      "=================================================================\n",
      "Total params: 59,431\n",
      "Trainable params: 59,431\n",
      "Non-trainable params: 0\n",
      "_________________________________________________________________\n"
     ]
    }
   ],
   "source": [
    "model.summary()"
   ]
  },
  {
   "cell_type": "code",
   "execution_count": 52,
   "metadata": {},
   "outputs": [],
   "source": [
    "testpredict=model.predict(test_X)"
   ]
  },
  {
   "cell_type": "code",
   "execution_count": 53,
   "metadata": {},
   "outputs": [
    {
     "data": {
      "text/plain": [
       "(896, 31)"
      ]
     },
     "execution_count": 53,
     "metadata": {},
     "output_type": "execute_result"
    }
   ],
   "source": [
    "testpredictedictedictedictedict.shape"
   ]
  },
  {
   "cell_type": "code",
   "execution_count": 54,
   "metadata": {},
   "outputs": [],
   "source": [
    "testpredict=scalar.inverse_transform(testpredict)\n",
    "test_Y=scalar.inverse_transform(test_Y)"
   ]
  },
  {
   "cell_type": "code",
   "execution_count": 55,
   "metadata": {},
   "outputs": [
    {
     "data": {
      "text/plain": [
       "34.69303488973099"
      ]
     },
     "execution_count": 55,
     "metadata": {},
     "output_type": "execute_result"
    }
   ],
   "source": [
    "import math\n",
    "test_score=mean_absolute_error(test_Y,testpredict)\n",
    "test_score"
   ]
  },
  {
   "cell_type": "code",
   "execution_count": 57,
   "metadata": {},
   "outputs": [
    {
     "data": {
      "text/html": [
       "<div>\n",
       "<style scoped>\n",
       "    .dataframe tbody tr th:only-of-type {\n",
       "        vertical-align: middle;\n",
       "    }\n",
       "\n",
       "    .dataframe tbody tr th {\n",
       "        vertical-align: top;\n",
       "    }\n",
       "\n",
       "    .dataframe thead th {\n",
       "        text-align: right;\n",
       "    }\n",
       "</style>\n",
       "<table border=\"1\" class=\"dataframe\">\n",
       "  <thead>\n",
       "    <tr style=\"text-align: right;\">\n",
       "      <th></th>\n",
       "      <th>0</th>\n",
       "      <th>1</th>\n",
       "      <th>2</th>\n",
       "      <th>3</th>\n",
       "      <th>4</th>\n",
       "      <th>5</th>\n",
       "      <th>6</th>\n",
       "      <th>7</th>\n",
       "      <th>8</th>\n",
       "      <th>9</th>\n",
       "      <th>...</th>\n",
       "      <th>21</th>\n",
       "      <th>22</th>\n",
       "      <th>23</th>\n",
       "      <th>24</th>\n",
       "      <th>25</th>\n",
       "      <th>26</th>\n",
       "      <th>27</th>\n",
       "      <th>28</th>\n",
       "      <th>29</th>\n",
       "      <th>30</th>\n",
       "    </tr>\n",
       "  </thead>\n",
       "  <tbody>\n",
       "    <tr>\n",
       "      <td>0</td>\n",
       "      <td>34.003971</td>\n",
       "      <td>88.203644</td>\n",
       "      <td>295.091492</td>\n",
       "      <td>89.014275</td>\n",
       "      <td>131.927490</td>\n",
       "      <td>104.530502</td>\n",
       "      <td>24.076298</td>\n",
       "      <td>124.580132</td>\n",
       "      <td>82.159042</td>\n",
       "      <td>26.464432</td>\n",
       "      <td>...</td>\n",
       "      <td>40.057331</td>\n",
       "      <td>37.190849</td>\n",
       "      <td>28.811396</td>\n",
       "      <td>80.640953</td>\n",
       "      <td>93.636322</td>\n",
       "      <td>77.815323</td>\n",
       "      <td>114.037903</td>\n",
       "      <td>48.696491</td>\n",
       "      <td>76.916283</td>\n",
       "      <td>102.593246</td>\n",
       "    </tr>\n",
       "    <tr>\n",
       "      <td>1</td>\n",
       "      <td>33.983212</td>\n",
       "      <td>88.107788</td>\n",
       "      <td>294.843323</td>\n",
       "      <td>88.951401</td>\n",
       "      <td>131.822281</td>\n",
       "      <td>104.456779</td>\n",
       "      <td>24.032179</td>\n",
       "      <td>124.521004</td>\n",
       "      <td>82.101616</td>\n",
       "      <td>26.437788</td>\n",
       "      <td>...</td>\n",
       "      <td>40.030434</td>\n",
       "      <td>37.160179</td>\n",
       "      <td>28.797262</td>\n",
       "      <td>80.612961</td>\n",
       "      <td>93.590530</td>\n",
       "      <td>77.759422</td>\n",
       "      <td>113.957344</td>\n",
       "      <td>48.670681</td>\n",
       "      <td>76.868126</td>\n",
       "      <td>102.517525</td>\n",
       "    </tr>\n",
       "    <tr>\n",
       "      <td>2</td>\n",
       "      <td>33.968769</td>\n",
       "      <td>88.103340</td>\n",
       "      <td>294.824127</td>\n",
       "      <td>88.927986</td>\n",
       "      <td>131.797699</td>\n",
       "      <td>104.438583</td>\n",
       "      <td>24.040911</td>\n",
       "      <td>124.494522</td>\n",
       "      <td>82.081848</td>\n",
       "      <td>26.445593</td>\n",
       "      <td>...</td>\n",
       "      <td>40.012440</td>\n",
       "      <td>37.158447</td>\n",
       "      <td>28.791460</td>\n",
       "      <td>80.595108</td>\n",
       "      <td>93.562149</td>\n",
       "      <td>77.750351</td>\n",
       "      <td>113.949081</td>\n",
       "      <td>48.667400</td>\n",
       "      <td>76.865662</td>\n",
       "      <td>102.528557</td>\n",
       "    </tr>\n",
       "    <tr>\n",
       "      <td>3</td>\n",
       "      <td>33.977005</td>\n",
       "      <td>88.115555</td>\n",
       "      <td>294.925018</td>\n",
       "      <td>88.952042</td>\n",
       "      <td>131.801422</td>\n",
       "      <td>104.450432</td>\n",
       "      <td>24.047209</td>\n",
       "      <td>124.506073</td>\n",
       "      <td>82.092812</td>\n",
       "      <td>26.457853</td>\n",
       "      <td>...</td>\n",
       "      <td>40.019699</td>\n",
       "      <td>37.166733</td>\n",
       "      <td>28.798237</td>\n",
       "      <td>80.604027</td>\n",
       "      <td>93.579193</td>\n",
       "      <td>77.770462</td>\n",
       "      <td>113.969620</td>\n",
       "      <td>48.670326</td>\n",
       "      <td>76.873680</td>\n",
       "      <td>102.541412</td>\n",
       "    </tr>\n",
       "    <tr>\n",
       "      <td>4</td>\n",
       "      <td>33.984837</td>\n",
       "      <td>88.134705</td>\n",
       "      <td>294.990692</td>\n",
       "      <td>88.974319</td>\n",
       "      <td>131.822220</td>\n",
       "      <td>104.469368</td>\n",
       "      <td>24.053938</td>\n",
       "      <td>124.522667</td>\n",
       "      <td>82.107384</td>\n",
       "      <td>26.464714</td>\n",
       "      <td>...</td>\n",
       "      <td>40.028454</td>\n",
       "      <td>37.173897</td>\n",
       "      <td>28.803307</td>\n",
       "      <td>80.614380</td>\n",
       "      <td>93.595322</td>\n",
       "      <td>77.786278</td>\n",
       "      <td>113.990761</td>\n",
       "      <td>48.675053</td>\n",
       "      <td>76.883141</td>\n",
       "      <td>102.554817</td>\n",
       "    </tr>\n",
       "    <tr>\n",
       "      <td>...</td>\n",
       "      <td>...</td>\n",
       "      <td>...</td>\n",
       "      <td>...</td>\n",
       "      <td>...</td>\n",
       "      <td>...</td>\n",
       "      <td>...</td>\n",
       "      <td>...</td>\n",
       "      <td>...</td>\n",
       "      <td>...</td>\n",
       "      <td>...</td>\n",
       "      <td>...</td>\n",
       "      <td>...</td>\n",
       "      <td>...</td>\n",
       "      <td>...</td>\n",
       "      <td>...</td>\n",
       "      <td>...</td>\n",
       "      <td>...</td>\n",
       "      <td>...</td>\n",
       "      <td>...</td>\n",
       "      <td>...</td>\n",
       "      <td>...</td>\n",
       "    </tr>\n",
       "    <tr>\n",
       "      <td>891</td>\n",
       "      <td>34.397182</td>\n",
       "      <td>90.912140</td>\n",
       "      <td>299.204529</td>\n",
       "      <td>90.396744</td>\n",
       "      <td>135.197174</td>\n",
       "      <td>106.294144</td>\n",
       "      <td>25.374550</td>\n",
       "      <td>126.140663</td>\n",
       "      <td>83.499962</td>\n",
       "      <td>27.002686</td>\n",
       "      <td>...</td>\n",
       "      <td>40.683777</td>\n",
       "      <td>37.890297</td>\n",
       "      <td>29.066458</td>\n",
       "      <td>81.192940</td>\n",
       "      <td>94.473610</td>\n",
       "      <td>79.048264</td>\n",
       "      <td>115.930946</td>\n",
       "      <td>49.426304</td>\n",
       "      <td>78.225365</td>\n",
       "      <td>104.687370</td>\n",
       "    </tr>\n",
       "    <tr>\n",
       "      <td>892</td>\n",
       "      <td>34.382900</td>\n",
       "      <td>90.871788</td>\n",
       "      <td>299.145660</td>\n",
       "      <td>90.363976</td>\n",
       "      <td>135.142761</td>\n",
       "      <td>106.259918</td>\n",
       "      <td>25.362608</td>\n",
       "      <td>126.106163</td>\n",
       "      <td>83.470467</td>\n",
       "      <td>26.998224</td>\n",
       "      <td>...</td>\n",
       "      <td>40.665630</td>\n",
       "      <td>37.879799</td>\n",
       "      <td>29.059549</td>\n",
       "      <td>81.175217</td>\n",
       "      <td>94.447693</td>\n",
       "      <td>79.026947</td>\n",
       "      <td>115.897408</td>\n",
       "      <td>49.415089</td>\n",
       "      <td>78.207237</td>\n",
       "      <td>104.664909</td>\n",
       "    </tr>\n",
       "    <tr>\n",
       "      <td>893</td>\n",
       "      <td>34.376266</td>\n",
       "      <td>90.849663</td>\n",
       "      <td>299.127106</td>\n",
       "      <td>90.348976</td>\n",
       "      <td>135.113464</td>\n",
       "      <td>106.241623</td>\n",
       "      <td>25.356077</td>\n",
       "      <td>126.088989</td>\n",
       "      <td>83.455482</td>\n",
       "      <td>26.996498</td>\n",
       "      <td>...</td>\n",
       "      <td>40.656673</td>\n",
       "      <td>37.874687</td>\n",
       "      <td>29.056763</td>\n",
       "      <td>81.166733</td>\n",
       "      <td>94.436401</td>\n",
       "      <td>79.017342</td>\n",
       "      <td>115.879929</td>\n",
       "      <td>49.409153</td>\n",
       "      <td>78.197876</td>\n",
       "      <td>104.652573</td>\n",
       "    </tr>\n",
       "    <tr>\n",
       "      <td>894</td>\n",
       "      <td>34.380070</td>\n",
       "      <td>90.862320</td>\n",
       "      <td>299.154785</td>\n",
       "      <td>90.358803</td>\n",
       "      <td>135.128998</td>\n",
       "      <td>106.252060</td>\n",
       "      <td>25.361086</td>\n",
       "      <td>126.098228</td>\n",
       "      <td>83.463905</td>\n",
       "      <td>26.999264</td>\n",
       "      <td>...</td>\n",
       "      <td>40.661415</td>\n",
       "      <td>37.878609</td>\n",
       "      <td>29.058987</td>\n",
       "      <td>81.171455</td>\n",
       "      <td>94.444168</td>\n",
       "      <td>79.024994</td>\n",
       "      <td>115.890732</td>\n",
       "      <td>49.412727</td>\n",
       "      <td>78.203972</td>\n",
       "      <td>104.661385</td>\n",
       "    </tr>\n",
       "    <tr>\n",
       "      <td>895</td>\n",
       "      <td>34.380741</td>\n",
       "      <td>90.867989</td>\n",
       "      <td>299.167938</td>\n",
       "      <td>90.361671</td>\n",
       "      <td>135.133926</td>\n",
       "      <td>106.255211</td>\n",
       "      <td>25.364393</td>\n",
       "      <td>126.100426</td>\n",
       "      <td>83.466156</td>\n",
       "      <td>27.001461</td>\n",
       "      <td>...</td>\n",
       "      <td>40.662228</td>\n",
       "      <td>37.880394</td>\n",
       "      <td>29.059637</td>\n",
       "      <td>81.172112</td>\n",
       "      <td>94.445541</td>\n",
       "      <td>79.028214</td>\n",
       "      <td>115.895226</td>\n",
       "      <td>49.414219</td>\n",
       "      <td>78.206757</td>\n",
       "      <td>104.666710</td>\n",
       "    </tr>\n",
       "  </tbody>\n",
       "</table>\n",
       "<p>896 rows × 31 columns</p>\n",
       "</div>"
      ],
      "text/plain": [
       "            0          1           2          3           4           5   \\\n",
       "0    34.003971  88.203644  295.091492  89.014275  131.927490  104.530502   \n",
       "1    33.983212  88.107788  294.843323  88.951401  131.822281  104.456779   \n",
       "2    33.968769  88.103340  294.824127  88.927986  131.797699  104.438583   \n",
       "3    33.977005  88.115555  294.925018  88.952042  131.801422  104.450432   \n",
       "4    33.984837  88.134705  294.990692  88.974319  131.822220  104.469368   \n",
       "..         ...        ...         ...        ...         ...         ...   \n",
       "891  34.397182  90.912140  299.204529  90.396744  135.197174  106.294144   \n",
       "892  34.382900  90.871788  299.145660  90.363976  135.142761  106.259918   \n",
       "893  34.376266  90.849663  299.127106  90.348976  135.113464  106.241623   \n",
       "894  34.380070  90.862320  299.154785  90.358803  135.128998  106.252060   \n",
       "895  34.380741  90.867989  299.167938  90.361671  135.133926  106.255211   \n",
       "\n",
       "            6           7          8          9   ...         21         22  \\\n",
       "0    24.076298  124.580132  82.159042  26.464432  ...  40.057331  37.190849   \n",
       "1    24.032179  124.521004  82.101616  26.437788  ...  40.030434  37.160179   \n",
       "2    24.040911  124.494522  82.081848  26.445593  ...  40.012440  37.158447   \n",
       "3    24.047209  124.506073  82.092812  26.457853  ...  40.019699  37.166733   \n",
       "4    24.053938  124.522667  82.107384  26.464714  ...  40.028454  37.173897   \n",
       "..         ...         ...        ...        ...  ...        ...        ...   \n",
       "891  25.374550  126.140663  83.499962  27.002686  ...  40.683777  37.890297   \n",
       "892  25.362608  126.106163  83.470467  26.998224  ...  40.665630  37.879799   \n",
       "893  25.356077  126.088989  83.455482  26.996498  ...  40.656673  37.874687   \n",
       "894  25.361086  126.098228  83.463905  26.999264  ...  40.661415  37.878609   \n",
       "895  25.364393  126.100426  83.466156  27.001461  ...  40.662228  37.880394   \n",
       "\n",
       "            23         24         25         26          27         28  \\\n",
       "0    28.811396  80.640953  93.636322  77.815323  114.037903  48.696491   \n",
       "1    28.797262  80.612961  93.590530  77.759422  113.957344  48.670681   \n",
       "2    28.791460  80.595108  93.562149  77.750351  113.949081  48.667400   \n",
       "3    28.798237  80.604027  93.579193  77.770462  113.969620  48.670326   \n",
       "4    28.803307  80.614380  93.595322  77.786278  113.990761  48.675053   \n",
       "..         ...        ...        ...        ...         ...        ...   \n",
       "891  29.066458  81.192940  94.473610  79.048264  115.930946  49.426304   \n",
       "892  29.059549  81.175217  94.447693  79.026947  115.897408  49.415089   \n",
       "893  29.056763  81.166733  94.436401  79.017342  115.879929  49.409153   \n",
       "894  29.058987  81.171455  94.444168  79.024994  115.890732  49.412727   \n",
       "895  29.059637  81.172112  94.445541  79.028214  115.895226  49.414219   \n",
       "\n",
       "            29          30  \n",
       "0    76.916283  102.593246  \n",
       "1    76.868126  102.517525  \n",
       "2    76.865662  102.528557  \n",
       "3    76.873680  102.541412  \n",
       "4    76.883141  102.554817  \n",
       "..         ...         ...  \n",
       "891  78.225365  104.687370  \n",
       "892  78.207237  104.664909  \n",
       "893  78.197876  104.652573  \n",
       "894  78.203972  104.661385  \n",
       "895  78.206757  104.666710  \n",
       "\n",
       "[896 rows x 31 columns]"
      ]
     },
     "execution_count": 57,
     "metadata": {},
     "output_type": "execute_result"
    }
   ],
   "source": [
    "pd.DataFrame(testpredict)"
   ]
  },
  {
   "cell_type": "code",
   "execution_count": 58,
   "metadata": {},
   "outputs": [
    {
     "data": {
      "text/plain": [
       "(906, 31)"
      ]
     },
     "execution_count": 58,
     "metadata": {},
     "output_type": "execute_result"
    }
   ],
   "source": [
    "test_data.shape"
   ]
  },
  {
   "cell_type": "code",
   "execution_count": 59,
   "metadata": {},
   "outputs": [
    {
     "data": {
      "text/plain": [
       "(2114, 31)"
      ]
     },
     "execution_count": 59,
     "metadata": {},
     "output_type": "execute_result"
    }
   ],
   "source": [
    "train_data.shape"
   ]
  },
  {
   "cell_type": "code",
   "execution_count": 60,
   "metadata": {},
   "outputs": [
    {
     "data": {
      "text/plain": [
       "(896, 31)"
      ]
     },
     "execution_count": 60,
     "metadata": {},
     "output_type": "execute_result"
    }
   ],
   "source": [
    "testpredict.shape"
   ]
  },
  {
   "cell_type": "code",
   "execution_count": 61,
   "metadata": {},
   "outputs": [],
   "source": [
    "original=np.concatenate([train_data[:,0],test_data[0:len(testpredict),0]])"
   ]
  },
  {
   "cell_type": "code",
   "execution_count": 62,
   "metadata": {},
   "outputs": [
    {
     "data": {
      "text/plain": [
       "array([40.91, 40.97, 41.53, ..., 69.77, 71.24, 69.23])"
      ]
     },
     "execution_count": 62,
     "metadata": {},
     "output_type": "execute_result"
    }
   ],
   "source": [
    "original"
   ]
  },
  {
   "cell_type": "code",
   "execution_count": 63,
   "metadata": {},
   "outputs": [
    {
     "data": {
      "text/plain": [
       "array([40.91      , 40.97      , 41.53      , ..., 34.37626648,\n",
       "       34.38006973, 34.38074112])"
      ]
     },
     "execution_count": 63,
     "metadata": {},
     "output_type": "execute_result"
    }
   ],
   "source": [
    "predicted=np.concatenate([train_data[:,0],testpredict[:,0]])\n",
    "predicted\n"
   ]
  },
  {
   "cell_type": "code",
   "execution_count": 64,
   "metadata": {},
   "outputs": [],
   "source": [
    "df=pd.DataFrame({'original':original,'fitted':predicted,'index':range(len(original))})"
   ]
  },
  {
   "cell_type": "code",
   "execution_count": 65,
   "metadata": {},
   "outputs": [
    {
     "data": {
      "text/html": [
       "<div>\n",
       "<style scoped>\n",
       "    .dataframe tbody tr th:only-of-type {\n",
       "        vertical-align: middle;\n",
       "    }\n",
       "\n",
       "    .dataframe tbody tr th {\n",
       "        vertical-align: top;\n",
       "    }\n",
       "\n",
       "    .dataframe thead th {\n",
       "        text-align: right;\n",
       "    }\n",
       "</style>\n",
       "<table border=\"1\" class=\"dataframe\">\n",
       "  <thead>\n",
       "    <tr style=\"text-align: right;\">\n",
       "      <th></th>\n",
       "      <th>original</th>\n",
       "      <th>fitted</th>\n",
       "      <th>index</th>\n",
       "    </tr>\n",
       "  </thead>\n",
       "  <tbody>\n",
       "    <tr>\n",
       "      <td>0</td>\n",
       "      <td>40.91</td>\n",
       "      <td>40.910000</td>\n",
       "      <td>0</td>\n",
       "    </tr>\n",
       "    <tr>\n",
       "      <td>1</td>\n",
       "      <td>40.97</td>\n",
       "      <td>40.970000</td>\n",
       "      <td>1</td>\n",
       "    </tr>\n",
       "    <tr>\n",
       "      <td>2</td>\n",
       "      <td>41.53</td>\n",
       "      <td>41.530000</td>\n",
       "      <td>2</td>\n",
       "    </tr>\n",
       "    <tr>\n",
       "      <td>3</td>\n",
       "      <td>43.21</td>\n",
       "      <td>43.210000</td>\n",
       "      <td>3</td>\n",
       "    </tr>\n",
       "    <tr>\n",
       "      <td>4</td>\n",
       "      <td>43.42</td>\n",
       "      <td>43.420000</td>\n",
       "      <td>4</td>\n",
       "    </tr>\n",
       "    <tr>\n",
       "      <td>...</td>\n",
       "      <td>...</td>\n",
       "      <td>...</td>\n",
       "      <td>...</td>\n",
       "    </tr>\n",
       "    <tr>\n",
       "      <td>3005</td>\n",
       "      <td>71.25</td>\n",
       "      <td>34.397182</td>\n",
       "      <td>3005</td>\n",
       "    </tr>\n",
       "    <tr>\n",
       "      <td>3006</td>\n",
       "      <td>71.53</td>\n",
       "      <td>34.382900</td>\n",
       "      <td>3006</td>\n",
       "    </tr>\n",
       "    <tr>\n",
       "      <td>3007</td>\n",
       "      <td>69.77</td>\n",
       "      <td>34.376266</td>\n",
       "      <td>3007</td>\n",
       "    </tr>\n",
       "    <tr>\n",
       "      <td>3008</td>\n",
       "      <td>71.24</td>\n",
       "      <td>34.380070</td>\n",
       "      <td>3008</td>\n",
       "    </tr>\n",
       "    <tr>\n",
       "      <td>3009</td>\n",
       "      <td>69.23</td>\n",
       "      <td>34.380741</td>\n",
       "      <td>3009</td>\n",
       "    </tr>\n",
       "  </tbody>\n",
       "</table>\n",
       "<p>3010 rows × 3 columns</p>\n",
       "</div>"
      ],
      "text/plain": [
       "      original     fitted  index\n",
       "0        40.91  40.910000      0\n",
       "1        40.97  40.970000      1\n",
       "2        41.53  41.530000      2\n",
       "3        43.21  43.210000      3\n",
       "4        43.42  43.420000      4\n",
       "...        ...        ...    ...\n",
       "3005     71.25  34.397182   3005\n",
       "3006     71.53  34.382900   3006\n",
       "3007     69.77  34.376266   3007\n",
       "3008     71.24  34.380070   3008\n",
       "3009     69.23  34.380741   3009\n",
       "\n",
       "[3010 rows x 3 columns]"
      ]
     },
     "execution_count": 65,
     "metadata": {},
     "output_type": "execute_result"
    }
   ],
   "source": [
    "df\n"
   ]
  },
  {
   "cell_type": "code",
   "execution_count": 68,
   "metadata": {},
   "outputs": [
    {
     "data": {
      "text/plain": [
       "<matplotlib.axes._subplots.AxesSubplot at 0x1ddf9048>"
      ]
     },
     "execution_count": 68,
     "metadata": {},
     "output_type": "execute_result"
    },
    {
     "data": {
      "image/png": "[encoded data removed]",
      "text/plain": [
       "<Figure size 432x288 with 1 Axes>"
      ]
     },
     "metadata": {
      "needs_background": "light"
     },
     "output_type": "display_data"
    }
   ],
   "source": [
    "sns.lineplot(x=df['index'],y=df['original'],label='original')\n",
    "sns.lineplot(x=df['index'],y=df['fitted'],label='predicted')"
   ]
  },
  {
   "cell_type": "code",
   "execution_count": null,
   "metadata": {},
   "outputs": [],
   "source": []
  }
 ],
 "metadata": {
  "kernelspec": {
   "display_name": "Python 3",
   "language": "python",
   "name": "python3"
  },
  "language_info": {
   "codemirror_mode": {
    "name": "ipython",
    "version": 3
   },
   "file_extension": ".py",
   "mimetype": "text/x-python",
   "name": "python",
   "nbconvert_exporter": "python",
   "pygments_lexer": "ipython3",
   "version": "3.7.4"
  }
 },
 "nbformat": 4,
 "nbformat_minor": 2
}
