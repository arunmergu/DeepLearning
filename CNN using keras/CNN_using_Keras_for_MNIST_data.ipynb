{
  "nbformat": 4,
  "nbformat_minor": 0,
  "metadata": {
    "colab": {
      "name": "CNN using Keras for MNIST data.ipynb",
      "provenance": [],
      "collapsed_sections": []
    },
    "kernelspec": {
      "name": "python3",
      "display_name": "Python 3"
    },
    "accelerator": "GPU"
  },
  "cells": [
    {
      "cell_type": "code",
      "metadata": {
        "id": "yQBsnUh4QK-z"
      },
      "source": [
        "%tensorflow_version 2.x"
      ],
      "execution_count": 107,
      "outputs": []
    },
    {
      "cell_type": "code",
      "metadata": {
        "id": "xHNF8ttVQcng"
      },
      "source": [
        "import tensorflow as tf\r\n",
        "from tensorflow import keras\r\n",
        "import numpy as np\r\n",
        "from sklearn.preprocessing import OneHotEncoder"
      ],
      "execution_count": 108,
      "outputs": []
    },
    {
      "cell_type": "code",
      "metadata": {
        "id": "5abJlQOVQl4Z"
      },
      "source": [
        "(images_train,labels_train),(images_test,labels_test)=tf.keras.datasets.mnist.load_data()"
      ],
      "execution_count": 148,
      "outputs": []
    },
    {
      "cell_type": "code",
      "metadata": {
        "colab": {
          "base_uri": "https://localhost:8080/"
        },
        "id": "9_AaGq-thwe-",
        "outputId": "1e1869a8-14ef-431e-81f3-1d63754205ec"
      },
      "source": [
        "images_test.shape\r\n",
        "labels_test\r\n"
      ],
      "execution_count": 149,
      "outputs": [
        {
          "output_type": "execute_result",
          "data": {
            "text/plain": [
              "array([7, 2, 1, ..., 4, 5, 6], dtype=uint8)"
            ]
          },
          "metadata": {
            "tags": []
          },
          "execution_count": 149
        }
      ]
    },
    {
      "cell_type": "code",
      "metadata": {
        "colab": {
          "base_uri": "https://localhost:8080/"
        },
        "id": "S3Dcxmd9RiXO",
        "outputId": "cace303c-253f-4dad-951f-aeff63c35e27"
      },
      "source": [
        "labels_test=np.array(labels_test).reshape(-1,1)\r\n",
        "labels_train=np.array(labels_train).reshape(-1,1)\r\n",
        "labels_train.shape"
      ],
      "execution_count": 150,
      "outputs": [
        {
          "output_type": "execute_result",
          "data": {
            "text/plain": [
              "(60000, 1)"
            ]
          },
          "metadata": {
            "tags": []
          },
          "execution_count": 150
        }
      ]
    },
    {
      "cell_type": "code",
      "metadata": {
        "id": "6MD9AvyXQwlT"
      },
      "source": [
        "onehot=OneHotEncoder()\r\n",
        "onehot.fit(labels_train)\r\n",
        "labels_train=onehot.transform(labels_train)\r\n",
        "labels_test=onehot.transform(labels_test)\r\n",
        "labels_test=labels_test.toarray()\r\n",
        "labels_train=labels_train.toarray()"
      ],
      "execution_count": 151,
      "outputs": []
    },
    {
      "cell_type": "code",
      "metadata": {
        "colab": {
          "base_uri": "https://localhost:8080/"
        },
        "id": "aDp4Ql4mQ0ny",
        "outputId": "8259742f-3e08-4e13-8579-796c6b76cc6c"
      },
      "source": [
        "labels_test"
      ],
      "execution_count": 152,
      "outputs": [
        {
          "output_type": "execute_result",
          "data": {
            "text/plain": [
              "array([[0., 0., 0., ..., 1., 0., 0.],\n",
              "       [0., 0., 1., ..., 0., 0., 0.],\n",
              "       [0., 1., 0., ..., 0., 0., 0.],\n",
              "       ...,\n",
              "       [0., 0., 0., ..., 0., 0., 0.],\n",
              "       [0., 0., 0., ..., 0., 0., 0.],\n",
              "       [0., 0., 0., ..., 0., 0., 0.]])"
            ]
          },
          "metadata": {
            "tags": []
          },
          "execution_count": 152
        }
      ]
    },
    {
      "cell_type": "code",
      "metadata": {
        "id": "viuZFIv3S94J"
      },
      "source": [
        "images_test=np.array(images_test).reshape(-1,784)/255\r\n",
        "images_train=np.array(images_train).reshape(-1,784)/255"
      ],
      "execution_count": 113,
      "outputs": []
    },
    {
      "cell_type": "code",
      "metadata": {
        "id": "4ty2u1EkTR7S"
      },
      "source": [
        "images_test=np.array(images_test).reshape(-1,28,28,1).astype('float32')\r\n",
        "images_train=np.array(images_train).reshape(-1,28,28,1).astype('float32')"
      ],
      "execution_count": 168,
      "outputs": []
    },
    {
      "cell_type": "code",
      "metadata": {
        "id": "MD3BAw8sUCaX"
      },
      "source": [
        "from tensorflow.keras.models import Sequential\r\n",
        "from tensorflow.keras.layers import Dense,Flatten,Conv2D,MaxPooling2D,Dropout"
      ],
      "execution_count": 115,
      "outputs": []
    },
    {
      "cell_type": "code",
      "metadata": {
        "id": "QoT8s87LURUW"
      },
      "source": [
        "# using sequential Api"
      ],
      "execution_count": 116,
      "outputs": []
    },
    {
      "cell_type": "code",
      "metadata": {
        "id": "E1mBVWDyU9j8"
      },
      "source": [
        "model=Sequential()\r\n",
        "model.add(Conv2D(32,(5,5), input_shape= ( 28,28,1),activation='relu',padding='same'))\r\n",
        "model.add(MaxPooling2D(pool_size=(2,2)))\r\n",
        "model.add(Conv2D(64,(5,5),activation='relu',padding='same'))\r\n",
        "model.add(MaxPooling2D(pool_size=(2,2)))\r\n",
        "model.add(Flatten())\r\n",
        "model.add(Dense(1024,activation='relu'))\r\n",
        "model.add(Dropout(0.25))\r\n",
        "model.add(Dense(200,activation='relu'))\r\n",
        "model.add(Dropout(0.25))\r\n",
        "model.add(Dense(10,activation='softmax'))\r\n",
        "model.compile(loss='categorical_crossentropy',optimizer='adam',metrics=['accuracy'])"
      ],
      "execution_count": 234,
      "outputs": []
    },
    {
      "cell_type": "code",
      "metadata": {
        "id": "8p0hT3BBtAcM"
      },
      "source": [
        "# using fucntional api"
      ],
      "execution_count": 223,
      "outputs": []
    },
    {
      "cell_type": "code",
      "metadata": {
        "id": "cpVUqH-ZtAXU"
      },
      "source": [
        "from tensorflow.keras.models import Model\r\n",
        "from tensorflow.keras.layers import Input"
      ],
      "execution_count": 224,
      "outputs": []
    },
    {
      "cell_type": "code",
      "metadata": {
        "id": "zcc1YN0XtT33"
      },
      "source": [
        "inputimage=Input(shape=(28,28,1))\r\n",
        "convolayer1=Conv2D(32,(5,5),input_shape=(28,28,1),activation='relu',padding='same')(inputimage)\r\n",
        "maxpoolayer1=MaxPooling2D(pool_size=(2,2))(convolayer1)\r\n",
        "convlayer2=Conv2D(64,(5,5),activation='relu',padding='same')(maxpoolayer1)\r\n",
        "maxpoollayer2=MaxPooling2D(pool_size=(2,2))(convlayer2)\r\n",
        "flatten=Flatten()(maxpoollayer2)\r\n",
        "dense1=Dense(1024,activation='relu')(flatten)\r\n",
        "dropout1=Dropout(0.25)(dense1)\r\n",
        "dense2=Dense(200,activation='relu')(dropout1)\r\n",
        "dropout2=Dropout(0.25)(dense2)\r\n",
        "output=Dense(10,activation='softmax')(dropout2)\r\n",
        "model=Model(inputimage,output)\r\n"
      ],
      "execution_count": 231,
      "outputs": []
    },
    {
      "cell_type": "code",
      "metadata": {
        "colab": {
          "base_uri": "https://localhost:8080/"
        },
        "id": "Lb7kuU4pvcxY",
        "outputId": "8ef316e5-34cd-4a4b-bd3e-763c92499892"
      },
      "source": [
        "model.summary()"
      ],
      "execution_count": 232,
      "outputs": [
        {
          "output_type": "stream",
          "text": [
            "Model: \"model_1\"\n",
            "_________________________________________________________________\n",
            "Layer (type)                 Output Shape              Param #   \n",
            "=================================================================\n",
            "input_5 (InputLayer)         [(None, 28, 28, 1)]       0         \n",
            "_________________________________________________________________\n",
            "conv2d_24 (Conv2D)           (None, 28, 28, 32)        832       \n",
            "_________________________________________________________________\n",
            "max_pooling2d_23 (MaxPooling (None, 14, 14, 32)        0         \n",
            "_________________________________________________________________\n",
            "conv2d_25 (Conv2D)           (None, 14, 14, 64)        51264     \n",
            "_________________________________________________________________\n",
            "max_pooling2d_24 (MaxPooling (None, 7, 7, 64)          0         \n",
            "_________________________________________________________________\n",
            "flatten_11 (Flatten)         (None, 3136)              0         \n",
            "_________________________________________________________________\n",
            "dense_33 (Dense)             (None, 1024)              3212288   \n",
            "_________________________________________________________________\n",
            "dropout_22 (Dropout)         (None, 1024)              0         \n",
            "_________________________________________________________________\n",
            "dense_34 (Dense)             (None, 200)               205000    \n",
            "_________________________________________________________________\n",
            "dropout_23 (Dropout)         (None, 200)               0         \n",
            "_________________________________________________________________\n",
            "dense_35 (Dense)             (None, 10)                2010      \n",
            "=================================================================\n",
            "Total params: 3,471,394\n",
            "Trainable params: 3,471,394\n",
            "Non-trainable params: 0\n",
            "_________________________________________________________________\n"
          ],
          "name": "stdout"
        }
      ]
    },
    {
      "cell_type": "code",
      "metadata": {
        "colab": {
          "base_uri": "https://localhost:8080/"
        },
        "id": "7CmLzIG7VA7C",
        "outputId": "777770b3-fb24-4aab-a9d7-b92811755462"
      },
      "source": [
        "\r\n",
        "model.fit(images_train,labels_train,validation_data=(images_test,labels_test),\r\n",
        "         epochs=5,batch_size=50,verbose=1)"
      ],
      "execution_count": 236,
      "outputs": [
        {
          "output_type": "stream",
          "text": [
            "Epoch 1/5\n",
            "1200/1200 [==============================] - 5s 5ms/step - loss: 0.0530 - accuracy: 0.9859 - val_loss: 0.0594 - val_accuracy: 0.9861\n",
            "Epoch 2/5\n",
            "1200/1200 [==============================] - 5s 4ms/step - loss: 0.0505 - accuracy: 0.9866 - val_loss: 0.0764 - val_accuracy: 0.9860\n",
            "Epoch 3/5\n",
            "1200/1200 [==============================] - 5s 4ms/step - loss: 0.0448 - accuracy: 0.9879 - val_loss: 0.0545 - val_accuracy: 0.9879\n",
            "Epoch 4/5\n",
            "1200/1200 [==============================] - 5s 4ms/step - loss: 0.0446 - accuracy: 0.9887 - val_loss: 0.0566 - val_accuracy: 0.9853\n",
            "Epoch 5/5\n",
            "1200/1200 [==============================] - 5s 4ms/step - loss: 0.0435 - accuracy: 0.9895 - val_loss: 0.0470 - val_accuracy: 0.9890\n"
          ],
          "name": "stdout"
        },
        {
          "output_type": "execute_result",
          "data": {
            "text/plain": [
              "<tensorflow.python.keras.callbacks.History at 0x7fdc4015d908>"
            ]
          },
          "metadata": {
            "tags": []
          },
          "execution_count": 236
        }
      ]
    },
    {
      "cell_type": "code",
      "metadata": {
        "id": "uuv8VF2jajbQ"
      },
      "source": [
        "#saving the model"
      ],
      "execution_count": 153,
      "outputs": []
    },
    {
      "cell_type": "code",
      "metadata": {
        "id": "99nInTZ2jvOF"
      },
      "source": [
        "from tensorflow.keras.models import model_from_json\r\n"
      ],
      "execution_count": 154,
      "outputs": []
    },
    {
      "cell_type": "code",
      "metadata": {
        "id": "hGkqvQwVj7St"
      },
      "source": [
        "model_json=model.to_json()"
      ],
      "execution_count": 157,
      "outputs": []
    },
    {
      "cell_type": "code",
      "metadata": {
        "id": "iRk0kCQzj-eS"
      },
      "source": [
        "with open(\"model.json\",'w') as jsonfile:\r\n",
        "  jsonfile.write(model_json)"
      ],
      "execution_count": 158,
      "outputs": []
    },
    {
      "cell_type": "code",
      "metadata": {
        "id": "0S7wVo1EkW-s"
      },
      "source": [
        "model.save_weights('model.h5')\r\n"
      ],
      "execution_count": 159,
      "outputs": []
    },
    {
      "cell_type": "code",
      "metadata": {
        "id": "x5jYP__Ek5QM"
      },
      "source": [
        "#loading the model using jsonfile"
      ],
      "execution_count": 160,
      "outputs": []
    },
    {
      "cell_type": "code",
      "metadata": {
        "id": "T0-RHXizlLOW"
      },
      "source": [
        "from tensorflow.keras.models import model_from_json"
      ],
      "execution_count": 161,
      "outputs": []
    },
    {
      "cell_type": "code",
      "metadata": {
        "id": "nmgo4RvXlRR0"
      },
      "source": [
        "model_json=open('model.json','r')\r\n",
        "model_loaded_json=model_json.read()\r\n",
        "model_json.close()\r\n",
        "model_loaded=model_from_json(model_loaded_json)\r\n"
      ],
      "execution_count": 163,
      "outputs": []
    },
    {
      "cell_type": "code",
      "metadata": {
        "colab": {
          "base_uri": "https://localhost:8080/"
        },
        "id": "iWI-3mN3mCm2",
        "outputId": "6743c4f8-794f-458f-ede1-98172e7f743c"
      },
      "source": [
        "model_loaded.summary()"
      ],
      "execution_count": 165,
      "outputs": [
        {
          "output_type": "stream",
          "text": [
            "Model: \"sequential_10\"\n",
            "_________________________________________________________________\n",
            "Layer (type)                 Output Shape              Param #   \n",
            "=================================================================\n",
            "conv2d_14 (Conv2D)           (None, 28, 28, 32)        832       \n",
            "_________________________________________________________________\n",
            "max_pooling2d_13 (MaxPooling (None, 14, 14, 32)        0         \n",
            "_________________________________________________________________\n",
            "conv2d_15 (Conv2D)           (None, 14, 14, 64)        51264     \n",
            "_________________________________________________________________\n",
            "max_pooling2d_14 (MaxPooling (None, 7, 7, 64)          0         \n",
            "_________________________________________________________________\n",
            "flatten_6 (Flatten)          (None, 3136)              0         \n",
            "_________________________________________________________________\n",
            "dense_18 (Dense)             (None, 1024)              3212288   \n",
            "_________________________________________________________________\n",
            "dropout_12 (Dropout)         (None, 1024)              0         \n",
            "_________________________________________________________________\n",
            "dense_19 (Dense)             (None, 200)               205000    \n",
            "_________________________________________________________________\n",
            "dropout_13 (Dropout)         (None, 200)               0         \n",
            "_________________________________________________________________\n",
            "dense_20 (Dense)             (None, 10)                2010      \n",
            "=================================================================\n",
            "Total params: 3,471,394\n",
            "Trainable params: 3,471,394\n",
            "Non-trainable params: 0\n",
            "_________________________________________________________________\n"
          ],
          "name": "stdout"
        }
      ]
    },
    {
      "cell_type": "code",
      "metadata": {
        "id": "uJ4zkisYlipX"
      },
      "source": [
        "model_loaded.load_weights('model.h5')"
      ],
      "execution_count": 166,
      "outputs": []
    },
    {
      "cell_type": "code",
      "metadata": {
        "id": "GCt2Q2atmASc"
      },
      "source": [
        "m=model_loaded.predict(images_test)\r\n"
      ],
      "execution_count": 208,
      "outputs": []
    },
    {
      "cell_type": "code",
      "metadata": {
        "id": "u5698C2fnIVo"
      },
      "source": [
        "labels_test_predicted=np.argmax(m,1)"
      ],
      "execution_count": 209,
      "outputs": []
    },
    {
      "cell_type": "code",
      "metadata": {
        "id": "DeChUJLXnmlI"
      },
      "source": [
        "import pandas as pd"
      ],
      "execution_count": 210,
      "outputs": []
    },
    {
      "cell_type": "code",
      "metadata": {
        "colab": {
          "base_uri": "https://localhost:8080/",
          "height": 377
        },
        "id": "DPjkqrI1mUXG",
        "outputId": "46e85747-7e71-44a2-b51a-a4b444a0c79d"
      },
      "source": [
        "pd.crosstab(np.argmax(labels_test,axis=1),labels_test_predicted\r\n",
        "            )"
      ],
      "execution_count": 211,
      "outputs": [
        {
          "output_type": "execute_result",
          "data": {
            "text/html": [
              "<div>\n",
              "<style scoped>\n",
              "    .dataframe tbody tr th:only-of-type {\n",
              "        vertical-align: middle;\n",
              "    }\n",
              "\n",
              "    .dataframe tbody tr th {\n",
              "        vertical-align: top;\n",
              "    }\n",
              "\n",
              "    .dataframe thead th {\n",
              "        text-align: right;\n",
              "    }\n",
              "</style>\n",
              "<table border=\"1\" class=\"dataframe\">\n",
              "  <thead>\n",
              "    <tr style=\"text-align: right;\">\n",
              "      <th>col_0</th>\n",
              "      <th>0</th>\n",
              "      <th>1</th>\n",
              "      <th>2</th>\n",
              "      <th>3</th>\n",
              "      <th>4</th>\n",
              "      <th>5</th>\n",
              "      <th>6</th>\n",
              "      <th>7</th>\n",
              "      <th>8</th>\n",
              "      <th>9</th>\n",
              "    </tr>\n",
              "    <tr>\n",
              "      <th>row_0</th>\n",
              "      <th></th>\n",
              "      <th></th>\n",
              "      <th></th>\n",
              "      <th></th>\n",
              "      <th></th>\n",
              "      <th></th>\n",
              "      <th></th>\n",
              "      <th></th>\n",
              "      <th></th>\n",
              "      <th></th>\n",
              "    </tr>\n",
              "  </thead>\n",
              "  <tbody>\n",
              "    <tr>\n",
              "      <th>0</th>\n",
              "      <td>978</td>\n",
              "      <td>0</td>\n",
              "      <td>1</td>\n",
              "      <td>0</td>\n",
              "      <td>0</td>\n",
              "      <td>0</td>\n",
              "      <td>0</td>\n",
              "      <td>1</td>\n",
              "      <td>0</td>\n",
              "      <td>0</td>\n",
              "    </tr>\n",
              "    <tr>\n",
              "      <th>1</th>\n",
              "      <td>1</td>\n",
              "      <td>1133</td>\n",
              "      <td>0</td>\n",
              "      <td>1</td>\n",
              "      <td>0</td>\n",
              "      <td>0</td>\n",
              "      <td>0</td>\n",
              "      <td>0</td>\n",
              "      <td>0</td>\n",
              "      <td>0</td>\n",
              "    </tr>\n",
              "    <tr>\n",
              "      <th>2</th>\n",
              "      <td>0</td>\n",
              "      <td>0</td>\n",
              "      <td>1021</td>\n",
              "      <td>3</td>\n",
              "      <td>0</td>\n",
              "      <td>0</td>\n",
              "      <td>0</td>\n",
              "      <td>7</td>\n",
              "      <td>1</td>\n",
              "      <td>0</td>\n",
              "    </tr>\n",
              "    <tr>\n",
              "      <th>3</th>\n",
              "      <td>0</td>\n",
              "      <td>0</td>\n",
              "      <td>0</td>\n",
              "      <td>1009</td>\n",
              "      <td>0</td>\n",
              "      <td>1</td>\n",
              "      <td>0</td>\n",
              "      <td>0</td>\n",
              "      <td>0</td>\n",
              "      <td>0</td>\n",
              "    </tr>\n",
              "    <tr>\n",
              "      <th>4</th>\n",
              "      <td>0</td>\n",
              "      <td>1</td>\n",
              "      <td>1</td>\n",
              "      <td>0</td>\n",
              "      <td>960</td>\n",
              "      <td>0</td>\n",
              "      <td>3</td>\n",
              "      <td>2</td>\n",
              "      <td>0</td>\n",
              "      <td>15</td>\n",
              "    </tr>\n",
              "    <tr>\n",
              "      <th>5</th>\n",
              "      <td>0</td>\n",
              "      <td>0</td>\n",
              "      <td>0</td>\n",
              "      <td>17</td>\n",
              "      <td>0</td>\n",
              "      <td>873</td>\n",
              "      <td>1</td>\n",
              "      <td>0</td>\n",
              "      <td>1</td>\n",
              "      <td>0</td>\n",
              "    </tr>\n",
              "    <tr>\n",
              "      <th>6</th>\n",
              "      <td>3</td>\n",
              "      <td>3</td>\n",
              "      <td>0</td>\n",
              "      <td>0</td>\n",
              "      <td>1</td>\n",
              "      <td>1</td>\n",
              "      <td>949</td>\n",
              "      <td>0</td>\n",
              "      <td>1</td>\n",
              "      <td>0</td>\n",
              "    </tr>\n",
              "    <tr>\n",
              "      <th>7</th>\n",
              "      <td>0</td>\n",
              "      <td>2</td>\n",
              "      <td>5</td>\n",
              "      <td>1</td>\n",
              "      <td>0</td>\n",
              "      <td>1</td>\n",
              "      <td>0</td>\n",
              "      <td>1017</td>\n",
              "      <td>0</td>\n",
              "      <td>2</td>\n",
              "    </tr>\n",
              "    <tr>\n",
              "      <th>8</th>\n",
              "      <td>0</td>\n",
              "      <td>0</td>\n",
              "      <td>0</td>\n",
              "      <td>9</td>\n",
              "      <td>0</td>\n",
              "      <td>1</td>\n",
              "      <td>0</td>\n",
              "      <td>0</td>\n",
              "      <td>963</td>\n",
              "      <td>1</td>\n",
              "    </tr>\n",
              "    <tr>\n",
              "      <th>9</th>\n",
              "      <td>0</td>\n",
              "      <td>0</td>\n",
              "      <td>0</td>\n",
              "      <td>2</td>\n",
              "      <td>3</td>\n",
              "      <td>6</td>\n",
              "      <td>0</td>\n",
              "      <td>2</td>\n",
              "      <td>4</td>\n",
              "      <td>992</td>\n",
              "    </tr>\n",
              "  </tbody>\n",
              "</table>\n",
              "</div>"
            ],
            "text/plain": [
              "col_0    0     1     2     3    4    5    6     7    8    9\n",
              "row_0                                                      \n",
              "0      978     0     1     0    0    0    0     1    0    0\n",
              "1        1  1133     0     1    0    0    0     0    0    0\n",
              "2        0     0  1021     3    0    0    0     7    1    0\n",
              "3        0     0     0  1009    0    1    0     0    0    0\n",
              "4        0     1     1     0  960    0    3     2    0   15\n",
              "5        0     0     0    17    0  873    1     0    1    0\n",
              "6        3     3     0     0    1    1  949     0    1    0\n",
              "7        0     2     5     1    0    1    0  1017    0    2\n",
              "8        0     0     0     9    0    1    0     0  963    1\n",
              "9        0     0     0     2    3    6    0     2    4  992"
            ]
          },
          "metadata": {
            "tags": []
          },
          "execution_count": 211
        }
      ]
    },
    {
      "cell_type": "code",
      "metadata": {
        "id": "32Hvq8QAnPxM"
      },
      "source": [
        "y_true=np.argmax(labels_test,axis=1)"
      ],
      "execution_count": 212,
      "outputs": []
    },
    {
      "cell_type": "code",
      "metadata": {
        "colab": {
          "base_uri": "https://localhost:8080/"
        },
        "id": "o6LBaarroClW",
        "outputId": "6d97fc49-9a2d-4b4e-b533-1b4ac5b8c537"
      },
      "source": [
        "(y_true==labels_test_predicted).sum()"
      ],
      "execution_count": 213,
      "outputs": [
        {
          "output_type": "execute_result",
          "data": {
            "text/plain": [
              "9895"
            ]
          },
          "metadata": {
            "tags": []
          },
          "execution_count": 213
        }
      ]
    },
    {
      "cell_type": "code",
      "metadata": {
        "id": "kcidGPLMoJQd"
      },
      "source": [
        "a=y_true==labels_test_predicted"
      ],
      "execution_count": 214,
      "outputs": []
    },
    {
      "cell_type": "code",
      "metadata": {
        "id": "AqhNpxVVoVg4"
      },
      "source": [
        "c=[i for i,j in enumerate(a) if not j]"
      ],
      "execution_count": 215,
      "outputs": []
    },
    {
      "cell_type": "code",
      "metadata": {
        "colab": {
          "base_uri": "https://localhost:8080/"
        },
        "id": "Cnmz9CnCohJC",
        "outputId": "0fb00d13-7ba4-42ed-e730-6dfdc9136e6b"
      },
      "source": [
        "c"
      ],
      "execution_count": 216,
      "outputs": [
        {
          "output_type": "execute_result",
          "data": {
            "text/plain": [
              "[62,\n",
              " 92,\n",
              " 151,\n",
              " 184,\n",
              " 247,\n",
              " 321,\n",
              " 340,\n",
              " 412,\n",
              " 582,\n",
              " 659,\n",
              " 684,\n",
              " 726,\n",
              " 740,\n",
              " 881,\n",
              " 902,\n",
              " 916,\n",
              " 924,\n",
              " 947,\n",
              " 1014,\n",
              " 1112,\n",
              " 1226,\n",
              " 1242,\n",
              " 1263,\n",
              " 1289,\n",
              " 1349,\n",
              " 1393,\n",
              " 1414,\n",
              " 1549,\n",
              " 1709,\n",
              " 1878,\n",
              " 1899,\n",
              " 1901,\n",
              " 1982,\n",
              " 2035,\n",
              " 2053,\n",
              " 2070,\n",
              " 2129,\n",
              " 2130,\n",
              " 2135,\n",
              " 2224,\n",
              " 2266,\n",
              " 2369,\n",
              " 2597,\n",
              " 2654,\n",
              " 2678,\n",
              " 2771,\n",
              " 2939,\n",
              " 2959,\n",
              " 3023,\n",
              " 3100,\n",
              " 3225,\n",
              " 3422,\n",
              " 3520,\n",
              " 3558,\n",
              " 3727,\n",
              " 3778,\n",
              " 3808,\n",
              " 3941,\n",
              " 3951,\n",
              " 4027,\n",
              " 4065,\n",
              " 4078,\n",
              " 4176,\n",
              " 4199,\n",
              " 4265,\n",
              " 4284,\n",
              " 4289,\n",
              " 4360,\n",
              " 4382,\n",
              " 4504,\n",
              " 4505,\n",
              " 4699,\n",
              " 4740,\n",
              " 4743,\n",
              " 4823,\n",
              " 4838,\n",
              " 4860,\n",
              " 5201,\n",
              " 5654,\n",
              " 5698,\n",
              " 5936,\n",
              " 5937,\n",
              " 5981,\n",
              " 5982,\n",
              " 5997,\n",
              " 6042,\n",
              " 6053,\n",
              " 6091,\n",
              " 6410,\n",
              " 6560,\n",
              " 6571,\n",
              " 6597,\n",
              " 7921,\n",
              " 7928,\n",
              " 7991,\n",
              " 8520,\n",
              " 8527,\n",
              " 9015,\n",
              " 9505,\n",
              " 9642,\n",
              " 9664,\n",
              " 9729,\n",
              " 9811,\n",
              " 9839,\n",
              " 9888]"
            ]
          },
          "metadata": {
            "tags": []
          },
          "execution_count": 216
        }
      ]
    },
    {
      "cell_type": "code",
      "metadata": {
        "id": "QjN_irSToh37"
      },
      "source": [
        "import matplotlib.pyplot as plt\r\n",
        "%matplotlib inline"
      ],
      "execution_count": 217,
      "outputs": []
    },
    {
      "cell_type": "code",
      "metadata": {
        "colab": {
          "base_uri": "https://localhost:8080/",
          "height": 300
        },
        "id": "qpw7WsProyQY",
        "outputId": "d95e291f-f874-4b43-ccca-eb3d9f754ef1"
      },
      "source": [
        "index=c[9]\r\n",
        "sample_image=images_test[index,:,:,:]\r\n",
        "pixels=sample_image.reshape(28,28)\r\n",
        "plt.imshow(pixels,cmap='gray')\r\n",
        "print('real',np.argmax(labels_test[index]))\r\n",
        "print('predicted',np.argmax(labels_test_predicted[index]))"
      ],
      "execution_count": 218,
      "outputs": [
        {
          "output_type": "stream",
          "text": [
            "real 2\n",
            "predicted 0\n"
          ],
          "name": "stdout"
        },
        {
          "output_type": "display_data",
          "data": {
            "image/png": "[encoded data removed]",
            "text/plain": [
              "<Figure size 432x288 with 1 Axes>"
            ]
          },
          "metadata": {
            "tags": [],
            "needs_background": "light"
          }
        }
      ]
    },
    {
      "cell_type": "code",
      "metadata": {
        "id": "HDOeQrvipFqq"
      },
      "source": [
        "# you can make prediction directly but if you want to further train from here \r\n",
        "# you'll have to compile the loaded model again"
      ],
      "execution_count": 203,
      "outputs": []
    },
    {
      "cell_type": "code",
      "metadata": {
        "id": "i6hHh5oApFKX"
      },
      "source": [
        "model_loaded.compile(loss='categorical_crossentropy',optimizer='adam',metrics=['accuracy'])"
      ],
      "execution_count": 206,
      "outputs": []
    },
    {
      "cell_type": "code",
      "metadata": {
        "colab": {
          "base_uri": "https://localhost:8080/"
        },
        "id": "_1u03CA-rbvc",
        "outputId": "e6e64a9a-f99e-4bae-9cc9-8fc82176edf8"
      },
      "source": [
        "model_loaded.fit(images_train,labels_train,validation_data=(images_test,labels_test),batch_size=50,verbose=1)"
      ],
      "execution_count": 207,
      "outputs": [
        {
          "output_type": "stream",
          "text": [
            "1200/1200 [==============================] - 6s 5ms/step - loss: 2.9844 - accuracy: 0.9925 - val_loss: 0.8148 - val_accuracy: 0.9895\n"
          ],
          "name": "stdout"
        },
        {
          "output_type": "execute_result",
          "data": {
            "text/plain": [
              "<tensorflow.python.keras.callbacks.History at 0x7fdc40192898>"
            ]
          },
          "metadata": {
            "tags": []
          },
          "execution_count": 207
        }
      ]
    },
    {
      "cell_type": "code",
      "metadata": {
        "id": "RmiDPxuFrwKN"
      },
      "source": [
        ""
      ],
      "execution_count": null,
      "outputs": []
    }
  ]
}