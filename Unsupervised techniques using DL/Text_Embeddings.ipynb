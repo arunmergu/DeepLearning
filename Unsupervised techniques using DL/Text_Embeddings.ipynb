{
  "nbformat": 4,
  "nbformat_minor": 0,
  "metadata": {
    "colab": {
      "name": "Text_Embeddings.ipynb",
      "provenance": [],
      "include_colab_link": true
    },
    "kernelspec": {
      "display_name": "Python 3",
      "language": "python",
      "name": "python3"
    },
    "language_info": {
      "codemirror_mode": {
        "name": "ipython",
        "version": 3
      },
      "file_extension": ".py",
      "mimetype": "text/x-python",
      "name": "python",
      "nbconvert_exporter": "python",
      "pygments_lexer": "ipython3",
      "version": "3.7.4"
    },
    "accelerator": "GPU"
  },
  "cells": [
    {
      "cell_type": "markdown",
      "metadata": {
        "id": "view-in-github",
        "colab_type": "text"
      },
      "source": [
        "<a href=\"https://colab.research.google.com/github/arunmergu/DeepLearning/blob/main/Unsupervised%20techniques%20using%20DL/Text_Embeddings.ipynb\" target=\"_parent\"><img src=\"https://colab.research.google.com/assets/colab-badge.svg\" alt=\"Open In Colab\"/></a>"
      ]
    },
    {
      "cell_type": "code",
      "metadata": {
        "id": "zjbamNLUCGlx"
      },
      "source": [
        "%tensorflow_version 2.x"
      ],
      "execution_count": 1,
      "outputs": []
    },
    {
      "cell_type": "code",
      "metadata": {
        "colab": {
          "base_uri": "https://localhost:8080/"
        },
        "id": "tMEQDwDxCmph",
        "outputId": "4f1ed52d-5609-4779-bde8-8f8ba1dd41bb"
      },
      "source": [
        "!wget https://www.dropbox.com/s/kfye28it99g9j12/imdb_labelled.txt"
      ],
      "execution_count": 2,
      "outputs": [
        {
          "output_type": "stream",
          "text": [
            "--2021-03-03 23:02:12--  https://www.dropbox.com/s/kfye28it99g9j12/imdb_labelled.txt\n",
            "Resolving www.dropbox.com (www.dropbox.com)... 162.125.6.18, 2620:100:601c:18::a27d:612\n",
            "Connecting to www.dropbox.com (www.dropbox.com)|162.125.6.18|:443... connected.\n",
            "HTTP request sent, awaiting response... 301 Moved Permanently\n",
            "Location: /s/raw/kfye28it99g9j12/imdb_labelled.txt [following]\n",
            "--2021-03-03 23:02:12--  https://www.dropbox.com/s/raw/kfye28it99g9j12/imdb_labelled.txt\n",
            "Reusing existing connection to www.dropbox.com:443.\n",
            "HTTP request sent, awaiting response... 302 Found\n",
            "Location: https://uc51113844ed81f39eb061347f47.dl.dropboxusercontent.com/cd/0/inline/BKBBoIVsw_uZCtC-5xpyCa4H1UC7LQWMW8a4AQT9p2TJ6Kt9Vj7kiaRpo0pk4RMavXWH2sxAMuvDGZtPEAYkfaABEcN_dpKqExq7fMv-m9mkPg/file# [following]\n",
            "--2021-03-03 23:02:13--  https://uc51113844ed81f39eb061347f47.dl.dropboxusercontent.com/cd/0/inline/BKBBoIVsw_uZCtC-5xpyCa4H1UC7LQWMW8a4AQT9p2TJ6Kt9Vj7kiaRpo0pk4RMavXWH2sxAMuvDGZtPEAYkfaABEcN_dpKqExq7fMv-m9mkPg/file\n",
            "Resolving uc51113844ed81f39eb061347f47.dl.dropboxusercontent.com (uc51113844ed81f39eb061347f47.dl.dropboxusercontent.com)... 162.125.6.15, 2620:100:601c:15::a27d:60f\n",
            "Connecting to uc51113844ed81f39eb061347f47.dl.dropboxusercontent.com (uc51113844ed81f39eb061347f47.dl.dropboxusercontent.com)|162.125.6.15|:443... connected.\n",
            "HTTP request sent, awaiting response... 200 OK\n",
            "Length: 85279 (83K) [text/plain]\n",
            "Saving to: ‘imdb_labelled.txt’\n",
            "\n",
            "imdb_labelled.txt   100%[===================>]  83.28K  --.-KB/s    in 0.003s  \n",
            "\n",
            "2021-03-03 23:02:13 (31.3 MB/s) - ‘imdb_labelled.txt’ saved [85279/85279]\n",
            "\n"
          ],
          "name": "stdout"
        }
      ]
    },
    {
      "cell_type": "code",
      "metadata": {
        "id": "jcSlGNCcCs4q"
      },
      "source": [
        "file=r'/content/imdb_labelled.txt'"
      ],
      "execution_count": 3,
      "outputs": []
    },
    {
      "cell_type": "code",
      "metadata": {
        "id": "x9rqtHhrDAJk"
      },
      "source": [
        "import pandas as pd\n",
        "imdb = pd.read_csv(file,sep='\\t',header=None,names=['review','target'])"
      ],
      "execution_count": 4,
      "outputs": []
    },
    {
      "cell_type": "code",
      "metadata": {
        "id": "JcvZxlt_DMiN"
      },
      "source": [
        "# you can download glove embeddings from here directly using wget\n",
        "# just copy the link for the embeddings that you want to use \n",
        "# https://nlp.stanford.edu/projects/glove/"
      ],
      "execution_count": 5,
      "outputs": []
    },
    {
      "cell_type": "code",
      "metadata": {
        "colab": {
          "base_uri": "https://localhost:8080/"
        },
        "id": "YwZiRG6NDOHB",
        "outputId": "3a51c927-4941-45c9-a7ef-7aea95a52902"
      },
      "source": [
        "!wget http://nlp.stanford.edu/data/glove.42B.300d.zip\n",
        "# downloading and unzipping will take some time "
      ],
      "execution_count": 6,
      "outputs": [
        {
          "output_type": "stream",
          "text": [
            "--2021-03-03 23:02:13--  http://nlp.stanford.edu/data/glove.42B.300d.zip\n",
            "Resolving nlp.stanford.edu (nlp.stanford.edu)... 171.64.67.140\n",
            "Connecting to nlp.stanford.edu (nlp.stanford.edu)|171.64.67.140|:80... connected.\n",
            "HTTP request sent, awaiting response... 302 Found\n",
            "Location: https://nlp.stanford.edu/data/glove.42B.300d.zip [following]\n",
            "--2021-03-03 23:02:13--  https://nlp.stanford.edu/data/glove.42B.300d.zip\n",
            "Connecting to nlp.stanford.edu (nlp.stanford.edu)|171.64.67.140|:443... connected.\n",
            "HTTP request sent, awaiting response... 301 Moved Permanently\n",
            "Location: http://downloads.cs.stanford.edu/nlp/data/glove.42B.300d.zip [following]\n",
            "--2021-03-03 23:02:14--  http://downloads.cs.stanford.edu/nlp/data/glove.42B.300d.zip\n",
            "Resolving downloads.cs.stanford.edu (downloads.cs.stanford.edu)... 171.64.64.22\n",
            "Connecting to downloads.cs.stanford.edu (downloads.cs.stanford.edu)|171.64.64.22|:80... connected.\n",
            "HTTP request sent, awaiting response... 200 OK\n",
            "Length: 1877800501 (1.7G) [application/zip]\n",
            "Saving to: ‘glove.42B.300d.zip’\n",
            "\n",
            "glove.42B.300d.zip  100%[===================>]   1.75G  1.85MB/s    in 15m 21s \n",
            "\n",
            "2021-03-03 23:17:35 (1.94 MB/s) - ‘glove.42B.300d.zip’ saved [1877800501/1877800501]\n",
            "\n"
          ],
          "name": "stdout"
        }
      ]
    },
    {
      "cell_type": "code",
      "metadata": {
        "colab": {
          "base_uri": "https://localhost:8080/"
        },
        "id": "vUh2tv-0EDyg",
        "outputId": "c7052036-b366-45d1-b490-d49d3b3d0f5e"
      },
      "source": [
        "!unzip /content/glove.42B.300d.zip"
      ],
      "execution_count": 7,
      "outputs": [
        {
          "output_type": "stream",
          "text": [
            "Archive:  /content/glove.42B.300d.zip\n",
            "  inflating: glove.42B.300d.txt      \n"
          ],
          "name": "stdout"
        }
      ]
    },
    {
      "cell_type": "code",
      "metadata": {
        "id": "qatTCa5nMlNQ"
      },
      "source": [
        "!rm /content/glove.42B.300d.zip"
      ],
      "execution_count": 8,
      "outputs": []
    },
    {
      "cell_type": "code",
      "metadata": {
        "id": "0B2T2Zw3OAX6"
      },
      "source": [
        "import numpy as np"
      ],
      "execution_count": 9,
      "outputs": []
    },
    {
      "cell_type": "code",
      "metadata": {
        "id": "iGhI-CNdNiWi"
      },
      "source": [
        "embeding_index={}\n",
        "\n",
        "f=open('glove.42B.300d.txt',encoding='utf-8')\n",
        "\n",
        "for line in f:\n",
        "    values=line.split()\n",
        "    word=values[0]\n",
        "    coefs=np.asarray(values[1:],dtype='float32')\n",
        "    embeding_index[word]=coefs\n",
        "f.close()\n",
        "# this again will take good amount of time"
      ],
      "execution_count": 10,
      "outputs": []
    },
    {
      "cell_type": "code",
      "metadata": {
        "id": "zyadduDNN845"
      },
      "source": [
        "from sklearn.model_selection import train_test_split\n",
        "data_train,data_test=train_test_split(imdb,test_size=0.2)"
      ],
      "execution_count": 11,
      "outputs": []
    },
    {
      "cell_type": "code",
      "metadata": {
        "id": "CZLYuvJCOrkC"
      },
      "source": [
        "x_train=data_train['review']\n",
        "y_train=data_train['target']\n",
        "x_test=data_test['review']\n",
        "y_test=data_test['target']"
      ],
      "execution_count": 12,
      "outputs": []
    },
    {
      "cell_type": "code",
      "metadata": {
        "id": "-ovULZ8ZO8Qo"
      },
      "source": [
        "from tensorflow.keras.preprocessing.text import Tokenizer\n",
        "from tensorflow.keras.preprocessing import sequence\n",
        "from tensorflow.keras.layers import LSTM,Activation,Dense,Input,Embedding,Dropout\n",
        "from tensorflow.keras.models import Model,Sequential"
      ],
      "execution_count": 29,
      "outputs": []
    },
    {
      "cell_type": "code",
      "metadata": {
        "id": "uiFAa3HTPcPr"
      },
      "source": [
        "from nltk import word_tokenize"
      ],
      "execution_count": 14,
      "outputs": []
    },
    {
      "cell_type": "code",
      "metadata": {
        "colab": {
          "base_uri": "https://localhost:8080/"
        },
        "id": "f9QbkGveQBSl",
        "outputId": "ff1e2e08-4b32-468c-8134-e845c7dea25e"
      },
      "source": [
        "import nltk\n",
        "nltk.download('punkt')"
      ],
      "execution_count": 15,
      "outputs": [
        {
          "output_type": "stream",
          "text": [
            "[nltk_data] Downloading package punkt to /root/nltk_data...\n",
            "[nltk_data]   Unzipping tokenizers/punkt.zip.\n"
          ],
          "name": "stdout"
        },
        {
          "output_type": "execute_result",
          "data": {
            "text/plain": [
              "True"
            ]
          },
          "metadata": {
            "tags": []
          },
          "execution_count": 15
        }
      ]
    },
    {
      "cell_type": "code",
      "metadata": {
        "id": "MW2d2DU3Px1C"
      },
      "source": [
        "sent_lens=[len(word_tokenize(x)) for x in x_train]"
      ],
      "execution_count": 16,
      "outputs": []
    },
    {
      "cell_type": "code",
      "metadata": {
        "colab": {
          "base_uri": "https://localhost:8080/"
        },
        "id": "7vQ4VfOKP16v",
        "outputId": "71f13712-49c5-46e6-d598-9a180d37ee09"
      },
      "source": [
        "np.percentile(sent_lens,95)"
      ],
      "execution_count": 17,
      "outputs": [
        {
          "output_type": "execute_result",
          "data": {
            "text/plain": [
              "40.0"
            ]
          },
          "metadata": {
            "tags": []
          },
          "execution_count": 17
        }
      ]
    },
    {
      "cell_type": "code",
      "metadata": {
        "id": "dEkUd6Z4QICh"
      },
      "source": [
        "max_len=40\n",
        "\n",
        "tk=Tokenizer(char_level=False,split=' ')\n",
        "\n",
        "tk.fit_on_texts(x_train)\n",
        "\n",
        "seq_train=tk.texts_to_sequences(x_train)\n",
        "seq_test=tk.texts_to_sequences(x_test)\n",
        "\n",
        "vocab_size=len(tk.word_index)\n",
        "\n",
        "seq_train_matrix=sequence.pad_sequences(seq_train,maxlen=max_len)\n",
        "seq_test_matrix=sequence.pad_sequences(seq_test,maxlen=max_len)"
      ],
      "execution_count": 18,
      "outputs": []
    },
    {
      "cell_type": "code",
      "metadata": {
        "id": "2jPWTHYZQQ_V"
      },
      "source": [
        "# creating our own embedding matrix to bring down the size to 300\n",
        "# we'll use 300 D vector representation of the words from pretrained embedding index \n",
        "# that we downloaded \n",
        "\n",
        "embedding_matrix=np.zeros((vocab_size+1,300))\n",
        "\n",
        "for word,i in tk.word_index.items():\n",
        "    embed_vector=embeding_index.get(word)\n",
        "    if embed_vector is not None:\n",
        "        embedding_matrix[i]=embed_vector\n",
        "        \n",
        "# if there are specific words which are not present in pretrained embedding \n",
        "# their weights will remain 0. if there are too many such words \n",
        "# then you should probably not use pretrained embeddings "
      ],
      "execution_count": 19,
      "outputs": []
    },
    {
      "cell_type": "code",
      "metadata": {
        "id": "Dr0XNGH_QW06"
      },
      "source": [
        "# Now while creating the model for text data , we'll keep embedding layer weights \n",
        "# non-trainable as we are supplying those values from our end \n",
        "model1=Sequential()\n",
        "model1.add(Embedding(vocab_size+1,300,input_length=max_len,mask_zero=True,\n",
        "                weights=[embedding_matrix],trainable=False))\n",
        "model1.add(LSTM(50))\n",
        "model1.add(Dense(10,activation='relu'))\n",
        "model1.add(Dropout(0.2))\n",
        "model1.add(Dense(1,activation='sigmoid'))\n",
        "model1.compile(optimizer='adam',metrics=['accuracy'],loss='binary_crossentropy')"
      ],
      "execution_count": 48,
      "outputs": []
    },
    {
      "cell_type": "code",
      "metadata": {
        "colab": {
          "base_uri": "https://localhost:8080/"
        },
        "id": "AUUczN4jQfET",
        "outputId": "ca7af514-73fc-430e-9c6a-ff6647c556ee"
      },
      "source": [
        "# you can see that bulk of the weights come from embedding layer\n",
        "# using pretrained weights for the same , brings down number of trainable parameters \n",
        "# by a huge amount. This in turn results in pretty short training times \n",
        "model1.summary()"
      ],
      "execution_count": 44,
      "outputs": [
        {
          "output_type": "stream",
          "text": [
            "Model: \"sequential_1\"\n",
            "_________________________________________________________________\n",
            "Layer (type)                 Output Shape              Param #   \n",
            "=================================================================\n",
            "embedding_3 (Embedding)      (None, 40, 300)           844800    \n",
            "_________________________________________________________________\n",
            "lstm_3 (LSTM)                (None, 50)                70200     \n",
            "_________________________________________________________________\n",
            "dense_6 (Dense)              (None, 10)                510       \n",
            "_________________________________________________________________\n",
            "dropout_3 (Dropout)          (None, 10)                0         \n",
            "_________________________________________________________________\n",
            "dense_7 (Dense)              (None, 1)                 11        \n",
            "=================================================================\n",
            "Total params: 915,521\n",
            "Trainable params: 70,721\n",
            "Non-trainable params: 844,800\n",
            "_________________________________________________________________\n"
          ],
          "name": "stdout"
        }
      ]
    },
    {
      "cell_type": "code",
      "metadata": {
        "id": "0og_nr2aQiMU"
      },
      "source": [
        "model.compile(optimizer='adam',loss='binary_crossentropy',metrics=['accuracy'])"
      ],
      "execution_count": 49,
      "outputs": []
    },
    {
      "cell_type": "code",
      "metadata": {
        "colab": {
          "base_uri": "https://localhost:8080/"
        },
        "id": "oa3SBtPBQrnh",
        "outputId": "1f8a309e-8c79-4dae-a989-237d573eb645"
      },
      "source": [
        "model1.fit(seq_train_matrix,y_train.values,validation_split=0.2,epochs=40,class_weight={0:1,1:12},batch_size=50)"
      ],
      "execution_count": 50,
      "outputs": [
        {
          "output_type": "stream",
          "text": [
            "Epoch 1/40\n",
            "10/10 [==============================] - 5s 221ms/step - loss: 4.5755 - accuracy: 0.5316 - val_loss: 0.7199 - val_accuracy: 0.5250\n",
            "Epoch 2/40\n",
            "10/10 [==============================] - 1s 93ms/step - loss: 2.7753 - accuracy: 0.5017 - val_loss: 0.9472 - val_accuracy: 0.5250\n",
            "Epoch 3/40\n",
            "10/10 [==============================] - 1s 90ms/step - loss: 2.0782 - accuracy: 0.5210 - val_loss: 1.2028 - val_accuracy: 0.5250\n",
            "Epoch 4/40\n",
            "10/10 [==============================] - 1s 84ms/step - loss: 1.9367 - accuracy: 0.4872 - val_loss: 1.2681 - val_accuracy: 0.5250\n",
            "Epoch 5/40\n",
            "10/10 [==============================] - 1s 90ms/step - loss: 1.9059 - accuracy: 0.4905 - val_loss: 1.2087 - val_accuracy: 0.5250\n",
            "Epoch 6/40\n",
            "10/10 [==============================] - 1s 87ms/step - loss: 1.8894 - accuracy: 0.5299 - val_loss: 1.1483 - val_accuracy: 0.5250\n",
            "Epoch 7/40\n",
            "10/10 [==============================] - 1s 88ms/step - loss: 1.8802 - accuracy: 0.5102 - val_loss: 1.1334 - val_accuracy: 0.5250\n",
            "Epoch 8/40\n",
            "10/10 [==============================] - 1s 89ms/step - loss: 1.7773 - accuracy: 0.4980 - val_loss: 1.1189 - val_accuracy: 0.5250\n",
            "Epoch 9/40\n",
            "10/10 [==============================] - 1s 93ms/step - loss: 1.6998 - accuracy: 0.4993 - val_loss: 1.0769 - val_accuracy: 0.5250\n",
            "Epoch 10/40\n",
            "10/10 [==============================] - 1s 88ms/step - loss: 1.6918 - accuracy: 0.5226 - val_loss: 1.0744 - val_accuracy: 0.5250\n",
            "Epoch 11/40\n",
            "10/10 [==============================] - 1s 85ms/step - loss: 1.5022 - accuracy: 0.5496 - val_loss: 0.9816 - val_accuracy: 0.5250\n",
            "Epoch 12/40\n",
            "10/10 [==============================] - 1s 89ms/step - loss: 1.7018 - accuracy: 0.5200 - val_loss: 0.9448 - val_accuracy: 0.5417\n",
            "Epoch 13/40\n",
            "10/10 [==============================] - 1s 94ms/step - loss: 1.3999 - accuracy: 0.5812 - val_loss: 0.7866 - val_accuracy: 0.5917\n",
            "Epoch 14/40\n",
            "10/10 [==============================] - 1s 90ms/step - loss: 1.2654 - accuracy: 0.6288 - val_loss: 0.6415 - val_accuracy: 0.6583\n",
            "Epoch 15/40\n",
            "10/10 [==============================] - 1s 93ms/step - loss: 1.1910 - accuracy: 0.6750 - val_loss: 0.6453 - val_accuracy: 0.7000\n",
            "Epoch 16/40\n",
            "10/10 [==============================] - 1s 95ms/step - loss: 0.9990 - accuracy: 0.7429 - val_loss: 0.5380 - val_accuracy: 0.7917\n",
            "Epoch 17/40\n",
            "10/10 [==============================] - 1s 84ms/step - loss: 0.8773 - accuracy: 0.8077 - val_loss: 0.5513 - val_accuracy: 0.7917\n",
            "Epoch 18/40\n",
            "10/10 [==============================] - 1s 90ms/step - loss: 0.7916 - accuracy: 0.8673 - val_loss: 0.6497 - val_accuracy: 0.7667\n",
            "Epoch 19/40\n",
            "10/10 [==============================] - 1s 86ms/step - loss: 0.6908 - accuracy: 0.8620 - val_loss: 0.7376 - val_accuracy: 0.7583\n",
            "Epoch 20/40\n",
            "10/10 [==============================] - 1s 85ms/step - loss: 0.7155 - accuracy: 0.8423 - val_loss: 0.5459 - val_accuracy: 0.8083\n",
            "Epoch 21/40\n",
            "10/10 [==============================] - 1s 87ms/step - loss: 0.6553 - accuracy: 0.8695 - val_loss: 0.4817 - val_accuracy: 0.8167\n",
            "Epoch 22/40\n",
            "10/10 [==============================] - 1s 83ms/step - loss: 0.5530 - accuracy: 0.9228 - val_loss: 0.5199 - val_accuracy: 0.8250\n",
            "Epoch 23/40\n",
            "10/10 [==============================] - 1s 82ms/step - loss: 0.7538 - accuracy: 0.8654 - val_loss: 0.3816 - val_accuracy: 0.8500\n",
            "Epoch 24/40\n",
            "10/10 [==============================] - 1s 85ms/step - loss: 0.6569 - accuracy: 0.9368 - val_loss: 0.5712 - val_accuracy: 0.7917\n",
            "Epoch 25/40\n",
            "10/10 [==============================] - 1s 87ms/step - loss: 0.5520 - accuracy: 0.8926 - val_loss: 0.4453 - val_accuracy: 0.8333\n",
            "Epoch 26/40\n",
            "10/10 [==============================] - 1s 89ms/step - loss: 0.4410 - accuracy: 0.9514 - val_loss: 0.4787 - val_accuracy: 0.8667\n",
            "Epoch 27/40\n",
            "10/10 [==============================] - 1s 92ms/step - loss: 0.4182 - accuracy: 0.9508 - val_loss: 0.4868 - val_accuracy: 0.8667\n",
            "Epoch 28/40\n",
            "10/10 [==============================] - 1s 91ms/step - loss: 0.4153 - accuracy: 0.9360 - val_loss: 0.4893 - val_accuracy: 0.8667\n",
            "Epoch 29/40\n",
            "10/10 [==============================] - 1s 87ms/step - loss: 0.3331 - accuracy: 0.9739 - val_loss: 0.5052 - val_accuracy: 0.8750\n",
            "Epoch 30/40\n",
            "10/10 [==============================] - 1s 86ms/step - loss: 0.3421 - accuracy: 0.9548 - val_loss: 0.4792 - val_accuracy: 0.8833\n",
            "Epoch 31/40\n",
            "10/10 [==============================] - 1s 88ms/step - loss: 0.2892 - accuracy: 0.9598 - val_loss: 0.4825 - val_accuracy: 0.8833\n",
            "Epoch 32/40\n",
            "10/10 [==============================] - 1s 97ms/step - loss: 0.3365 - accuracy: 0.9803 - val_loss: 0.4934 - val_accuracy: 0.8833\n",
            "Epoch 33/40\n",
            "10/10 [==============================] - 1s 90ms/step - loss: 0.3055 - accuracy: 0.9760 - val_loss: 0.5532 - val_accuracy: 0.8833\n",
            "Epoch 34/40\n",
            "10/10 [==============================] - 1s 87ms/step - loss: 0.2265 - accuracy: 0.9843 - val_loss: 0.5071 - val_accuracy: 0.8583\n",
            "Epoch 35/40\n",
            "10/10 [==============================] - 1s 90ms/step - loss: 0.2495 - accuracy: 0.9837 - val_loss: 0.5353 - val_accuracy: 0.8750\n",
            "Epoch 36/40\n",
            "10/10 [==============================] - 1s 84ms/step - loss: 0.2998 - accuracy: 0.9856 - val_loss: 0.5186 - val_accuracy: 0.8833\n",
            "Epoch 37/40\n",
            "10/10 [==============================] - 1s 89ms/step - loss: 0.2348 - accuracy: 0.9829 - val_loss: 0.5751 - val_accuracy: 0.8750\n",
            "Epoch 38/40\n",
            "10/10 [==============================] - 1s 89ms/step - loss: 0.2245 - accuracy: 0.9877 - val_loss: 0.5784 - val_accuracy: 0.8750\n",
            "Epoch 39/40\n",
            "10/10 [==============================] - 1s 94ms/step - loss: 0.3116 - accuracy: 0.9968 - val_loss: 0.6097 - val_accuracy: 0.8667\n",
            "Epoch 40/40\n",
            "10/10 [==============================] - 1s 91ms/step - loss: 0.2179 - accuracy: 0.9939 - val_loss: 0.5940 - val_accuracy: 0.8667\n"
          ],
          "name": "stdout"
        },
        {
          "output_type": "execute_result",
          "data": {
            "text/plain": [
              "<tensorflow.python.keras.callbacks.History at 0x7fbd020f2110>"
            ]
          },
          "metadata": {
            "tags": []
          },
          "execution_count": 50
        }
      ]
    },
    {
      "cell_type": "code",
      "metadata": {
        "id": "wBfQvYaSQt5F"
      },
      "source": [
        "p=model1.predict(seq_test_matrix)"
      ],
      "execution_count": 51,
      "outputs": []
    },
    {
      "cell_type": "code",
      "metadata": {
        "colab": {
          "base_uri": "https://localhost:8080/"
        },
        "id": "CsM2jA-_R-vi",
        "outputId": "a43eff6b-d135-49e3-dc03-6d9b283d1fd2"
      },
      "source": [
        "from sklearn.metrics import roc_auc_score\n",
        "roc_auc_score(y_test,p)"
      ],
      "execution_count": 52,
      "outputs": [
        {
          "output_type": "execute_result",
          "data": {
            "text/plain": [
              "0.8901353276353277"
            ]
          },
          "metadata": {
            "tags": []
          },
          "execution_count": 52
        }
      ]
    }
  ]
}