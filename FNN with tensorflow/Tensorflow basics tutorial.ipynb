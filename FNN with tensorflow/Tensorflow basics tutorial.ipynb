{
 "cells": [
  {
   "cell_type": "code",
   "execution_count": 160,
   "metadata": {},
   "outputs": [],
   "source": [
    "import tensorflow as tf"
   ]
  },
  {
   "cell_type": "code",
   "execution_count": 161,
   "metadata": {},
   "outputs": [],
   "source": [
    "a=tf.constant(3)"
   ]
  },
  {
   "cell_type": "code",
   "execution_count": 162,
   "metadata": {},
   "outputs": [],
   "source": [
    "b=tf.Variable(4)"
   ]
  },
  {
   "cell_type": "code",
   "execution_count": 163,
   "metadata": {},
   "outputs": [
    {
     "data": {
      "text/plain": [
       "<tf.Tensor: shape=(), dtype=int32, numpy=3>"
      ]
     },
     "execution_count": 163,
     "metadata": {},
     "output_type": "execute_result"
    }
   ],
   "source": [
    "a"
   ]
  },
  {
   "cell_type": "code",
   "execution_count": 164,
   "metadata": {},
   "outputs": [
    {
     "data": {
      "text/plain": [
       "<tf.Variable 'Variable:0' shape=() dtype=int32, numpy=4>"
      ]
     },
     "execution_count": 164,
     "metadata": {},
     "output_type": "execute_result"
    }
   ],
   "source": [
    "b"
   ]
  },
  {
   "cell_type": "code",
   "execution_count": 165,
   "metadata": {},
   "outputs": [
    {
     "data": {
      "text/plain": [
       "<tf.Tensor: shape=(), dtype=int32, numpy=-1>"
      ]
     },
     "execution_count": 165,
     "metadata": {},
     "output_type": "execute_result"
    }
   ],
   "source": [
    "a-b"
   ]
  },
  {
   "cell_type": "code",
   "execution_count": 166,
   "metadata": {},
   "outputs": [
    {
     "data": {
      "text/plain": [
       "<tf.Tensor: shape=(), dtype=float64, numpy=0.75>"
      ]
     },
     "execution_count": 166,
     "metadata": {},
     "output_type": "execute_result"
    }
   ],
   "source": [
    "a/b"
   ]
  },
  {
   "cell_type": "code",
   "execution_count": 167,
   "metadata": {},
   "outputs": [],
   "source": [
    "c=a-b"
   ]
  },
  {
   "cell_type": "code",
   "execution_count": 168,
   "metadata": {},
   "outputs": [],
   "source": [
    "c=c+2"
   ]
  },
  {
   "cell_type": "code",
   "execution_count": 169,
   "metadata": {},
   "outputs": [
    {
     "data": {
      "text/plain": [
       "<tf.Tensor: shape=(), dtype=int32, numpy=1>"
      ]
     },
     "execution_count": 169,
     "metadata": {},
     "output_type": "execute_result"
    }
   ],
   "source": [
    "c\n"
   ]
  },
  {
   "cell_type": "code",
   "execution_count": 170,
   "metadata": {},
   "outputs": [
    {
     "data": {
      "text/plain": [
       "<tf.Variable 'UnreadVariable' shape=() dtype=int32, numpy=10>"
      ]
     },
     "execution_count": 170,
     "metadata": {},
     "output_type": "execute_result"
    }
   ],
   "source": [
    "b.assign(10)"
   ]
  },
  {
   "cell_type": "code",
   "execution_count": 171,
   "metadata": {},
   "outputs": [
    {
     "data": {
      "text/plain": [
       "<tf.Variable 'UnreadVariable' shape=() dtype=int32, numpy=12>"
      ]
     },
     "execution_count": 171,
     "metadata": {},
     "output_type": "execute_result"
    }
   ],
   "source": [
    "b.assign_add(2)"
   ]
  },
  {
   "cell_type": "code",
   "execution_count": 172,
   "metadata": {},
   "outputs": [
    {
     "data": {
      "text/plain": [
       "<tf.Variable 'UnreadVariable' shape=() dtype=int32, numpy=9>"
      ]
     },
     "execution_count": 172,
     "metadata": {},
     "output_type": "execute_result"
    }
   ],
   "source": [
    "b.assign_sub(3)"
   ]
  },
  {
   "cell_type": "code",
   "execution_count": 173,
   "metadata": {},
   "outputs": [
    {
     "data": {
      "text/plain": [
       "3"
      ]
     },
     "execution_count": 173,
     "metadata": {},
     "output_type": "execute_result"
    }
   ],
   "source": [
    "a.numpy()"
   ]
  },
  {
   "cell_type": "code",
   "execution_count": 174,
   "metadata": {},
   "outputs": [
    {
     "data": {
      "text/plain": [
       "9"
      ]
     },
     "execution_count": 174,
     "metadata": {},
     "output_type": "execute_result"
    }
   ],
   "source": [
    "b.numpy()"
   ]
  },
  {
   "cell_type": "code",
   "execution_count": 175,
   "metadata": {},
   "outputs": [],
   "source": [
    "a=tf.constant([1,2,3,44,5,68],shape=(3,2))"
   ]
  },
  {
   "cell_type": "code",
   "execution_count": 176,
   "metadata": {},
   "outputs": [
    {
     "data": {
      "text/plain": [
       "<tf.Tensor: shape=(3, 2), dtype=int32, numpy=\n",
       "array([[ 1,  2],\n",
       "       [ 3, 44],\n",
       "       [ 5, 68]])>"
      ]
     },
     "execution_count": 176,
     "metadata": {},
     "output_type": "execute_result"
    }
   ],
   "source": [
    "a"
   ]
  },
  {
   "cell_type": "code",
   "execution_count": 177,
   "metadata": {},
   "outputs": [],
   "source": [
    "b=tf.constant([2,3,4,5,67,8],shape=(2,3))"
   ]
  },
  {
   "cell_type": "code",
   "execution_count": 178,
   "metadata": {},
   "outputs": [
    {
     "data": {
      "text/plain": [
       "<tf.Tensor: shape=(2, 3), dtype=int32, numpy=\n",
       "array([[ 2,  3,  4],\n",
       "       [ 5, 67,  8]])>"
      ]
     },
     "execution_count": 178,
     "metadata": {},
     "output_type": "execute_result"
    }
   ],
   "source": [
    "b"
   ]
  },
  {
   "cell_type": "code",
   "execution_count": 179,
   "metadata": {},
   "outputs": [
    {
     "data": {
      "text/plain": [
       "<tf.Tensor: shape=(3, 3), dtype=int32, numpy=\n",
       "array([[  12,  137,   20],\n",
       "       [ 226, 2957,  364],\n",
       "       [ 350, 4571,  564]])>"
      ]
     },
     "execution_count": 179,
     "metadata": {},
     "output_type": "execute_result"
    }
   ],
   "source": [
    "a@b"
   ]
  },
  {
   "cell_type": "code",
   "execution_count": 180,
   "metadata": {},
   "outputs": [
    {
     "data": {
      "text/plain": [
       "<tf.Tensor: shape=(3, 3), dtype=int32, numpy=\n",
       "array([[  12,  137,   20],\n",
       "       [ 226, 2957,  364],\n",
       "       [ 350, 4571,  564]])>"
      ]
     },
     "execution_count": 180,
     "metadata": {},
     "output_type": "execute_result"
    }
   ],
   "source": [
    "tf.matmul(a,b)"
   ]
  },
  {
   "cell_type": "code",
   "execution_count": 181,
   "metadata": {},
   "outputs": [],
   "source": [
    "p=tf.constant([2,3,45,7,8,7],shape=(2,3))"
   ]
  },
  {
   "cell_type": "code",
   "execution_count": 182,
   "metadata": {},
   "outputs": [
    {
     "data": {
      "text/plain": [
       "<tf.Tensor: shape=(2, 2), dtype=int32, numpy=\n",
       "array([[193,  66],\n",
       "       [571, 627]])>"
      ]
     },
     "execution_count": 182,
     "metadata": {},
     "output_type": "execute_result"
    }
   ],
   "source": [
    "b@p.numpy().T"
   ]
  },
  {
   "cell_type": "code",
   "execution_count": 183,
   "metadata": {},
   "outputs": [
    {
     "data": {
      "text/plain": [
       "<tf.Tensor: shape=(2, 2), dtype=int32, numpy=\n",
       "array([[193,  66],\n",
       "       [571, 627]])>"
      ]
     },
     "execution_count": 183,
     "metadata": {},
     "output_type": "execute_result"
    }
   ],
   "source": [
    "b@tf.linalg.matrix_transpose(p)"
   ]
  },
  {
   "cell_type": "code",
   "execution_count": 184,
   "metadata": {},
   "outputs": [
    {
     "data": {
      "text/plain": [
       "<tf.Tensor: shape=(2, 2), dtype=int32, numpy=\n",
       "array([[193,  66],\n",
       "       [571, 627]])>"
      ]
     },
     "execution_count": 184,
     "metadata": {},
     "output_type": "execute_result"
    }
   ],
   "source": [
    "tf.matmul(b,p,transpose_b=True)"
   ]
  },
  {
   "cell_type": "code",
   "execution_count": 185,
   "metadata": {
    "scrolled": true
   },
   "outputs": [
    {
     "data": {
      "text/plain": [
       "<tf.Tensor: shape=(2, 2), dtype=float32, numpy=\n",
       "array([[-2.0000002 ,  1.0000001 ],\n",
       "       [ 1.5000001 , -0.50000006]], dtype=float32)>"
      ]
     },
     "execution_count": 185,
     "metadata": {},
     "output_type": "execute_result"
    }
   ],
   "source": [
    "tf.linalg.inv(tf.constant([1,2,3,4],shape=(2,2),dtype=float))"
   ]
  },
  {
   "cell_type": "markdown",
   "metadata": {},
   "source": [
    "# Gradients in Tensorflow"
   ]
  },
  {
   "cell_type": "code",
   "execution_count": 186,
   "metadata": {},
   "outputs": [
    {
     "data": {
      "text/plain": [
       "<tf.Tensor: shape=(), dtype=float32, numpy=50.28366>"
      ]
     },
     "execution_count": 186,
     "metadata": {},
     "output_type": "execute_result"
    }
   ],
   "source": [
    "def func(x):\n",
    "    return x**2+5*x+tf.math.cos(x)\n",
    "\n",
    "func(5.0)"
   ]
  },
  {
   "cell_type": "code",
   "execution_count": 187,
   "metadata": {},
   "outputs": [],
   "source": [
    "x=tf.Variable(3,dtype=float)\n",
    "with tf.GradientTape() as g:\n",
    "    y=func(x)\n",
    "    "
   ]
  },
  {
   "cell_type": "code",
   "execution_count": 188,
   "metadata": {},
   "outputs": [
    {
     "name": "stdout",
     "output_type": "stream",
     "text": [
      "tf.Tensor(10.85888, shape=(), dtype=float32)\n"
     ]
    }
   ],
   "source": [
    "print(g.gradient(y,x))"
   ]
  },
  {
   "cell_type": "code",
   "execution_count": 189,
   "metadata": {},
   "outputs": [],
   "source": [
    "grad_val=[]\n",
    "func_val=[]\n",
    "x_val=[]\n",
    "x=tf.Variable(0,dtype=float)\n",
    "\n",
    "for i in range(100):\n",
    "    with tf.GradientTape() as g:\n",
    "        y=func(x)\n",
    "    x.assign_add(0.5)\n",
    "    x_val.append(x.numpy())\n",
    "    grad_val.append(g.gradient(y,x).numpy())\n",
    "    func_val.append(y.numpy())"
   ]
  },
  {
   "cell_type": "code",
   "execution_count": 190,
   "metadata": {},
   "outputs": [],
   "source": [
    "import seaborn as sns\n",
    "%matplotlib inline"
   ]
  },
  {
   "cell_type": "code",
   "execution_count": 191,
   "metadata": {},
   "outputs": [],
   "source": [
    "import pandas as pd"
   ]
  },
  {
   "cell_type": "code",
   "execution_count": 192,
   "metadata": {},
   "outputs": [],
   "source": [
    "df=pd.DataFrame({\"x_val\":x_val,\"grad_val\":grad_val,\"func_val\":func_val})"
   ]
  },
  {
   "cell_type": "code",
   "execution_count": 193,
   "metadata": {},
   "outputs": [
    {
     "data": {
      "text/html": [
       "<div>\n",
       "<style scoped>\n",
       "    .dataframe tbody tr th:only-of-type {\n",
       "        vertical-align: middle;\n",
       "    }\n",
       "\n",
       "    .dataframe tbody tr th {\n",
       "        vertical-align: top;\n",
       "    }\n",
       "\n",
       "    .dataframe thead th {\n",
       "        text-align: right;\n",
       "    }\n",
       "</style>\n",
       "<table border=\"1\" class=\"dataframe\">\n",
       "  <thead>\n",
       "    <tr style=\"text-align: right;\">\n",
       "      <th></th>\n",
       "      <th>x_val</th>\n",
       "      <th>grad_val</th>\n",
       "      <th>func_val</th>\n",
       "    </tr>\n",
       "  </thead>\n",
       "  <tbody>\n",
       "    <tr>\n",
       "      <td>0</td>\n",
       "      <td>0.5</td>\n",
       "      <td>5.000000</td>\n",
       "      <td>1.000000</td>\n",
       "    </tr>\n",
       "    <tr>\n",
       "      <td>1</td>\n",
       "      <td>1.0</td>\n",
       "      <td>5.520575</td>\n",
       "      <td>3.627583</td>\n",
       "    </tr>\n",
       "    <tr>\n",
       "      <td>2</td>\n",
       "      <td>1.5</td>\n",
       "      <td>6.158529</td>\n",
       "      <td>6.540302</td>\n",
       "    </tr>\n",
       "    <tr>\n",
       "      <td>3</td>\n",
       "      <td>2.0</td>\n",
       "      <td>7.002505</td>\n",
       "      <td>9.820737</td>\n",
       "    </tr>\n",
       "    <tr>\n",
       "      <td>4</td>\n",
       "      <td>2.5</td>\n",
       "      <td>8.090702</td>\n",
       "      <td>13.583853</td>\n",
       "    </tr>\n",
       "    <tr>\n",
       "      <td>...</td>\n",
       "      <td>...</td>\n",
       "      <td>...</td>\n",
       "      <td>...</td>\n",
       "    </tr>\n",
       "    <tr>\n",
       "      <td>95</td>\n",
       "      <td>48.0</td>\n",
       "      <td>100.367302</td>\n",
       "      <td>2492.819824</td>\n",
       "    </tr>\n",
       "    <tr>\n",
       "      <td>96</td>\n",
       "      <td>48.5</td>\n",
       "      <td>101.768257</td>\n",
       "      <td>2543.359863</td>\n",
       "    </tr>\n",
       "    <tr>\n",
       "      <td>97</td>\n",
       "      <td>49.0</td>\n",
       "      <td>102.981110</td>\n",
       "      <td>2594.556641</td>\n",
       "    </tr>\n",
       "    <tr>\n",
       "      <td>98</td>\n",
       "      <td>49.5</td>\n",
       "      <td>103.953751</td>\n",
       "      <td>2646.300537</td>\n",
       "    </tr>\n",
       "    <tr>\n",
       "      <td>99</td>\n",
       "      <td>50.0</td>\n",
       "      <td>104.692886</td>\n",
       "      <td>2698.470947</td>\n",
       "    </tr>\n",
       "  </tbody>\n",
       "</table>\n",
       "<p>100 rows × 3 columns</p>\n",
       "</div>"
      ],
      "text/plain": [
       "    x_val    grad_val     func_val\n",
       "0     0.5    5.000000     1.000000\n",
       "1     1.0    5.520575     3.627583\n",
       "2     1.5    6.158529     6.540302\n",
       "3     2.0    7.002505     9.820737\n",
       "4     2.5    8.090702    13.583853\n",
       "..    ...         ...          ...\n",
       "95   48.0  100.367302  2492.819824\n",
       "96   48.5  101.768257  2543.359863\n",
       "97   49.0  102.981110  2594.556641\n",
       "98   49.5  103.953751  2646.300537\n",
       "99   50.0  104.692886  2698.470947\n",
       "\n",
       "[100 rows x 3 columns]"
      ]
     },
     "execution_count": 193,
     "metadata": {},
     "output_type": "execute_result"
    }
   ],
   "source": [
    "df"
   ]
  },
  {
   "cell_type": "code",
   "execution_count": 194,
   "metadata": {},
   "outputs": [
    {
     "data": {
      "text/plain": [
       "<matplotlib.axes._subplots.AxesSubplot at 0x1b390dc8>"
      ]
     },
     "execution_count": 194,
     "metadata": {},
     "output_type": "execute_result"
    },
    {
     "data": {
      "image/png": "[encoded data removed]",
      "text/plain": [
       "<Figure size 432x288 with 1 Axes>"
      ]
     },
     "metadata": {
      "needs_background": "light"
     },
     "output_type": "display_data"
    }
   ],
   "source": [
    "sns.scatterplot(y=df['func_val'],x=df['x_val'])"
   ]
  },
  {
   "cell_type": "code",
   "execution_count": 195,
   "metadata": {},
   "outputs": [
    {
     "data": {
      "text/plain": [
       "<matplotlib.axes._subplots.AxesSubplot at 0x1a202348>"
      ]
     },
     "execution_count": 195,
     "metadata": {},
     "output_type": "execute_result"
    },
    {
     "data": {
      "image/png": "[encoded data removed]",
      "text/plain": [
       "<Figure size 432x288 with 1 Axes>"
      ]
     },
     "metadata": {
      "needs_background": "light"
     },
     "output_type": "display_data"
    }
   ],
   "source": [
    "sns.scatterplot(x=df['x_val'],y=df['grad_val'])"
   ]
  },
  {
   "cell_type": "markdown",
   "metadata": {},
   "source": [
    "# Simple linear regression using gradient tape\n"
   ]
  },
  {
   "cell_type": "code",
   "execution_count": 196,
   "metadata": {},
   "outputs": [],
   "source": [
    "import numpy as np"
   ]
  },
  {
   "cell_type": "code",
   "execution_count": 197,
   "metadata": {},
   "outputs": [],
   "source": [
    "x1=np.random.randint(0,30,200000)\n",
    "x2=np.random.randint(0,30,200000)\n",
    "data=pd.DataFrame({\"x1\":x1,\"x2\":x2})\n",
    "y=2+4*x1+8*x2+5*np.random.random(200000)\n"
   ]
  },
  {
   "cell_type": "code",
   "execution_count": 198,
   "metadata": {},
   "outputs": [
    {
     "data": {
      "text/plain": [
       "(200000, 2)"
      ]
     },
     "execution_count": 198,
     "metadata": {},
     "output_type": "execute_result"
    }
   ],
   "source": [
    "data.shape"
   ]
  },
  {
   "cell_type": "code",
   "execution_count": 199,
   "metadata": {},
   "outputs": [],
   "source": [
    "class preds:\n",
    "    def __init__(self):\n",
    "        self.w1=tf.Variable(0,dtype=float)\n",
    "        self.w2=tf.Variable(0.0)\n",
    "        self.b=tf.Variable(0.0)\n",
    "    \n",
    "    def __call__(self,data):\n",
    "        result=self.w1*data.iloc[:,0]+self.w2*data.iloc[:,1]+self.b\n",
    "        return (result)\n",
    "    "
   ]
  },
  {
   "cell_type": "code",
   "execution_count": 200,
   "metadata": {},
   "outputs": [],
   "source": [
    "model=preds()"
   ]
  },
  {
   "cell_type": "code",
   "execution_count": 201,
   "metadata": {},
   "outputs": [
    {
     "data": {
      "text/plain": [
       "array([0., 0., 0., ..., 0., 0., 0.], dtype=float32)"
      ]
     },
     "execution_count": 201,
     "metadata": {},
     "output_type": "execute_result"
    }
   ],
   "source": [
    "model(data).numpy()"
   ]
  },
  {
   "cell_type": "code",
   "execution_count": 202,
   "metadata": {},
   "outputs": [],
   "source": [
    "def loss(predicted_y,target_y):\n",
    "    return tf.reduce_mean(tf.square(predicted_y-target_y))"
   ]
  },
  {
   "cell_type": "code",
   "execution_count": 203,
   "metadata": {},
   "outputs": [],
   "source": [
    "def train(model,inputs,outputs,learning_rate):\n",
    "    with tf.GradientTape() as g:\n",
    "        current_loss=loss(model(inputs),outputs)\n",
    "    dw1,dw2,db=g.gradient(current_loss,[model.w1,model.w2,model.b])\n",
    "    model.w1.assign_sub(learning_rate*dw1)\n",
    "    model.w2.assign_sub(learning_rate*dw2)\n",
    "    model.b.assign_sub(learning_rate*db)\n",
    "        "
   ]
  },
  {
   "cell_type": "code",
   "execution_count": 204,
   "metadata": {},
   "outputs": [
    {
     "name": "stdout",
     "output_type": "stream",
     "text": [
      "Epcoh  0 W1=0.00 W2=0.00 b=0.00 loss=37437.75391\n",
      "Epcoh  1 W1=0.60 W2=0.61 b=0.04 loss=31309.15234\n",
      "Epcoh  2 W1=1.17 W2=1.18 b=0.07 loss=26730.17578\n",
      "Epcoh  3 W1=1.62 W2=1.76 b=0.10 loss=22973.82031\n",
      "Epcoh  4 W1=2.08 W2=2.30 b=0.13 loss=15356.18848\n",
      "Epcoh  5 W1=2.42 W2=2.71 b=0.15 loss=13528.00977\n",
      "Epcoh  6 W1=2.76 W2=3.10 b=0.17 loss=9758.74707\n",
      "Epcoh  7 W1=3.05 W2=3.41 b=0.19 loss=8376.69629\n",
      "Epcoh  8 W1=3.30 W2=3.70 b=0.20 loss=7377.10498\n",
      "Epcoh  9 W1=3.52 W2=4.00 b=0.22 loss=5620.43262\n",
      "Epcoh 10 W1=3.72 W2=4.24 b=0.23 loss=4808.02588\n",
      "Epcoh 11 W1=3.90 W2=4.47 b=0.25 loss=4467.78125\n",
      "Epcoh 12 W1=4.07 W2=4.70 b=0.26 loss=3454.04761\n",
      "Epcoh 13 W1=4.21 W2=4.90 b=0.27 loss=2727.13257\n",
      "Epcoh 14 W1=4.33 W2=5.07 b=0.28 loss=2494.20410\n",
      "Epcoh 15 W1=4.44 W2=5.24 b=0.29 loss=1940.07520\n",
      "Epcoh 16 W1=4.56 W2=5.39 b=0.29 loss=1494.74780\n",
      "Epcoh 17 W1=4.65 W2=5.51 b=0.30 loss=1462.13074\n",
      "Epcoh 18 W1=4.73 W2=5.64 b=0.31 loss=1442.08740\n",
      "Epcoh 19 W1=4.81 W2=5.78 b=0.31 loss=962.03888\n",
      "Epcoh 20 W1=4.87 W2=5.87 b=0.32 loss=816.29797\n",
      "Epcoh 21 W1=4.92 W2=5.96 b=0.32 loss=720.42773\n",
      "Epcoh 22 W1=4.96 W2=6.05 b=0.32 loss=772.95227\n",
      "Epcoh 23 W1=5.00 W2=6.13 b=0.33 loss=597.56555\n",
      "Epcoh 24 W1=5.04 W2=6.21 b=0.33 loss=510.56281\n",
      "Epcoh 25 W1=5.06 W2=6.27 b=0.33 loss=439.78851\n",
      "Epcoh 26 W1=5.07 W2=6.32 b=0.34 loss=448.95102\n",
      "Epcoh 27 W1=5.10 W2=6.39 b=0.34 loss=376.39703\n",
      "Epcoh 28 W1=5.12 W2=6.44 b=0.34 loss=379.15015\n",
      "Epcoh 29 W1=5.12 W2=6.49 b=0.34 loss=403.47345\n",
      "Epcoh 30 W1=5.13 W2=6.54 b=0.34 loss=319.44745\n",
      "Epcoh 31 W1=5.14 W2=6.59 b=0.35 loss=287.72437\n",
      "Epcoh 32 W1=5.15 W2=6.63 b=0.35 loss=271.26776\n",
      "Epcoh 33 W1=5.16 W2=6.67 b=0.35 loss=276.33298\n",
      "Epcoh 34 W1=5.16 W2=6.71 b=0.35 loss=246.91760\n",
      "Epcoh 35 W1=5.15 W2=6.74 b=0.35 loss=239.36578\n",
      "Epcoh 36 W1=5.16 W2=6.78 b=0.35 loss=274.46933\n",
      "Epcoh 37 W1=5.16 W2=6.82 b=0.35 loss=232.67085\n",
      "Epcoh 38 W1=5.15 W2=6.85 b=0.36 loss=204.90004\n",
      "Epcoh 39 W1=5.15 W2=6.88 b=0.36 loss=247.72223\n",
      "Epcoh 40 W1=5.14 W2=6.91 b=0.36 loss=188.37375\n",
      "Epcoh 41 W1=5.14 W2=6.94 b=0.36 loss=218.95091\n",
      "Epcoh 42 W1=5.13 W2=6.97 b=0.36 loss=206.22063\n",
      "Epcoh 43 W1=5.13 W2=7.00 b=0.36 loss=243.97971\n",
      "Epcoh 44 W1=5.12 W2=7.04 b=0.36 loss=132.44115\n",
      "Epcoh 45 W1=5.11 W2=7.05 b=0.36 loss=138.45268\n",
      "Epcoh 46 W1=5.09 W2=7.06 b=0.36 loss=189.92490\n",
      "Epcoh 47 W1=5.09 W2=7.09 b=0.36 loss=198.92328\n",
      "Epcoh 48 W1=5.07 W2=7.11 b=0.36 loss=159.71144\n",
      "Epcoh 49 W1=5.05 W2=7.13 b=0.36 loss=132.00043\n",
      "Epcoh 50 W1=5.04 W2=7.14 b=0.36 loss=129.46971\n",
      "Epcoh 51 W1=5.03 W2=7.15 b=0.36 loss=138.78210\n",
      "Epcoh 52 W1=5.01 W2=7.17 b=0.36 loss=112.32890\n",
      "Epcoh 53 W1=5.01 W2=7.19 b=0.36 loss=125.55654\n",
      "Epcoh 54 W1=5.00 W2=7.20 b=0.36 loss=105.67690\n",
      "Epcoh 55 W1=4.99 W2=7.22 b=0.36 loss=107.45560\n",
      "Epcoh 56 W1=4.98 W2=7.23 b=0.36 loss=111.26267\n",
      "Epcoh 57 W1=4.98 W2=7.25 b=0.36 loss=126.62182\n",
      "Epcoh 58 W1=4.96 W2=7.26 b=0.36 loss=127.51660\n",
      "Epcoh 59 W1=4.95 W2=7.28 b=0.36 loss=112.40959\n",
      "Epcoh 60 W1=4.93 W2=7.29 b=0.36 loss=112.98050\n",
      "Epcoh 61 W1=4.92 W2=7.30 b=0.36 loss=101.79610\n",
      "Epcoh 62 W1=4.91 W2=7.32 b=0.37 loss=109.08688\n",
      "Epcoh 63 W1=4.90 W2=7.34 b=0.37 loss=109.43304\n",
      "Epcoh 64 W1=4.89 W2=7.34 b=0.37 loss=95.39215\n",
      "Epcoh 65 W1=4.87 W2=7.35 b=0.37 loss=100.10318\n",
      "Epcoh 66 W1=4.86 W2=7.36 b=0.37 loss=81.89162\n",
      "Epcoh 67 W1=4.85 W2=7.37 b=0.37 loss=89.24197\n",
      "Epcoh 68 W1=4.84 W2=7.39 b=0.37 loss=94.25582\n",
      "Epcoh 69 W1=4.83 W2=7.40 b=0.37 loss=88.61728\n",
      "Epcoh 70 W1=4.82 W2=7.41 b=0.37 loss=79.11102\n",
      "Epcoh 71 W1=4.81 W2=7.43 b=0.37 loss=85.94152\n",
      "Epcoh 72 W1=4.79 W2=7.43 b=0.37 loss=78.57108\n",
      "Epcoh 73 W1=4.77 W2=7.44 b=0.37 loss=89.55507\n",
      "Epcoh 74 W1=4.76 W2=7.45 b=0.37 loss=65.72300\n",
      "Epcoh 75 W1=4.76 W2=7.47 b=0.37 loss=79.35770\n",
      "Epcoh 76 W1=4.75 W2=7.48 b=0.37 loss=66.77061\n",
      "Epcoh 77 W1=4.74 W2=7.49 b=0.37 loss=64.62937\n",
      "Epcoh 78 W1=4.73 W2=7.50 b=0.37 loss=67.72136\n",
      "Epcoh 79 W1=4.72 W2=7.51 b=0.37 loss=67.19437\n",
      "Epcoh 80 W1=4.71 W2=7.52 b=0.37 loss=60.91378\n",
      "Epcoh 81 W1=4.70 W2=7.53 b=0.37 loss=53.74747\n",
      "Epcoh 82 W1=4.69 W2=7.54 b=0.37 loss=56.95245\n",
      "Epcoh 83 W1=4.68 W2=7.54 b=0.37 loss=61.39679\n",
      "Epcoh 84 W1=4.67 W2=7.56 b=0.37 loss=46.79485\n",
      "Epcoh 85 W1=4.66 W2=7.56 b=0.37 loss=44.85631\n",
      "Epcoh 86 W1=4.66 W2=7.57 b=0.37 loss=48.66155\n",
      "Epcoh 87 W1=4.65 W2=7.58 b=0.37 loss=44.45831\n",
      "Epcoh 88 W1=4.64 W2=7.59 b=0.37 loss=43.94300\n",
      "Epcoh 89 W1=4.63 W2=7.59 b=0.37 loss=48.83163\n",
      "Epcoh 90 W1=4.63 W2=7.60 b=0.37 loss=42.40491\n",
      "Epcoh 91 W1=4.62 W2=7.61 b=0.37 loss=50.00478\n",
      "Epcoh 92 W1=4.61 W2=7.62 b=0.37 loss=39.99720\n",
      "Epcoh 93 W1=4.61 W2=7.63 b=0.37 loss=41.91162\n",
      "Epcoh 94 W1=4.60 W2=7.64 b=0.37 loss=41.65691\n",
      "Epcoh 95 W1=4.59 W2=7.65 b=0.37 loss=32.52335\n",
      "Epcoh 96 W1=4.59 W2=7.66 b=0.37 loss=43.62355\n",
      "Epcoh 97 W1=4.58 W2=7.66 b=0.37 loss=41.17279\n",
      "Epcoh 98 W1=4.57 W2=7.67 b=0.37 loss=36.42715\n",
      "Epcoh 99 W1=4.56 W2=7.68 b=0.37 loss=39.08889\n",
      "Epcoh 100 W1=4.55 W2=7.69 b=0.37 loss=29.90112\n",
      "Epcoh 101 W1=4.55 W2=7.69 b=0.37 loss=37.17896\n",
      "Epcoh 102 W1=4.54 W2=7.70 b=0.37 loss=31.12605\n",
      "Epcoh 103 W1=4.53 W2=7.71 b=0.37 loss=32.69796\n",
      "Epcoh 104 W1=4.53 W2=7.71 b=0.37 loss=24.44022\n",
      "Epcoh 105 W1=4.52 W2=7.72 b=0.37 loss=33.46233\n",
      "Epcoh 106 W1=4.52 W2=7.73 b=0.37 loss=26.80777\n",
      "Epcoh 107 W1=4.51 W2=7.73 b=0.37 loss=31.94666\n",
      "Epcoh 108 W1=4.51 W2=7.74 b=0.37 loss=29.29123\n",
      "Epcoh 109 W1=4.50 W2=7.75 b=0.37 loss=29.40062\n",
      "Epcoh 110 W1=4.49 W2=7.75 b=0.37 loss=21.02202\n",
      "Epcoh 111 W1=4.49 W2=7.76 b=0.37 loss=27.55033\n",
      "Epcoh 112 W1=4.49 W2=7.77 b=0.37 loss=21.71864\n",
      "Epcoh 113 W1=4.48 W2=7.77 b=0.37 loss=25.38317\n",
      "Epcoh 114 W1=4.48 W2=7.78 b=0.37 loss=20.47324\n",
      "Epcoh 115 W1=4.47 W2=7.78 b=0.37 loss=22.10407\n",
      "Epcoh 116 W1=4.47 W2=7.79 b=0.37 loss=19.79887\n",
      "Epcoh 117 W1=4.46 W2=7.79 b=0.37 loss=23.27216\n",
      "Epcoh 118 W1=4.46 W2=7.80 b=0.37 loss=22.79826\n",
      "Epcoh 119 W1=4.45 W2=7.80 b=0.37 loss=21.43790\n",
      "Epcoh 120 W1=4.45 W2=7.81 b=0.37 loss=22.92858\n",
      "Epcoh 121 W1=4.44 W2=7.81 b=0.37 loss=14.43921\n",
      "Epcoh 122 W1=4.44 W2=7.82 b=0.37 loss=20.07873\n",
      "Epcoh 123 W1=4.43 W2=7.82 b=0.37 loss=19.94969\n",
      "Epcoh 124 W1=4.43 W2=7.82 b=0.37 loss=17.86386\n",
      "Epcoh 125 W1=4.42 W2=7.83 b=0.37 loss=19.91720\n",
      "Epcoh 126 W1=4.42 W2=7.84 b=0.37 loss=23.63226\n",
      "Epcoh 127 W1=4.41 W2=7.84 b=0.37 loss=17.54268\n",
      "Epcoh 128 W1=4.41 W2=7.84 b=0.37 loss=18.56231\n",
      "Epcoh 129 W1=4.40 W2=7.85 b=0.37 loss=13.37049\n",
      "Epcoh 130 W1=4.40 W2=7.85 b=0.37 loss=14.04656\n",
      "Epcoh 131 W1=4.39 W2=7.85 b=0.37 loss=15.18759\n",
      "Epcoh 132 W1=4.39 W2=7.85 b=0.37 loss=17.87528\n",
      "Epcoh 133 W1=4.38 W2=7.86 b=0.37 loss=16.34726\n",
      "Epcoh 134 W1=4.38 W2=7.87 b=0.37 loss=14.38515\n",
      "Epcoh 135 W1=4.38 W2=7.87 b=0.37 loss=13.56923\n",
      "Epcoh 136 W1=4.37 W2=7.87 b=0.37 loss=15.16188\n",
      "Epcoh 137 W1=4.37 W2=7.88 b=0.37 loss=13.12314\n",
      "Epcoh 138 W1=4.37 W2=7.88 b=0.37 loss=14.14485\n",
      "Epcoh 139 W1=4.36 W2=7.88 b=0.38 loss=14.41687\n",
      "Epcoh 140 W1=4.36 W2=7.89 b=0.38 loss=14.35420\n",
      "Epcoh 141 W1=4.35 W2=7.89 b=0.38 loss=11.84801\n",
      "Epcoh 142 W1=4.35 W2=7.90 b=0.38 loss=13.55801\n",
      "Epcoh 143 W1=4.35 W2=7.90 b=0.38 loss=12.80179\n",
      "Epcoh 144 W1=4.34 W2=7.90 b=0.38 loss=14.11261\n",
      "Epcoh 145 W1=4.34 W2=7.91 b=0.38 loss=9.67358\n",
      "Epcoh 146 W1=4.34 W2=7.91 b=0.38 loss=13.81820\n",
      "Epcoh 147 W1=4.33 W2=7.91 b=0.38 loss=11.86457\n",
      "Epcoh 148 W1=4.33 W2=7.91 b=0.38 loss=11.97708\n",
      "Epcoh 149 W1=4.32 W2=7.92 b=0.38 loss=10.67996\n",
      "Epcoh 150 W1=4.32 W2=7.92 b=0.38 loss=9.45285\n",
      "Epcoh 151 W1=4.32 W2=7.92 b=0.38 loss=10.81461\n",
      "Epcoh 152 W1=4.31 W2=7.92 b=0.38 loss=9.78653\n",
      "Epcoh 153 W1=4.31 W2=7.93 b=0.38 loss=11.09555\n",
      "Epcoh 154 W1=4.31 W2=7.93 b=0.38 loss=10.38385\n",
      "Epcoh 155 W1=4.30 W2=7.93 b=0.38 loss=8.76729\n",
      "Epcoh 156 W1=4.30 W2=7.94 b=0.38 loss=8.22916\n",
      "Epcoh 157 W1=4.30 W2=7.94 b=0.38 loss=7.86942\n",
      "Epcoh 158 W1=4.30 W2=7.94 b=0.38 loss=11.86311\n",
      "Epcoh 159 W1=4.30 W2=7.94 b=0.38 loss=7.92963\n",
      "Epcoh 160 W1=4.29 W2=7.95 b=0.38 loss=8.89268\n",
      "Epcoh 161 W1=4.29 W2=7.95 b=0.38 loss=9.22866\n",
      "Epcoh 162 W1=4.29 W2=7.95 b=0.38 loss=11.08606\n",
      "Epcoh 163 W1=4.28 W2=7.96 b=0.38 loss=8.62897\n",
      "Epcoh 164 W1=4.28 W2=7.96 b=0.38 loss=11.52585\n",
      "Epcoh 165 W1=4.28 W2=7.96 b=0.38 loss=7.97110\n",
      "Epcoh 166 W1=4.28 W2=7.96 b=0.38 loss=9.23931\n",
      "Epcoh 167 W1=4.27 W2=7.97 b=0.38 loss=8.50511\n",
      "Epcoh 168 W1=4.27 W2=7.97 b=0.38 loss=9.07752\n",
      "Epcoh 169 W1=4.27 W2=7.97 b=0.38 loss=9.76512\n",
      "Epcoh 170 W1=4.27 W2=7.98 b=0.38 loss=8.62081\n",
      "Epcoh 171 W1=4.27 W2=7.98 b=0.38 loss=9.24628\n",
      "Epcoh 172 W1=4.26 W2=7.98 b=0.38 loss=7.97414\n",
      "Epcoh 173 W1=4.26 W2=7.98 b=0.38 loss=7.33312\n",
      "Epcoh 174 W1=4.26 W2=7.99 b=0.38 loss=7.80202\n",
      "Epcoh 175 W1=4.26 W2=7.99 b=0.38 loss=6.77032\n",
      "Epcoh 176 W1=4.25 W2=7.99 b=0.38 loss=7.67249\n"
     ]
    },
    {
     "name": "stdout",
     "output_type": "stream",
     "text": [
      "Epcoh 177 W1=4.25 W2=7.99 b=0.38 loss=8.23289\n",
      "Epcoh 178 W1=4.25 W2=7.99 b=0.38 loss=7.16452\n",
      "Epcoh 179 W1=4.25 W2=7.99 b=0.38 loss=6.62332\n",
      "Epcoh 180 W1=4.25 W2=8.00 b=0.38 loss=6.92468\n",
      "Epcoh 181 W1=4.25 W2=8.00 b=0.38 loss=6.36642\n",
      "Epcoh 182 W1=4.24 W2=8.00 b=0.38 loss=7.18974\n",
      "Epcoh 183 W1=4.24 W2=8.00 b=0.38 loss=6.25987\n",
      "Epcoh 184 W1=4.24 W2=8.00 b=0.38 loss=6.67411\n",
      "Epcoh 185 W1=4.24 W2=8.00 b=0.38 loss=6.50818\n",
      "Epcoh 186 W1=4.23 W2=8.00 b=0.38 loss=6.63484\n",
      "Epcoh 187 W1=4.23 W2=8.01 b=0.38 loss=6.44374\n",
      "Epcoh 188 W1=4.23 W2=8.01 b=0.38 loss=5.45753\n",
      "Epcoh 189 W1=4.23 W2=8.01 b=0.38 loss=6.52512\n",
      "Epcoh 190 W1=4.23 W2=8.01 b=0.38 loss=6.96329\n",
      "Epcoh 191 W1=4.23 W2=8.01 b=0.38 loss=6.50581\n",
      "Epcoh 192 W1=4.22 W2=8.01 b=0.38 loss=5.49612\n",
      "Epcoh 193 W1=4.22 W2=8.01 b=0.38 loss=6.43867\n",
      "Epcoh 194 W1=4.22 W2=8.02 b=0.38 loss=6.87013\n",
      "Epcoh 195 W1=4.22 W2=8.02 b=0.38 loss=5.90440\n",
      "Epcoh 196 W1=4.22 W2=8.02 b=0.38 loss=5.37486\n",
      "Epcoh 197 W1=4.22 W2=8.02 b=0.38 loss=6.91170\n",
      "Epcoh 198 W1=4.22 W2=8.03 b=0.38 loss=5.42737\n",
      "Epcoh 199 W1=4.22 W2=8.03 b=0.38 loss=6.78015\n",
      "Epcoh 200 W1=4.21 W2=8.03 b=0.38 loss=5.25591\n",
      "Epcoh 201 W1=4.21 W2=8.03 b=0.38 loss=6.78122\n",
      "Epcoh 202 W1=4.21 W2=8.03 b=0.38 loss=6.15906\n",
      "Epcoh 203 W1=4.21 W2=8.03 b=0.38 loss=6.66133\n",
      "Epcoh 204 W1=4.21 W2=8.03 b=0.38 loss=6.33985\n",
      "Epcoh 205 W1=4.21 W2=8.04 b=0.38 loss=5.39336\n",
      "Epcoh 206 W1=4.21 W2=8.04 b=0.38 loss=6.22611\n",
      "Epcoh 207 W1=4.21 W2=8.04 b=0.38 loss=5.87879\n",
      "Epcoh 208 W1=4.20 W2=8.04 b=0.38 loss=6.36014\n",
      "Epcoh 209 W1=4.20 W2=8.04 b=0.38 loss=5.14347\n",
      "Epcoh 210 W1=4.20 W2=8.04 b=0.38 loss=7.00310\n",
      "Epcoh 211 W1=4.20 W2=8.05 b=0.38 loss=4.52279\n",
      "Epcoh 212 W1=4.20 W2=8.05 b=0.38 loss=5.21184\n",
      "Epcoh 213 W1=4.20 W2=8.05 b=0.38 loss=5.64457\n",
      "Epcoh 214 W1=4.20 W2=8.05 b=0.38 loss=5.53452\n",
      "Epcoh 215 W1=4.20 W2=8.05 b=0.38 loss=4.13082\n",
      "Epcoh 216 W1=4.20 W2=8.05 b=0.38 loss=5.18213\n",
      "Epcoh 217 W1=4.19 W2=8.05 b=0.39 loss=5.66314\n",
      "Epcoh 218 W1=4.19 W2=8.05 b=0.39 loss=4.84842\n",
      "Epcoh 219 W1=4.19 W2=8.05 b=0.39 loss=6.12846\n",
      "Epcoh 220 W1=4.19 W2=8.05 b=0.39 loss=5.53847\n",
      "Epcoh 221 W1=4.19 W2=8.05 b=0.39 loss=5.52687\n",
      "Epcoh 222 W1=4.19 W2=8.05 b=0.39 loss=5.51265\n",
      "Epcoh 223 W1=4.19 W2=8.06 b=0.39 loss=4.52019\n",
      "Epcoh 224 W1=4.19 W2=8.06 b=0.39 loss=6.52989\n",
      "Epcoh 225 W1=4.19 W2=8.06 b=0.39 loss=5.35170\n",
      "Epcoh 226 W1=4.19 W2=8.06 b=0.39 loss=5.21814\n",
      "Epcoh 227 W1=4.18 W2=8.06 b=0.39 loss=4.64821\n",
      "Epcoh 228 W1=4.18 W2=8.06 b=0.39 loss=4.95684\n",
      "Epcoh 229 W1=4.18 W2=8.06 b=0.39 loss=5.02891\n",
      "Epcoh 230 W1=4.18 W2=8.06 b=0.39 loss=4.59064\n",
      "Epcoh 231 W1=4.18 W2=8.06 b=0.39 loss=4.44511\n",
      "Epcoh 232 W1=4.18 W2=8.06 b=0.39 loss=4.78822\n",
      "Epcoh 233 W1=4.18 W2=8.06 b=0.39 loss=5.59689\n",
      "Epcoh 234 W1=4.18 W2=8.06 b=0.39 loss=5.62714\n",
      "Epcoh 235 W1=4.18 W2=8.07 b=0.39 loss=4.60993\n",
      "Epcoh 236 W1=4.17 W2=8.07 b=0.39 loss=5.22018\n",
      "Epcoh 237 W1=4.17 W2=8.07 b=0.39 loss=4.65602\n",
      "Epcoh 238 W1=4.17 W2=8.07 b=0.39 loss=5.22530\n",
      "Epcoh 239 W1=4.17 W2=8.07 b=0.39 loss=5.39703\n",
      "Epcoh 240 W1=4.17 W2=8.07 b=0.39 loss=4.72465\n",
      "Epcoh 241 W1=4.17 W2=8.07 b=0.39 loss=4.39323\n",
      "Epcoh 242 W1=4.17 W2=8.07 b=0.39 loss=4.47003\n",
      "Epcoh 243 W1=4.17 W2=8.07 b=0.39 loss=5.15481\n",
      "Epcoh 244 W1=4.17 W2=8.07 b=0.39 loss=4.54860\n",
      "Epcoh 245 W1=4.16 W2=8.07 b=0.39 loss=4.28721\n",
      "Epcoh 246 W1=4.16 W2=8.07 b=0.39 loss=5.19249\n",
      "Epcoh 247 W1=4.17 W2=8.07 b=0.39 loss=4.79221\n",
      "Epcoh 248 W1=4.16 W2=8.08 b=0.39 loss=5.61724\n",
      "Epcoh 249 W1=4.16 W2=8.08 b=0.39 loss=5.13662\n",
      "Epcoh 250 W1=4.16 W2=8.08 b=0.39 loss=4.36651\n",
      "Epcoh 251 W1=4.16 W2=8.08 b=0.39 loss=4.02394\n",
      "Epcoh 252 W1=4.16 W2=8.08 b=0.39 loss=5.35829\n",
      "Epcoh 253 W1=4.16 W2=8.08 b=0.39 loss=4.42693\n",
      "Epcoh 254 W1=4.16 W2=8.08 b=0.39 loss=5.12511\n",
      "Epcoh 255 W1=4.16 W2=8.08 b=0.39 loss=4.79357\n",
      "Epcoh 256 W1=4.16 W2=8.08 b=0.39 loss=5.42875\n",
      "Epcoh 257 W1=4.16 W2=8.08 b=0.39 loss=3.66572\n",
      "Epcoh 258 W1=4.15 W2=8.08 b=0.39 loss=4.57372\n",
      "Epcoh 259 W1=4.15 W2=8.08 b=0.39 loss=4.51812\n",
      "Epcoh 260 W1=4.15 W2=8.08 b=0.39 loss=5.06432\n",
      "Epcoh 261 W1=4.15 W2=8.08 b=0.39 loss=4.68609\n",
      "Epcoh 262 W1=4.15 W2=8.08 b=0.39 loss=3.82026\n",
      "Epcoh 263 W1=4.15 W2=8.08 b=0.39 loss=4.95308\n",
      "Epcoh 264 W1=4.15 W2=8.08 b=0.39 loss=5.01411\n",
      "Epcoh 265 W1=4.15 W2=8.08 b=0.39 loss=4.67954\n",
      "Epcoh 266 W1=4.15 W2=8.08 b=0.39 loss=3.87641\n",
      "Epcoh 267 W1=4.15 W2=8.09 b=0.39 loss=5.10591\n",
      "Epcoh 268 W1=4.15 W2=8.09 b=0.39 loss=4.09316\n",
      "Epcoh 269 W1=4.15 W2=8.09 b=0.39 loss=4.98406\n",
      "Epcoh 270 W1=4.15 W2=8.09 b=0.39 loss=5.01191\n",
      "Epcoh 271 W1=4.15 W2=8.09 b=0.39 loss=4.41836\n",
      "Epcoh 272 W1=4.15 W2=8.09 b=0.39 loss=3.87748\n",
      "Epcoh 273 W1=4.15 W2=8.09 b=0.39 loss=3.78797\n",
      "Epcoh 274 W1=4.15 W2=8.09 b=0.39 loss=5.93494\n",
      "Epcoh 275 W1=4.15 W2=8.09 b=0.39 loss=5.01716\n",
      "Epcoh 276 W1=4.15 W2=8.09 b=0.39 loss=5.00913\n",
      "Epcoh 277 W1=4.15 W2=8.09 b=0.39 loss=5.06749\n",
      "Epcoh 278 W1=4.15 W2=8.09 b=0.39 loss=5.35720\n",
      "Epcoh 279 W1=4.15 W2=8.09 b=0.39 loss=4.23328\n",
      "Epcoh 280 W1=4.15 W2=8.09 b=0.39 loss=4.83842\n",
      "Epcoh 281 W1=4.15 W2=8.09 b=0.39 loss=4.73926\n",
      "Epcoh 282 W1=4.15 W2=8.10 b=0.39 loss=4.74263\n",
      "Epcoh 283 W1=4.15 W2=8.10 b=0.39 loss=5.16440\n",
      "Epcoh 284 W1=4.14 W2=8.10 b=0.39 loss=5.66405\n",
      "Epcoh 285 W1=4.14 W2=8.10 b=0.39 loss=4.38683\n",
      "Epcoh 286 W1=4.14 W2=8.10 b=0.39 loss=4.67404\n",
      "Epcoh 287 W1=4.14 W2=8.10 b=0.39 loss=3.46800\n",
      "Epcoh 288 W1=4.14 W2=8.09 b=0.39 loss=4.60317\n",
      "Epcoh 289 W1=4.14 W2=8.09 b=0.39 loss=5.81802\n",
      "Epcoh 290 W1=4.14 W2=8.10 b=0.39 loss=4.44339\n",
      "Epcoh 291 W1=4.14 W2=8.10 b=0.39 loss=4.81847\n",
      "Epcoh 292 W1=4.14 W2=8.10 b=0.39 loss=4.83096\n",
      "Epcoh 293 W1=4.14 W2=8.10 b=0.39 loss=4.95448\n",
      "Epcoh 294 W1=4.14 W2=8.10 b=0.39 loss=5.14037\n",
      "Epcoh 295 W1=4.14 W2=8.10 b=0.39 loss=4.68827\n",
      "Epcoh 296 W1=4.14 W2=8.10 b=0.39 loss=4.80710\n",
      "Epcoh 297 W1=4.14 W2=8.10 b=0.39 loss=4.46985\n",
      "Epcoh 298 W1=4.14 W2=8.10 b=0.39 loss=5.12642\n",
      "Epcoh 299 W1=4.14 W2=8.10 b=0.39 loss=5.06367\n",
      "Epcoh 300 W1=4.14 W2=8.10 b=0.40 loss=3.65562\n",
      "Epcoh 301 W1=4.14 W2=8.10 b=0.40 loss=5.11604\n",
      "Epcoh 302 W1=4.14 W2=8.10 b=0.40 loss=6.03902\n",
      "Epcoh 303 W1=4.14 W2=8.10 b=0.40 loss=5.11416\n",
      "Epcoh 304 W1=4.14 W2=8.10 b=0.40 loss=5.34231\n",
      "Epcoh 305 W1=4.14 W2=8.10 b=0.40 loss=5.57743\n",
      "Epcoh 306 W1=4.14 W2=8.10 b=0.40 loss=3.47054\n",
      "Epcoh 307 W1=4.14 W2=8.10 b=0.40 loss=3.44423\n",
      "Epcoh 308 W1=4.14 W2=8.10 b=0.40 loss=5.47680\n",
      "Epcoh 309 W1=4.14 W2=8.10 b=0.40 loss=5.84285\n",
      "Epcoh 310 W1=4.14 W2=8.11 b=0.40 loss=3.86107\n",
      "Epcoh 311 W1=4.14 W2=8.10 b=0.40 loss=5.40946\n",
      "Epcoh 312 W1=4.14 W2=8.10 b=0.40 loss=4.93770\n",
      "Epcoh 313 W1=4.14 W2=8.11 b=0.40 loss=4.92693\n",
      "Epcoh 314 W1=4.14 W2=8.11 b=0.40 loss=4.79219\n",
      "Epcoh 315 W1=4.14 W2=8.10 b=0.40 loss=4.28925\n",
      "Epcoh 316 W1=4.14 W2=8.11 b=0.40 loss=4.67063\n",
      "Epcoh 317 W1=4.14 W2=8.11 b=0.40 loss=5.24753\n",
      "Epcoh 318 W1=4.14 W2=8.11 b=0.40 loss=5.02726\n",
      "Epcoh 319 W1=4.14 W2=8.10 b=0.40 loss=4.35645\n",
      "Epcoh 320 W1=4.14 W2=8.10 b=0.40 loss=4.74758\n",
      "Epcoh 321 W1=4.13 W2=8.10 b=0.40 loss=4.12998\n",
      "Epcoh 322 W1=4.13 W2=8.10 b=0.40 loss=3.80619\n",
      "Epcoh 323 W1=4.13 W2=8.10 b=0.40 loss=4.25571\n",
      "Epcoh 324 W1=4.13 W2=8.10 b=0.40 loss=5.45747\n",
      "Epcoh 325 W1=4.13 W2=8.10 b=0.40 loss=4.83788\n",
      "Epcoh 326 W1=4.13 W2=8.10 b=0.40 loss=4.67614\n",
      "Epcoh 327 W1=4.13 W2=8.11 b=0.40 loss=4.35465\n",
      "Epcoh 328 W1=4.13 W2=8.11 b=0.40 loss=3.74517\n",
      "Epcoh 329 W1=4.13 W2=8.11 b=0.40 loss=4.41514\n",
      "Epcoh 330 W1=4.13 W2=8.11 b=0.40 loss=4.97624\n",
      "Epcoh 331 W1=4.13 W2=8.11 b=0.40 loss=5.36273\n",
      "Epcoh 332 W1=4.13 W2=8.11 b=0.40 loss=5.53208\n",
      "Epcoh 333 W1=4.13 W2=8.11 b=0.40 loss=3.94931\n",
      "Epcoh 334 W1=4.13 W2=8.11 b=0.40 loss=4.84037\n",
      "Epcoh 335 W1=4.13 W2=8.11 b=0.40 loss=4.98978\n",
      "Epcoh 336 W1=4.13 W2=8.11 b=0.40 loss=4.58656\n",
      "Epcoh 337 W1=4.13 W2=8.11 b=0.40 loss=4.93407\n",
      "Epcoh 338 W1=4.13 W2=8.11 b=0.40 loss=5.38622\n",
      "Epcoh 339 W1=4.13 W2=8.11 b=0.40 loss=3.58864\n",
      "Epcoh 340 W1=4.13 W2=8.11 b=0.40 loss=4.46855\n",
      "Epcoh 341 W1=4.13 W2=8.11 b=0.40 loss=4.37796\n",
      "Epcoh 342 W1=4.13 W2=8.11 b=0.40 loss=5.53656\n",
      "Epcoh 343 W1=4.13 W2=8.11 b=0.40 loss=4.69937\n",
      "Epcoh 344 W1=4.13 W2=8.11 b=0.40 loss=3.70544\n",
      "Epcoh 345 W1=4.13 W2=8.11 b=0.40 loss=4.05908\n",
      "Epcoh 346 W1=4.13 W2=8.11 b=0.40 loss=4.34146\n",
      "Epcoh 347 W1=4.13 W2=8.11 b=0.40 loss=5.57654\n",
      "Epcoh 348 W1=4.13 W2=8.11 b=0.40 loss=4.93578\n",
      "Epcoh 349 W1=4.13 W2=8.11 b=0.40 loss=4.92870\n",
      "Epcoh 350 W1=4.13 W2=8.11 b=0.40 loss=5.11385\n",
      "Epcoh 351 W1=4.13 W2=8.11 b=0.40 loss=3.68448\n",
      "Epcoh 352 W1=4.13 W2=8.11 b=0.40 loss=5.31541\n",
      "Epcoh 353 W1=4.13 W2=8.11 b=0.40 loss=3.86848\n",
      "Epcoh 354 W1=4.13 W2=8.11 b=0.40 loss=3.87154\n",
      "Epcoh 355 W1=4.13 W2=8.11 b=0.40 loss=4.57263\n"
     ]
    },
    {
     "name": "stdout",
     "output_type": "stream",
     "text": [
      "Epcoh 356 W1=4.13 W2=8.11 b=0.40 loss=4.25508\n",
      "Epcoh 357 W1=4.13 W2=8.11 b=0.40 loss=4.37787\n",
      "Epcoh 358 W1=4.13 W2=8.11 b=0.40 loss=4.39675\n",
      "Epcoh 359 W1=4.13 W2=8.11 b=0.40 loss=4.77217\n",
      "Epcoh 360 W1=4.13 W2=8.11 b=0.40 loss=5.07581\n",
      "Epcoh 361 W1=4.13 W2=8.11 b=0.40 loss=4.99415\n",
      "Epcoh 362 W1=4.13 W2=8.11 b=0.40 loss=3.99990\n",
      "Epcoh 363 W1=4.13 W2=8.11 b=0.40 loss=5.26171\n",
      "Epcoh 364 W1=4.13 W2=8.11 b=0.40 loss=4.04884\n",
      "Epcoh 365 W1=4.13 W2=8.11 b=0.40 loss=5.28632\n",
      "Epcoh 366 W1=4.13 W2=8.11 b=0.40 loss=5.01206\n",
      "Epcoh 367 W1=4.12 W2=8.11 b=0.40 loss=4.39019\n",
      "Epcoh 368 W1=4.12 W2=8.11 b=0.40 loss=3.47341\n",
      "Epcoh 369 W1=4.12 W2=8.11 b=0.40 loss=5.09978\n",
      "Epcoh 370 W1=4.12 W2=8.11 b=0.40 loss=3.82066\n",
      "Epcoh 371 W1=4.12 W2=8.11 b=0.40 loss=5.18695\n",
      "Epcoh 372 W1=4.12 W2=8.11 b=0.40 loss=4.48309\n",
      "Epcoh 373 W1=4.12 W2=8.11 b=0.40 loss=4.14212\n",
      "Epcoh 374 W1=4.12 W2=8.11 b=0.40 loss=4.76595\n",
      "Epcoh 375 W1=4.12 W2=8.11 b=0.40 loss=5.27564\n",
      "Epcoh 376 W1=4.12 W2=8.11 b=0.40 loss=4.42972\n",
      "Epcoh 377 W1=4.12 W2=8.11 b=0.40 loss=4.80046\n",
      "Epcoh 378 W1=4.12 W2=8.11 b=0.40 loss=4.01587\n",
      "Epcoh 379 W1=4.12 W2=8.11 b=0.40 loss=5.82687\n",
      "Epcoh 380 W1=4.12 W2=8.11 b=0.40 loss=5.18089\n",
      "Epcoh 381 W1=4.12 W2=8.11 b=0.40 loss=4.99874\n",
      "Epcoh 382 W1=4.13 W2=8.11 b=0.41 loss=4.25589\n",
      "Epcoh 383 W1=4.12 W2=8.11 b=0.41 loss=5.13615\n",
      "Epcoh 384 W1=4.12 W2=8.11 b=0.41 loss=4.58440\n",
      "Epcoh 385 W1=4.12 W2=8.11 b=0.41 loss=5.38666\n",
      "Epcoh 386 W1=4.12 W2=8.11 b=0.41 loss=4.26877\n",
      "Epcoh 387 W1=4.12 W2=8.11 b=0.41 loss=4.19358\n",
      "Epcoh 388 W1=4.12 W2=8.11 b=0.41 loss=4.90391\n",
      "Epcoh 389 W1=4.12 W2=8.11 b=0.41 loss=4.14064\n",
      "Epcoh 390 W1=4.12 W2=8.11 b=0.41 loss=3.66299\n",
      "Epcoh 391 W1=4.12 W2=8.11 b=0.41 loss=4.61470\n",
      "Epcoh 392 W1=4.12 W2=8.11 b=0.41 loss=4.13991\n",
      "Epcoh 393 W1=4.12 W2=8.12 b=0.41 loss=3.55742\n",
      "Epcoh 394 W1=4.12 W2=8.12 b=0.41 loss=4.40553\n",
      "Epcoh 395 W1=4.12 W2=8.12 b=0.41 loss=4.89694\n",
      "Epcoh 396 W1=4.12 W2=8.12 b=0.41 loss=4.59033\n",
      "Epcoh 397 W1=4.12 W2=8.12 b=0.41 loss=5.31846\n",
      "Epcoh 398 W1=4.12 W2=8.12 b=0.41 loss=4.37303\n",
      "Epcoh 399 W1=4.12 W2=8.12 b=0.41 loss=4.83232\n",
      "Epcoh 400 W1=4.12 W2=8.11 b=0.41 loss=3.56939\n",
      "Epcoh 401 W1=4.12 W2=8.12 b=0.41 loss=4.31786\n",
      "Epcoh 402 W1=4.12 W2=8.12 b=0.41 loss=4.66482\n",
      "Epcoh 403 W1=4.12 W2=8.12 b=0.41 loss=3.98786\n",
      "Epcoh 404 W1=4.12 W2=8.12 b=0.41 loss=4.38352\n",
      "Epcoh 405 W1=4.12 W2=8.12 b=0.41 loss=4.47224\n",
      "Epcoh 406 W1=4.12 W2=8.12 b=0.41 loss=5.26259\n",
      "Epcoh 407 W1=4.12 W2=8.12 b=0.41 loss=5.12088\n",
      "Epcoh 408 W1=4.12 W2=8.12 b=0.41 loss=4.91004\n",
      "Epcoh 409 W1=4.12 W2=8.12 b=0.41 loss=5.11623\n",
      "Epcoh 410 W1=4.12 W2=8.12 b=0.41 loss=4.56139\n",
      "Epcoh 411 W1=4.12 W2=8.12 b=0.41 loss=5.01560\n",
      "Epcoh 412 W1=4.12 W2=8.12 b=0.41 loss=4.54567\n",
      "Epcoh 413 W1=4.12 W2=8.12 b=0.41 loss=4.69378\n",
      "Epcoh 414 W1=4.12 W2=8.11 b=0.41 loss=5.26410\n",
      "Epcoh 415 W1=4.12 W2=8.12 b=0.41 loss=5.66933\n",
      "Epcoh 416 W1=4.12 W2=8.12 b=0.41 loss=3.74500\n",
      "Epcoh 417 W1=4.12 W2=8.12 b=0.41 loss=4.36604\n",
      "Epcoh 418 W1=4.12 W2=8.12 b=0.41 loss=4.60975\n",
      "Epcoh 419 W1=4.12 W2=8.12 b=0.41 loss=5.75653\n",
      "Epcoh 420 W1=4.12 W2=8.12 b=0.41 loss=4.15244\n",
      "Epcoh 421 W1=4.12 W2=8.12 b=0.41 loss=5.30718\n",
      "Epcoh 422 W1=4.12 W2=8.12 b=0.41 loss=4.88961\n",
      "Epcoh 423 W1=4.12 W2=8.12 b=0.41 loss=4.08361\n",
      "Epcoh 424 W1=4.12 W2=8.12 b=0.41 loss=4.88991\n",
      "Epcoh 425 W1=4.12 W2=8.12 b=0.41 loss=4.87495\n",
      "Epcoh 426 W1=4.12 W2=8.12 b=0.41 loss=4.71974\n",
      "Epcoh 427 W1=4.12 W2=8.12 b=0.41 loss=4.18357\n",
      "Epcoh 428 W1=4.12 W2=8.12 b=0.41 loss=5.41895\n",
      "Epcoh 429 W1=4.12 W2=8.12 b=0.41 loss=4.80188\n",
      "Epcoh 430 W1=4.12 W2=8.12 b=0.41 loss=5.29729\n",
      "Epcoh 431 W1=4.12 W2=8.12 b=0.41 loss=5.21376\n",
      "Epcoh 432 W1=4.12 W2=8.12 b=0.41 loss=4.51233\n",
      "Epcoh 433 W1=4.12 W2=8.12 b=0.41 loss=5.85016\n",
      "Epcoh 434 W1=4.12 W2=8.12 b=0.41 loss=4.72060\n",
      "Epcoh 435 W1=4.12 W2=8.12 b=0.41 loss=4.43965\n",
      "Epcoh 436 W1=4.12 W2=8.12 b=0.41 loss=4.28763\n",
      "Epcoh 437 W1=4.12 W2=8.12 b=0.41 loss=5.67735\n",
      "Epcoh 438 W1=4.12 W2=8.12 b=0.41 loss=4.11759\n",
      "Epcoh 439 W1=4.12 W2=8.12 b=0.41 loss=4.59706\n",
      "Epcoh 440 W1=4.12 W2=8.12 b=0.41 loss=5.02303\n",
      "Epcoh 441 W1=4.12 W2=8.12 b=0.41 loss=4.73038\n",
      "Epcoh 442 W1=4.12 W2=8.12 b=0.41 loss=5.77922\n",
      "Epcoh 443 W1=4.12 W2=8.12 b=0.41 loss=5.96811\n",
      "Epcoh 444 W1=4.12 W2=8.12 b=0.41 loss=4.67410\n",
      "Epcoh 445 W1=4.12 W2=8.12 b=0.41 loss=4.35866\n",
      "Epcoh 446 W1=4.12 W2=8.12 b=0.41 loss=4.04214\n",
      "Epcoh 447 W1=4.12 W2=8.12 b=0.41 loss=4.61123\n",
      "Epcoh 448 W1=4.12 W2=8.12 b=0.41 loss=4.82746\n",
      "Epcoh 449 W1=4.12 W2=8.12 b=0.41 loss=4.46192\n",
      "Epcoh 450 W1=4.12 W2=8.12 b=0.41 loss=3.57998\n",
      "Epcoh 451 W1=4.12 W2=8.12 b=0.41 loss=3.59977\n",
      "Epcoh 452 W1=4.12 W2=8.12 b=0.41 loss=4.52269\n",
      "Epcoh 453 W1=4.12 W2=8.12 b=0.41 loss=4.44372\n",
      "Epcoh 454 W1=4.12 W2=8.12 b=0.41 loss=5.10639\n",
      "Epcoh 455 W1=4.12 W2=8.12 b=0.41 loss=5.19533\n",
      "Epcoh 456 W1=4.12 W2=8.12 b=0.41 loss=4.78016\n",
      "Epcoh 457 W1=4.12 W2=8.12 b=0.41 loss=4.81681\n",
      "Epcoh 458 W1=4.12 W2=8.12 b=0.41 loss=4.24155\n",
      "Epcoh 459 W1=4.12 W2=8.12 b=0.41 loss=4.48755\n",
      "Epcoh 460 W1=4.12 W2=8.12 b=0.41 loss=5.01281\n",
      "Epcoh 461 W1=4.12 W2=8.12 b=0.42 loss=4.85980\n",
      "Epcoh 462 W1=4.12 W2=8.12 b=0.42 loss=4.79824\n",
      "Epcoh 463 W1=4.12 W2=8.12 b=0.42 loss=4.59589\n",
      "Epcoh 464 W1=4.12 W2=8.12 b=0.42 loss=3.76290\n",
      "Epcoh 465 W1=4.12 W2=8.12 b=0.42 loss=3.71433\n",
      "Epcoh 466 W1=4.12 W2=8.12 b=0.42 loss=3.77493\n",
      "Epcoh 467 W1=4.12 W2=8.12 b=0.42 loss=4.46312\n",
      "Epcoh 468 W1=4.12 W2=8.12 b=0.42 loss=5.81723\n",
      "Epcoh 469 W1=4.12 W2=8.12 b=0.42 loss=3.93913\n",
      "Epcoh 470 W1=4.12 W2=8.12 b=0.42 loss=4.70255\n",
      "Epcoh 471 W1=4.12 W2=8.12 b=0.42 loss=5.27255\n",
      "Epcoh 472 W1=4.12 W2=8.12 b=0.42 loss=4.40375\n",
      "Epcoh 473 W1=4.12 W2=8.12 b=0.42 loss=4.73431\n",
      "Epcoh 474 W1=4.12 W2=8.12 b=0.42 loss=4.33514\n",
      "Epcoh 475 W1=4.12 W2=8.12 b=0.42 loss=4.88498\n",
      "Epcoh 476 W1=4.12 W2=8.12 b=0.42 loss=5.05415\n",
      "Epcoh 477 W1=4.12 W2=8.12 b=0.42 loss=5.64468\n",
      "Epcoh 478 W1=4.12 W2=8.12 b=0.42 loss=4.56022\n",
      "Epcoh 479 W1=4.12 W2=8.12 b=0.42 loss=4.71483\n",
      "Epcoh 480 W1=4.12 W2=8.12 b=0.42 loss=4.92134\n",
      "Epcoh 481 W1=4.12 W2=8.12 b=0.42 loss=4.77950\n",
      "Epcoh 482 W1=4.12 W2=8.12 b=0.42 loss=5.37264\n",
      "Epcoh 483 W1=4.12 W2=8.12 b=0.42 loss=5.13438\n",
      "Epcoh 484 W1=4.12 W2=8.12 b=0.42 loss=4.91682\n",
      "Epcoh 485 W1=4.12 W2=8.12 b=0.42 loss=4.44694\n",
      "Epcoh 486 W1=4.12 W2=8.12 b=0.42 loss=4.01377\n",
      "Epcoh 487 W1=4.12 W2=8.12 b=0.42 loss=3.94912\n",
      "Epcoh 488 W1=4.12 W2=8.12 b=0.42 loss=4.29374\n",
      "Epcoh 489 W1=4.12 W2=8.12 b=0.42 loss=4.46665\n",
      "Epcoh 490 W1=4.12 W2=8.12 b=0.42 loss=5.11810\n",
      "Epcoh 491 W1=4.12 W2=8.12 b=0.42 loss=4.64913\n",
      "Epcoh 492 W1=4.12 W2=8.12 b=0.42 loss=4.96747\n",
      "Epcoh 493 W1=4.12 W2=8.12 b=0.42 loss=5.22157\n",
      "Epcoh 494 W1=4.12 W2=8.12 b=0.42 loss=4.78240\n",
      "Epcoh 495 W1=4.12 W2=8.11 b=0.42 loss=5.32823\n",
      "Epcoh 496 W1=4.12 W2=8.12 b=0.42 loss=4.30497\n",
      "Epcoh 497 W1=4.12 W2=8.12 b=0.42 loss=4.17766\n",
      "Epcoh 498 W1=4.12 W2=8.12 b=0.42 loss=4.73656\n",
      "Epcoh 499 W1=4.12 W2=8.12 b=0.42 loss=4.53580\n",
      "Epcoh 500 W1=4.12 W2=8.12 b=0.42 loss=4.38916\n",
      "Epcoh 501 W1=4.12 W2=8.12 b=0.42 loss=4.26143\n",
      "Epcoh 502 W1=4.12 W2=8.12 b=0.42 loss=5.45373\n",
      "Epcoh 503 W1=4.12 W2=8.12 b=0.42 loss=4.97203\n",
      "Epcoh 504 W1=4.12 W2=8.12 b=0.42 loss=4.55650\n",
      "Epcoh 505 W1=4.12 W2=8.12 b=0.42 loss=4.22320\n",
      "Epcoh 506 W1=4.12 W2=8.12 b=0.42 loss=4.77483\n",
      "Epcoh 507 W1=4.12 W2=8.12 b=0.42 loss=5.39811\n",
      "Epcoh 508 W1=4.12 W2=8.12 b=0.42 loss=4.43166\n",
      "Epcoh 509 W1=4.12 W2=8.12 b=0.42 loss=4.24635\n",
      "Epcoh 510 W1=4.12 W2=8.12 b=0.42 loss=5.82911\n",
      "Epcoh 511 W1=4.12 W2=8.12 b=0.42 loss=5.50754\n",
      "Epcoh 512 W1=4.12 W2=8.12 b=0.42 loss=4.96047\n",
      "Epcoh 513 W1=4.12 W2=8.12 b=0.42 loss=3.87849\n",
      "Epcoh 514 W1=4.12 W2=8.12 b=0.42 loss=3.72125\n",
      "Epcoh 515 W1=4.12 W2=8.12 b=0.42 loss=3.73833\n",
      "Epcoh 516 W1=4.12 W2=8.12 b=0.42 loss=4.01351\n",
      "Epcoh 517 W1=4.12 W2=8.12 b=0.42 loss=4.24933\n",
      "Epcoh 518 W1=4.12 W2=8.12 b=0.42 loss=5.03071\n",
      "Epcoh 519 W1=4.12 W2=8.12 b=0.42 loss=4.70008\n",
      "Epcoh 520 W1=4.12 W2=8.12 b=0.42 loss=3.79314\n",
      "Epcoh 521 W1=4.12 W2=8.12 b=0.42 loss=5.91170\n",
      "Epcoh 522 W1=4.12 W2=8.12 b=0.42 loss=4.70472\n",
      "Epcoh 523 W1=4.12 W2=8.12 b=0.42 loss=4.40482\n",
      "Epcoh 524 W1=4.12 W2=8.12 b=0.42 loss=4.84399\n",
      "Epcoh 525 W1=4.12 W2=8.12 b=0.42 loss=5.10927\n",
      "Epcoh 526 W1=4.12 W2=8.12 b=0.42 loss=4.57549\n",
      "Epcoh 527 W1=4.12 W2=8.12 b=0.42 loss=4.21401\n",
      "Epcoh 528 W1=4.12 W2=8.12 b=0.42 loss=4.64308\n",
      "Epcoh 529 W1=4.12 W2=8.12 b=0.42 loss=5.03811\n",
      "Epcoh 530 W1=4.12 W2=8.12 b=0.42 loss=4.33179\n",
      "Epcoh 531 W1=4.12 W2=8.12 b=0.42 loss=3.39794\n",
      "Epcoh 532 W1=4.12 W2=8.12 b=0.42 loss=3.62420\n",
      "Epcoh 533 W1=4.12 W2=8.12 b=0.42 loss=5.13999\n",
      "Epcoh 534 W1=4.12 W2=8.12 b=0.42 loss=4.43677\n"
     ]
    },
    {
     "name": "stdout",
     "output_type": "stream",
     "text": [
      "Epcoh 535 W1=4.12 W2=8.12 b=0.42 loss=3.95247\n",
      "Epcoh 536 W1=4.12 W2=8.12 b=0.42 loss=4.56555\n",
      "Epcoh 537 W1=4.12 W2=8.12 b=0.42 loss=5.16223\n",
      "Epcoh 538 W1=4.12 W2=8.12 b=0.42 loss=4.73388\n",
      "Epcoh 539 W1=4.12 W2=8.12 b=0.43 loss=4.58368\n",
      "Epcoh 540 W1=4.12 W2=8.12 b=0.43 loss=4.56585\n",
      "Epcoh 541 W1=4.12 W2=8.12 b=0.43 loss=4.91837\n",
      "Epcoh 542 W1=4.12 W2=8.12 b=0.43 loss=4.54239\n",
      "Epcoh 543 W1=4.12 W2=8.12 b=0.43 loss=5.11505\n",
      "Epcoh 544 W1=4.12 W2=8.12 b=0.43 loss=4.32618\n",
      "Epcoh 545 W1=4.12 W2=8.12 b=0.43 loss=5.34055\n",
      "Epcoh 546 W1=4.12 W2=8.12 b=0.43 loss=5.16482\n",
      "Epcoh 547 W1=4.12 W2=8.12 b=0.43 loss=4.20963\n",
      "Epcoh 548 W1=4.12 W2=8.12 b=0.43 loss=3.83832\n",
      "Epcoh 549 W1=4.12 W2=8.12 b=0.43 loss=5.34986\n",
      "Epcoh 550 W1=4.12 W2=8.12 b=0.43 loss=4.79340\n",
      "Epcoh 551 W1=4.12 W2=8.12 b=0.43 loss=4.57467\n",
      "Epcoh 552 W1=4.12 W2=8.12 b=0.43 loss=4.72548\n",
      "Epcoh 553 W1=4.12 W2=8.12 b=0.43 loss=4.66214\n",
      "Epcoh 554 W1=4.12 W2=8.12 b=0.43 loss=5.38574\n",
      "Epcoh 555 W1=4.12 W2=8.12 b=0.43 loss=3.36180\n",
      "Epcoh 556 W1=4.12 W2=8.12 b=0.43 loss=5.70764\n",
      "Epcoh 557 W1=4.12 W2=8.12 b=0.43 loss=4.68769\n",
      "Epcoh 558 W1=4.12 W2=8.12 b=0.43 loss=3.98255\n",
      "Epcoh 559 W1=4.12 W2=8.12 b=0.43 loss=4.86688\n",
      "Epcoh 560 W1=4.12 W2=8.12 b=0.43 loss=4.80838\n",
      "Epcoh 561 W1=4.12 W2=8.12 b=0.43 loss=4.89278\n",
      "Epcoh 562 W1=4.12 W2=8.12 b=0.43 loss=5.50345\n",
      "Epcoh 563 W1=4.12 W2=8.12 b=0.43 loss=4.64465\n",
      "Epcoh 564 W1=4.12 W2=8.12 b=0.43 loss=4.16845\n",
      "Epcoh 565 W1=4.12 W2=8.12 b=0.43 loss=5.06457\n",
      "Epcoh 566 W1=4.12 W2=8.12 b=0.43 loss=4.53306\n",
      "Epcoh 567 W1=4.12 W2=8.12 b=0.43 loss=5.17556\n",
      "Epcoh 568 W1=4.12 W2=8.12 b=0.43 loss=3.36712\n",
      "Epcoh 569 W1=4.12 W2=8.12 b=0.43 loss=4.80297\n",
      "Epcoh 570 W1=4.12 W2=8.12 b=0.43 loss=3.74517\n",
      "Epcoh 571 W1=4.12 W2=8.12 b=0.43 loss=4.62659\n",
      "Epcoh 572 W1=4.12 W2=8.12 b=0.43 loss=4.83783\n",
      "Epcoh 573 W1=4.12 W2=8.12 b=0.43 loss=4.44754\n",
      "Epcoh 574 W1=4.12 W2=8.12 b=0.43 loss=3.83607\n",
      "Epcoh 575 W1=4.12 W2=8.12 b=0.43 loss=3.54286\n",
      "Epcoh 576 W1=4.12 W2=8.12 b=0.43 loss=4.53510\n",
      "Epcoh 577 W1=4.11 W2=8.12 b=0.43 loss=4.77678\n",
      "Epcoh 578 W1=4.12 W2=8.12 b=0.43 loss=4.89822\n",
      "Epcoh 579 W1=4.11 W2=8.12 b=0.43 loss=4.25426\n",
      "Epcoh 580 W1=4.12 W2=8.12 b=0.43 loss=4.23658\n",
      "Epcoh 581 W1=4.11 W2=8.12 b=0.43 loss=3.78888\n",
      "Epcoh 582 W1=4.11 W2=8.12 b=0.43 loss=5.14654\n",
      "Epcoh 583 W1=4.11 W2=8.12 b=0.43 loss=5.06129\n",
      "Epcoh 584 W1=4.11 W2=8.12 b=0.43 loss=4.41647\n",
      "Epcoh 585 W1=4.12 W2=8.12 b=0.43 loss=4.80233\n",
      "Epcoh 586 W1=4.11 W2=8.12 b=0.43 loss=4.26140\n",
      "Epcoh 587 W1=4.11 W2=8.12 b=0.43 loss=4.53907\n",
      "Epcoh 588 W1=4.11 W2=8.12 b=0.43 loss=5.57958\n",
      "Epcoh 589 W1=4.11 W2=8.12 b=0.43 loss=5.27965\n",
      "Epcoh 590 W1=4.11 W2=8.12 b=0.43 loss=5.01958\n",
      "Epcoh 591 W1=4.11 W2=8.12 b=0.43 loss=4.61580\n",
      "Epcoh 592 W1=4.11 W2=8.12 b=0.43 loss=4.82484\n",
      "Epcoh 593 W1=4.11 W2=8.12 b=0.43 loss=4.95889\n",
      "Epcoh 594 W1=4.11 W2=8.12 b=0.43 loss=4.25986\n",
      "Epcoh 595 W1=4.11 W2=8.12 b=0.43 loss=4.45273\n",
      "Epcoh 596 W1=4.11 W2=8.12 b=0.43 loss=4.67841\n",
      "Epcoh 597 W1=4.11 W2=8.12 b=0.43 loss=4.85194\n",
      "Epcoh 598 W1=4.11 W2=8.12 b=0.43 loss=4.53364\n",
      "Epcoh 599 W1=4.11 W2=8.12 b=0.43 loss=4.71162\n",
      "Epcoh 600 W1=4.11 W2=8.12 b=0.43 loss=5.09549\n",
      "Epcoh 601 W1=4.11 W2=8.12 b=0.43 loss=3.51160\n",
      "Epcoh 602 W1=4.11 W2=8.12 b=0.43 loss=3.88733\n",
      "Epcoh 603 W1=4.11 W2=8.12 b=0.43 loss=3.83817\n",
      "Epcoh 604 W1=4.11 W2=8.12 b=0.43 loss=3.60242\n",
      "Epcoh 605 W1=4.11 W2=8.12 b=0.43 loss=4.05215\n",
      "Epcoh 606 W1=4.11 W2=8.12 b=0.43 loss=4.23690\n",
      "Epcoh 607 W1=4.11 W2=8.12 b=0.43 loss=4.89853\n",
      "Epcoh 608 W1=4.11 W2=8.12 b=0.43 loss=5.10784\n",
      "Epcoh 609 W1=4.11 W2=8.12 b=0.43 loss=3.95968\n",
      "Epcoh 610 W1=4.11 W2=8.12 b=0.43 loss=4.11234\n",
      "Epcoh 611 W1=4.11 W2=8.12 b=0.43 loss=5.17492\n",
      "Epcoh 612 W1=4.11 W2=8.12 b=0.43 loss=4.11412\n",
      "Epcoh 613 W1=4.11 W2=8.12 b=0.43 loss=4.48568\n",
      "Epcoh 614 W1=4.11 W2=8.12 b=0.43 loss=4.42343\n",
      "Epcoh 615 W1=4.11 W2=8.12 b=0.43 loss=5.38663\n",
      "Epcoh 616 W1=4.11 W2=8.12 b=0.43 loss=4.97664\n",
      "Epcoh 617 W1=4.11 W2=8.12 b=0.43 loss=4.48617\n",
      "Epcoh 618 W1=4.11 W2=8.12 b=0.43 loss=6.32098\n",
      "Epcoh 619 W1=4.11 W2=8.12 b=0.43 loss=3.94860\n",
      "Epcoh 620 W1=4.12 W2=8.12 b=0.43 loss=5.40326\n",
      "Epcoh 621 W1=4.12 W2=8.12 b=0.43 loss=5.08636\n",
      "Epcoh 622 W1=4.12 W2=8.12 b=0.44 loss=4.23514\n",
      "Epcoh 623 W1=4.12 W2=8.12 b=0.44 loss=4.39735\n",
      "Epcoh 624 W1=4.12 W2=8.12 b=0.44 loss=3.42727\n",
      "Epcoh 625 W1=4.12 W2=8.12 b=0.44 loss=4.76536\n",
      "Epcoh 626 W1=4.12 W2=8.12 b=0.44 loss=4.16470\n",
      "Epcoh 627 W1=4.12 W2=8.12 b=0.44 loss=3.78094\n",
      "Epcoh 628 W1=4.12 W2=8.12 b=0.44 loss=4.14713\n",
      "Epcoh 629 W1=4.12 W2=8.12 b=0.44 loss=5.35433\n",
      "Epcoh 630 W1=4.12 W2=8.12 b=0.44 loss=3.81229\n",
      "Epcoh 631 W1=4.12 W2=8.12 b=0.44 loss=4.41296\n",
      "Epcoh 632 W1=4.12 W2=8.12 b=0.44 loss=5.29647\n",
      "Epcoh 633 W1=4.12 W2=8.12 b=0.44 loss=4.07140\n",
      "Epcoh 634 W1=4.12 W2=8.12 b=0.44 loss=4.80778\n",
      "Epcoh 635 W1=4.12 W2=8.12 b=0.44 loss=3.88385\n",
      "Epcoh 636 W1=4.12 W2=8.12 b=0.44 loss=4.19934\n",
      "Epcoh 637 W1=4.12 W2=8.12 b=0.44 loss=4.61098\n",
      "Epcoh 638 W1=4.12 W2=8.12 b=0.44 loss=5.50236\n",
      "Epcoh 639 W1=4.12 W2=8.12 b=0.44 loss=4.52805\n",
      "Epcoh 640 W1=4.12 W2=8.12 b=0.44 loss=4.11150\n",
      "Epcoh 641 W1=4.12 W2=8.12 b=0.44 loss=4.65650\n",
      "Epcoh 642 W1=4.12 W2=8.12 b=0.44 loss=4.06233\n",
      "Epcoh 643 W1=4.12 W2=8.12 b=0.44 loss=4.07700\n",
      "Epcoh 644 W1=4.12 W2=8.12 b=0.44 loss=4.38140\n",
      "Epcoh 645 W1=4.12 W2=8.12 b=0.44 loss=5.10313\n",
      "Epcoh 646 W1=4.12 W2=8.12 b=0.44 loss=4.88013\n",
      "Epcoh 647 W1=4.12 W2=8.12 b=0.44 loss=5.74536\n",
      "Epcoh 648 W1=4.12 W2=8.12 b=0.44 loss=4.43656\n",
      "Epcoh 649 W1=4.12 W2=8.12 b=0.44 loss=5.56366\n",
      "Epcoh 650 W1=4.12 W2=8.12 b=0.44 loss=4.73768\n",
      "Epcoh 651 W1=4.12 W2=8.12 b=0.44 loss=4.36066\n",
      "Epcoh 652 W1=4.12 W2=8.12 b=0.44 loss=4.51121\n",
      "Epcoh 653 W1=4.12 W2=8.12 b=0.44 loss=4.87386\n",
      "Epcoh 654 W1=4.12 W2=8.12 b=0.44 loss=5.41536\n",
      "Epcoh 655 W1=4.12 W2=8.12 b=0.44 loss=5.01623\n",
      "Epcoh 656 W1=4.12 W2=8.12 b=0.44 loss=4.66309\n",
      "Epcoh 657 W1=4.12 W2=8.12 b=0.44 loss=4.89859\n",
      "Epcoh 658 W1=4.12 W2=8.12 b=0.44 loss=4.66636\n",
      "Epcoh 659 W1=4.12 W2=8.12 b=0.44 loss=3.70068\n",
      "Epcoh 660 W1=4.12 W2=8.12 b=0.44 loss=5.07813\n",
      "Epcoh 661 W1=4.12 W2=8.12 b=0.44 loss=4.47210\n",
      "Epcoh 662 W1=4.12 W2=8.12 b=0.44 loss=3.90693\n",
      "Epcoh 663 W1=4.12 W2=8.12 b=0.44 loss=5.63763\n",
      "Epcoh 664 W1=4.12 W2=8.12 b=0.44 loss=5.69163\n",
      "Epcoh 665 W1=4.12 W2=8.12 b=0.44 loss=4.01666\n",
      "Epcoh 666 W1=4.12 W2=8.12 b=0.44 loss=5.35457\n",
      "Epcoh 667 W1=4.12 W2=8.12 b=0.44 loss=3.00858\n",
      "Epcoh 668 W1=4.12 W2=8.12 b=0.44 loss=4.80211\n",
      "Epcoh 669 W1=4.12 W2=8.12 b=0.44 loss=4.18002\n",
      "Epcoh 670 W1=4.12 W2=8.12 b=0.44 loss=5.03116\n",
      "Epcoh 671 W1=4.12 W2=8.12 b=0.44 loss=4.67974\n",
      "Epcoh 672 W1=4.12 W2=8.12 b=0.44 loss=5.31484\n",
      "Epcoh 673 W1=4.12 W2=8.12 b=0.44 loss=4.66036\n",
      "Epcoh 674 W1=4.12 W2=8.12 b=0.44 loss=4.74369\n",
      "Epcoh 675 W1=4.12 W2=8.12 b=0.44 loss=3.79521\n",
      "Epcoh 676 W1=4.12 W2=8.12 b=0.44 loss=4.49775\n",
      "Epcoh 677 W1=4.12 W2=8.12 b=0.44 loss=4.48844\n",
      "Epcoh 678 W1=4.12 W2=8.12 b=0.44 loss=3.98106\n",
      "Epcoh 679 W1=4.12 W2=8.12 b=0.44 loss=4.20634\n",
      "Epcoh 680 W1=4.12 W2=8.12 b=0.44 loss=4.53869\n",
      "Epcoh 681 W1=4.12 W2=8.12 b=0.44 loss=4.74826\n",
      "Epcoh 682 W1=4.12 W2=8.12 b=0.44 loss=4.80075\n",
      "Epcoh 683 W1=4.12 W2=8.12 b=0.44 loss=3.59534\n",
      "Epcoh 684 W1=4.12 W2=8.12 b=0.44 loss=4.65840\n",
      "Epcoh 685 W1=4.12 W2=8.12 b=0.44 loss=4.95084\n",
      "Epcoh 686 W1=4.12 W2=8.12 b=0.44 loss=4.54413\n",
      "Epcoh 687 W1=4.12 W2=8.12 b=0.44 loss=3.91413\n",
      "Epcoh 688 W1=4.12 W2=8.12 b=0.44 loss=6.42380\n",
      "Epcoh 689 W1=4.12 W2=8.12 b=0.44 loss=5.14786\n",
      "Epcoh 690 W1=4.12 W2=8.12 b=0.44 loss=4.45339\n",
      "Epcoh 691 W1=4.12 W2=8.12 b=0.44 loss=3.62013\n",
      "Epcoh 692 W1=4.12 W2=8.12 b=0.44 loss=5.88327\n",
      "Epcoh 693 W1=4.12 W2=8.12 b=0.44 loss=4.72507\n",
      "Epcoh 694 W1=4.12 W2=8.12 b=0.44 loss=4.57774\n",
      "Epcoh 695 W1=4.12 W2=8.12 b=0.44 loss=4.57324\n",
      "Epcoh 696 W1=4.12 W2=8.12 b=0.44 loss=4.88663\n",
      "Epcoh 697 W1=4.12 W2=8.12 b=0.44 loss=4.01624\n",
      "Epcoh 698 W1=4.12 W2=8.12 b=0.44 loss=3.70352\n",
      "Epcoh 699 W1=4.12 W2=8.12 b=0.44 loss=4.76941\n",
      "Epcoh 700 W1=4.12 W2=8.12 b=0.44 loss=4.39271\n",
      "Epcoh 701 W1=4.12 W2=8.12 b=0.44 loss=4.18757\n",
      "Epcoh 702 W1=4.12 W2=8.12 b=0.44 loss=4.56406\n",
      "Epcoh 703 W1=4.12 W2=8.12 b=0.44 loss=5.79650\n",
      "Epcoh 704 W1=4.12 W2=8.12 b=0.45 loss=4.83065\n",
      "Epcoh 705 W1=4.12 W2=8.12 b=0.45 loss=4.21904\n",
      "Epcoh 706 W1=4.12 W2=8.12 b=0.45 loss=4.40468\n",
      "Epcoh 707 W1=4.12 W2=8.12 b=0.45 loss=4.82923\n",
      "Epcoh 708 W1=4.12 W2=8.12 b=0.45 loss=4.34483\n",
      "Epcoh 709 W1=4.12 W2=8.12 b=0.45 loss=3.65002\n",
      "Epcoh 710 W1=4.12 W2=8.12 b=0.45 loss=4.90108\n",
      "Epcoh 711 W1=4.12 W2=8.12 b=0.45 loss=4.54895\n",
      "Epcoh 712 W1=4.12 W2=8.12 b=0.45 loss=4.46841\n",
      "Epcoh 713 W1=4.12 W2=8.12 b=0.45 loss=4.76970\n",
      "Epcoh 714 W1=4.12 W2=8.12 b=0.45 loss=4.59610\n",
      "Epcoh 715 W1=4.12 W2=8.12 b=0.45 loss=3.93177\n"
     ]
    },
    {
     "name": "stdout",
     "output_type": "stream",
     "text": [
      "Epcoh 716 W1=4.12 W2=8.12 b=0.45 loss=4.76840\n",
      "Epcoh 717 W1=4.12 W2=8.12 b=0.45 loss=4.82827\n",
      "Epcoh 718 W1=4.12 W2=8.12 b=0.45 loss=3.69616\n",
      "Epcoh 719 W1=4.12 W2=8.12 b=0.45 loss=4.11652\n",
      "Epcoh 720 W1=4.12 W2=8.12 b=0.45 loss=4.27595\n",
      "Epcoh 721 W1=4.12 W2=8.12 b=0.45 loss=4.46918\n",
      "Epcoh 722 W1=4.12 W2=8.12 b=0.45 loss=4.93647\n",
      "Epcoh 723 W1=4.12 W2=8.12 b=0.45 loss=4.88610\n",
      "Epcoh 724 W1=4.12 W2=8.12 b=0.45 loss=6.11686\n",
      "Epcoh 725 W1=4.12 W2=8.12 b=0.45 loss=4.41360\n",
      "Epcoh 726 W1=4.12 W2=8.12 b=0.45 loss=5.50549\n",
      "Epcoh 727 W1=4.12 W2=8.12 b=0.45 loss=4.57075\n",
      "Epcoh 728 W1=4.12 W2=8.12 b=0.45 loss=4.07188\n",
      "Epcoh 729 W1=4.12 W2=8.12 b=0.45 loss=4.14078\n",
      "Epcoh 730 W1=4.12 W2=8.12 b=0.45 loss=4.33139\n",
      "Epcoh 731 W1=4.12 W2=8.12 b=0.45 loss=5.12555\n",
      "Epcoh 732 W1=4.12 W2=8.12 b=0.45 loss=3.70966\n",
      "Epcoh 733 W1=4.12 W2=8.12 b=0.45 loss=4.35442\n",
      "Epcoh 734 W1=4.12 W2=8.12 b=0.45 loss=5.44568\n",
      "Epcoh 735 W1=4.12 W2=8.12 b=0.45 loss=4.39427\n",
      "Epcoh 736 W1=4.12 W2=8.12 b=0.45 loss=4.31766\n",
      "Epcoh 737 W1=4.12 W2=8.12 b=0.45 loss=4.25659\n",
      "Epcoh 738 W1=4.12 W2=8.12 b=0.45 loss=4.69693\n",
      "Epcoh 739 W1=4.12 W2=8.12 b=0.45 loss=4.29652\n",
      "Epcoh 740 W1=4.12 W2=8.12 b=0.45 loss=4.72870\n",
      "Epcoh 741 W1=4.12 W2=8.12 b=0.45 loss=3.43072\n",
      "Epcoh 742 W1=4.12 W2=8.12 b=0.45 loss=4.39286\n",
      "Epcoh 743 W1=4.12 W2=8.12 b=0.45 loss=4.72885\n",
      "Epcoh 744 W1=4.12 W2=8.12 b=0.45 loss=4.32668\n",
      "Epcoh 745 W1=4.12 W2=8.12 b=0.45 loss=4.06705\n",
      "Epcoh 746 W1=4.12 W2=8.12 b=0.45 loss=3.77662\n",
      "Epcoh 747 W1=4.12 W2=8.12 b=0.45 loss=5.56732\n",
      "Epcoh 748 W1=4.12 W2=8.12 b=0.45 loss=4.96169\n",
      "Epcoh 749 W1=4.12 W2=8.12 b=0.45 loss=4.38467\n",
      "Epcoh 750 W1=4.12 W2=8.12 b=0.45 loss=5.47027\n",
      "Epcoh 751 W1=4.12 W2=8.12 b=0.45 loss=4.03111\n",
      "Epcoh 752 W1=4.12 W2=8.12 b=0.45 loss=3.83126\n",
      "Epcoh 753 W1=4.12 W2=8.12 b=0.45 loss=3.09390\n",
      "Epcoh 754 W1=4.12 W2=8.12 b=0.45 loss=4.89279\n",
      "Epcoh 755 W1=4.12 W2=8.12 b=0.45 loss=3.82225\n",
      "Epcoh 756 W1=4.12 W2=8.12 b=0.45 loss=3.92873\n",
      "Epcoh 757 W1=4.12 W2=8.12 b=0.45 loss=4.60081\n",
      "Epcoh 758 W1=4.12 W2=8.12 b=0.45 loss=6.86706\n",
      "Epcoh 759 W1=4.12 W2=8.12 b=0.45 loss=6.02758\n",
      "Epcoh 760 W1=4.12 W2=8.12 b=0.45 loss=4.62518\n",
      "Epcoh 761 W1=4.12 W2=8.12 b=0.45 loss=5.92748\n",
      "Epcoh 762 W1=4.12 W2=8.12 b=0.45 loss=3.98654\n",
      "Epcoh 763 W1=4.12 W2=8.12 b=0.45 loss=4.74296\n",
      "Epcoh 764 W1=4.12 W2=8.12 b=0.45 loss=3.82403\n",
      "Epcoh 765 W1=4.12 W2=8.12 b=0.45 loss=3.98910\n",
      "Epcoh 766 W1=4.12 W2=8.12 b=0.45 loss=3.96354\n",
      "Epcoh 767 W1=4.12 W2=8.12 b=0.45 loss=4.83831\n",
      "Epcoh 768 W1=4.12 W2=8.12 b=0.45 loss=4.56687\n",
      "Epcoh 769 W1=4.12 W2=8.12 b=0.45 loss=5.00273\n",
      "Epcoh 770 W1=4.12 W2=8.12 b=0.45 loss=4.44989\n",
      "Epcoh 771 W1=4.12 W2=8.12 b=0.45 loss=4.97488\n",
      "Epcoh 772 W1=4.12 W2=8.12 b=0.45 loss=3.64255\n",
      "Epcoh 773 W1=4.12 W2=8.12 b=0.45 loss=4.29668\n",
      "Epcoh 774 W1=4.12 W2=8.12 b=0.45 loss=4.55131\n",
      "Epcoh 775 W1=4.12 W2=8.12 b=0.45 loss=3.67579\n",
      "Epcoh 776 W1=4.12 W2=8.12 b=0.45 loss=5.07121\n",
      "Epcoh 777 W1=4.12 W2=8.12 b=0.45 loss=4.26233\n",
      "Epcoh 778 W1=4.12 W2=8.12 b=0.45 loss=3.75568\n",
      "Epcoh 779 W1=4.12 W2=8.12 b=0.45 loss=4.06992\n",
      "Epcoh 780 W1=4.12 W2=8.12 b=0.45 loss=5.04038\n",
      "Epcoh 781 W1=4.12 W2=8.12 b=0.45 loss=5.38861\n",
      "Epcoh 782 W1=4.12 W2=8.12 b=0.45 loss=4.84115\n",
      "Epcoh 783 W1=4.12 W2=8.12 b=0.45 loss=3.76196\n",
      "Epcoh 784 W1=4.12 W2=8.12 b=0.45 loss=4.27363\n",
      "Epcoh 785 W1=4.12 W2=8.12 b=0.45 loss=4.24334\n",
      "Epcoh 786 W1=4.12 W2=8.12 b=0.46 loss=5.24170\n",
      "Epcoh 787 W1=4.12 W2=8.12 b=0.46 loss=5.26230\n",
      "Epcoh 788 W1=4.12 W2=8.12 b=0.46 loss=4.54714\n",
      "Epcoh 789 W1=4.12 W2=8.12 b=0.46 loss=4.53461\n",
      "Epcoh 790 W1=4.12 W2=8.12 b=0.46 loss=4.12103\n",
      "Epcoh 791 W1=4.12 W2=8.12 b=0.46 loss=5.39331\n",
      "Epcoh 792 W1=4.12 W2=8.12 b=0.46 loss=4.21084\n",
      "Epcoh 793 W1=4.12 W2=8.12 b=0.46 loss=4.68741\n",
      "Epcoh 794 W1=4.12 W2=8.12 b=0.46 loss=5.02386\n",
      "Epcoh 795 W1=4.12 W2=8.12 b=0.46 loss=5.53961\n",
      "Epcoh 796 W1=4.12 W2=8.12 b=0.46 loss=5.13901\n",
      "Epcoh 797 W1=4.12 W2=8.12 b=0.46 loss=3.84306\n",
      "Epcoh 798 W1=4.12 W2=8.12 b=0.46 loss=5.03071\n",
      "Epcoh 799 W1=4.12 W2=8.12 b=0.46 loss=4.52083\n",
      "Epcoh 800 W1=4.12 W2=8.12 b=0.46 loss=4.48666\n",
      "Epcoh 801 W1=4.12 W2=8.12 b=0.46 loss=3.79307\n",
      "Epcoh 802 W1=4.12 W2=8.12 b=0.46 loss=5.42745\n",
      "Epcoh 803 W1=4.12 W2=8.11 b=0.46 loss=4.81472\n",
      "Epcoh 804 W1=4.12 W2=8.11 b=0.46 loss=4.89586\n",
      "Epcoh 805 W1=4.12 W2=8.12 b=0.46 loss=3.91129\n",
      "Epcoh 806 W1=4.12 W2=8.11 b=0.46 loss=5.91031\n",
      "Epcoh 807 W1=4.12 W2=8.12 b=0.46 loss=4.98779\n",
      "Epcoh 808 W1=4.12 W2=8.12 b=0.46 loss=4.87500\n",
      "Epcoh 809 W1=4.12 W2=8.12 b=0.46 loss=3.93146\n",
      "Epcoh 810 W1=4.12 W2=8.12 b=0.46 loss=4.54951\n",
      "Epcoh 811 W1=4.12 W2=8.12 b=0.46 loss=3.95663\n",
      "Epcoh 812 W1=4.12 W2=8.11 b=0.46 loss=4.50278\n",
      "Epcoh 813 W1=4.12 W2=8.11 b=0.46 loss=4.77864\n",
      "Epcoh 814 W1=4.12 W2=8.11 b=0.46 loss=4.59616\n",
      "Epcoh 815 W1=4.12 W2=8.11 b=0.46 loss=4.76899\n",
      "Epcoh 816 W1=4.12 W2=8.11 b=0.46 loss=5.00280\n",
      "Epcoh 817 W1=4.12 W2=8.11 b=0.46 loss=4.66896\n",
      "Epcoh 818 W1=4.12 W2=8.11 b=0.46 loss=3.76251\n",
      "Epcoh 819 W1=4.12 W2=8.12 b=0.46 loss=4.68206\n",
      "Epcoh 820 W1=4.12 W2=8.12 b=0.46 loss=4.64704\n",
      "Epcoh 821 W1=4.12 W2=8.12 b=0.46 loss=4.03400\n",
      "Epcoh 822 W1=4.12 W2=8.12 b=0.46 loss=3.56205\n",
      "Epcoh 823 W1=4.12 W2=8.12 b=0.46 loss=3.80026\n",
      "Epcoh 824 W1=4.12 W2=8.12 b=0.46 loss=4.66791\n",
      "Epcoh 825 W1=4.12 W2=8.12 b=0.46 loss=4.81703\n",
      "Epcoh 826 W1=4.12 W2=8.12 b=0.46 loss=5.19286\n",
      "Epcoh 827 W1=4.12 W2=8.12 b=0.46 loss=5.44166\n",
      "Epcoh 828 W1=4.12 W2=8.12 b=0.46 loss=4.21268\n",
      "Epcoh 829 W1=4.12 W2=8.12 b=0.46 loss=3.83098\n",
      "Epcoh 830 W1=4.12 W2=8.12 b=0.46 loss=5.04368\n",
      "Epcoh 831 W1=4.12 W2=8.12 b=0.46 loss=3.84087\n",
      "Epcoh 832 W1=4.12 W2=8.12 b=0.46 loss=4.52136\n",
      "Epcoh 833 W1=4.12 W2=8.12 b=0.46 loss=3.47130\n",
      "Epcoh 834 W1=4.12 W2=8.12 b=0.46 loss=4.44749\n",
      "Epcoh 835 W1=4.12 W2=8.12 b=0.46 loss=4.48087\n",
      "Epcoh 836 W1=4.12 W2=8.12 b=0.46 loss=4.24184\n",
      "Epcoh 837 W1=4.12 W2=8.12 b=0.46 loss=3.95690\n",
      "Epcoh 838 W1=4.12 W2=8.12 b=0.46 loss=4.20551\n",
      "Epcoh 839 W1=4.12 W2=8.12 b=0.46 loss=4.54490\n",
      "Epcoh 840 W1=4.12 W2=8.12 b=0.46 loss=4.97735\n",
      "Epcoh 841 W1=4.12 W2=8.12 b=0.46 loss=4.04271\n",
      "Epcoh 842 W1=4.12 W2=8.12 b=0.46 loss=3.86859\n",
      "Epcoh 843 W1=4.12 W2=8.12 b=0.46 loss=4.11909\n",
      "Epcoh 844 W1=4.12 W2=8.12 b=0.46 loss=4.97706\n",
      "Epcoh 845 W1=4.12 W2=8.12 b=0.46 loss=4.74625\n",
      "Epcoh 846 W1=4.12 W2=8.12 b=0.46 loss=4.16719\n",
      "Epcoh 847 W1=4.12 W2=8.12 b=0.46 loss=4.61184\n",
      "Epcoh 848 W1=4.12 W2=8.12 b=0.46 loss=4.08676\n",
      "Epcoh 849 W1=4.12 W2=8.12 b=0.46 loss=4.00191\n",
      "Epcoh 850 W1=4.12 W2=8.12 b=0.46 loss=5.46289\n",
      "Epcoh 851 W1=4.12 W2=8.12 b=0.46 loss=4.24096\n",
      "Epcoh 852 W1=4.12 W2=8.12 b=0.46 loss=4.48446\n",
      "Epcoh 853 W1=4.12 W2=8.12 b=0.46 loss=4.51073\n",
      "Epcoh 854 W1=4.12 W2=8.12 b=0.46 loss=5.37106\n",
      "Epcoh 855 W1=4.12 W2=8.12 b=0.46 loss=4.35690\n",
      "Epcoh 856 W1=4.12 W2=8.12 b=0.46 loss=4.62662\n",
      "Epcoh 857 W1=4.12 W2=8.12 b=0.46 loss=4.22150\n",
      "Epcoh 858 W1=4.12 W2=8.12 b=0.46 loss=4.55738\n",
      "Epcoh 859 W1=4.12 W2=8.12 b=0.46 loss=4.73398\n",
      "Epcoh 860 W1=4.12 W2=8.12 b=0.46 loss=4.97963\n",
      "Epcoh 861 W1=4.12 W2=8.12 b=0.46 loss=3.85771\n",
      "Epcoh 862 W1=4.12 W2=8.12 b=0.46 loss=3.43133\n",
      "Epcoh 863 W1=4.12 W2=8.12 b=0.46 loss=4.93876\n",
      "Epcoh 864 W1=4.12 W2=8.12 b=0.46 loss=5.19773\n",
      "Epcoh 865 W1=4.12 W2=8.12 b=0.46 loss=4.54703\n",
      "Epcoh 866 W1=4.12 W2=8.12 b=0.46 loss=5.34413\n",
      "Epcoh 867 W1=4.12 W2=8.12 b=0.47 loss=4.97986\n",
      "Epcoh 868 W1=4.12 W2=8.12 b=0.47 loss=4.47764\n",
      "Epcoh 869 W1=4.12 W2=8.12 b=0.47 loss=3.66260\n",
      "Epcoh 870 W1=4.12 W2=8.12 b=0.47 loss=4.73194\n",
      "Epcoh 871 W1=4.12 W2=8.12 b=0.47 loss=4.97741\n",
      "Epcoh 872 W1=4.12 W2=8.12 b=0.47 loss=4.01398\n",
      "Epcoh 873 W1=4.12 W2=8.12 b=0.47 loss=5.39888\n",
      "Epcoh 874 W1=4.12 W2=8.12 b=0.47 loss=4.26429\n",
      "Epcoh 875 W1=4.12 W2=8.12 b=0.47 loss=3.78443\n",
      "Epcoh 876 W1=4.12 W2=8.12 b=0.47 loss=4.22236\n",
      "Epcoh 877 W1=4.12 W2=8.12 b=0.47 loss=4.47763\n",
      "Epcoh 878 W1=4.12 W2=8.12 b=0.47 loss=4.16459\n",
      "Epcoh 879 W1=4.12 W2=8.12 b=0.47 loss=4.32541\n",
      "Epcoh 880 W1=4.12 W2=8.12 b=0.47 loss=4.57192\n",
      "Epcoh 881 W1=4.12 W2=8.12 b=0.47 loss=4.27535\n",
      "Epcoh 882 W1=4.12 W2=8.12 b=0.47 loss=4.22756\n",
      "Epcoh 883 W1=4.12 W2=8.12 b=0.47 loss=4.23829\n",
      "Epcoh 884 W1=4.12 W2=8.12 b=0.47 loss=3.84934\n",
      "Epcoh 885 W1=4.12 W2=8.12 b=0.47 loss=4.04302\n",
      "Epcoh 886 W1=4.12 W2=8.12 b=0.47 loss=4.37047\n",
      "Epcoh 887 W1=4.12 W2=8.12 b=0.47 loss=5.16786\n",
      "Epcoh 888 W1=4.12 W2=8.12 b=0.47 loss=4.60740\n",
      "Epcoh 889 W1=4.12 W2=8.12 b=0.47 loss=4.48773\n",
      "Epcoh 890 W1=4.12 W2=8.12 b=0.47 loss=4.15513\n",
      "Epcoh 891 W1=4.12 W2=8.12 b=0.47 loss=5.28549\n",
      "Epcoh 892 W1=4.12 W2=8.12 b=0.47 loss=4.86550\n",
      "Epcoh 893 W1=4.12 W2=8.12 b=0.47 loss=4.32323\n",
      "Epcoh 894 W1=4.12 W2=8.12 b=0.47 loss=4.63865\n"
     ]
    },
    {
     "name": "stdout",
     "output_type": "stream",
     "text": [
      "Epcoh 895 W1=4.12 W2=8.12 b=0.47 loss=2.98624\n",
      "Epcoh 896 W1=4.12 W2=8.12 b=0.47 loss=4.74666\n",
      "Epcoh 897 W1=4.12 W2=8.12 b=0.47 loss=5.01735\n",
      "Epcoh 898 W1=4.12 W2=8.12 b=0.47 loss=5.27507\n",
      "Epcoh 899 W1=4.12 W2=8.12 b=0.47 loss=3.69900\n",
      "Epcoh 900 W1=4.12 W2=8.12 b=0.47 loss=4.27643\n",
      "Epcoh 901 W1=4.12 W2=8.12 b=0.47 loss=5.09442\n",
      "Epcoh 902 W1=4.12 W2=8.12 b=0.47 loss=3.87367\n",
      "Epcoh 903 W1=4.12 W2=8.12 b=0.47 loss=4.56937\n",
      "Epcoh 904 W1=4.12 W2=8.12 b=0.47 loss=5.36205\n",
      "Epcoh 905 W1=4.12 W2=8.12 b=0.47 loss=4.70864\n",
      "Epcoh 906 W1=4.12 W2=8.12 b=0.47 loss=4.59856\n",
      "Epcoh 907 W1=4.12 W2=8.12 b=0.47 loss=4.61333\n",
      "Epcoh 908 W1=4.12 W2=8.12 b=0.47 loss=4.18665\n",
      "Epcoh 909 W1=4.12 W2=8.12 b=0.47 loss=5.57201\n",
      "Epcoh 910 W1=4.12 W2=8.12 b=0.47 loss=3.76491\n",
      "Epcoh 911 W1=4.12 W2=8.12 b=0.47 loss=5.30564\n",
      "Epcoh 912 W1=4.12 W2=8.12 b=0.47 loss=4.53345\n",
      "Epcoh 913 W1=4.12 W2=8.12 b=0.47 loss=4.29630\n",
      "Epcoh 914 W1=4.12 W2=8.12 b=0.47 loss=4.00044\n",
      "Epcoh 915 W1=4.12 W2=8.12 b=0.47 loss=5.45132\n",
      "Epcoh 916 W1=4.12 W2=8.12 b=0.47 loss=5.11111\n",
      "Epcoh 917 W1=4.12 W2=8.12 b=0.47 loss=4.07869\n",
      "Epcoh 918 W1=4.12 W2=8.12 b=0.47 loss=4.90899\n",
      "Epcoh 919 W1=4.12 W2=8.12 b=0.47 loss=4.86708\n",
      "Epcoh 920 W1=4.12 W2=8.12 b=0.47 loss=4.59177\n",
      "Epcoh 921 W1=4.12 W2=8.12 b=0.47 loss=4.83418\n",
      "Epcoh 922 W1=4.12 W2=8.12 b=0.47 loss=5.51205\n",
      "Epcoh 923 W1=4.12 W2=8.12 b=0.47 loss=5.43218\n",
      "Epcoh 924 W1=4.12 W2=8.12 b=0.47 loss=4.13958\n",
      "Epcoh 925 W1=4.12 W2=8.12 b=0.47 loss=4.14079\n",
      "Epcoh 926 W1=4.12 W2=8.12 b=0.47 loss=4.99391\n",
      "Epcoh 927 W1=4.12 W2=8.12 b=0.47 loss=3.73728\n",
      "Epcoh 928 W1=4.12 W2=8.12 b=0.47 loss=5.19623\n",
      "Epcoh 929 W1=4.12 W2=8.12 b=0.47 loss=4.87590\n",
      "Epcoh 930 W1=4.12 W2=8.12 b=0.47 loss=4.40628\n",
      "Epcoh 931 W1=4.12 W2=8.12 b=0.47 loss=5.47855\n",
      "Epcoh 932 W1=4.12 W2=8.12 b=0.47 loss=5.58083\n",
      "Epcoh 933 W1=4.12 W2=8.12 b=0.47 loss=4.64326\n",
      "Epcoh 934 W1=4.12 W2=8.12 b=0.47 loss=4.03985\n",
      "Epcoh 935 W1=4.12 W2=8.12 b=0.47 loss=4.65488\n",
      "Epcoh 936 W1=4.12 W2=8.12 b=0.47 loss=4.91646\n",
      "Epcoh 937 W1=4.12 W2=8.12 b=0.47 loss=4.80894\n",
      "Epcoh 938 W1=4.12 W2=8.12 b=0.47 loss=4.85134\n",
      "Epcoh 939 W1=4.12 W2=8.12 b=0.47 loss=4.00393\n",
      "Epcoh 940 W1=4.12 W2=8.12 b=0.47 loss=4.50111\n",
      "Epcoh 941 W1=4.12 W2=8.12 b=0.47 loss=5.01626\n",
      "Epcoh 942 W1=4.12 W2=8.11 b=0.47 loss=4.63116\n",
      "Epcoh 943 W1=4.11 W2=8.11 b=0.47 loss=4.34271\n",
      "Epcoh 944 W1=4.12 W2=8.12 b=0.47 loss=4.70022\n",
      "Epcoh 945 W1=4.12 W2=8.12 b=0.47 loss=5.08271\n",
      "Epcoh 946 W1=4.12 W2=8.12 b=0.47 loss=4.02291\n",
      "Epcoh 947 W1=4.12 W2=8.12 b=0.47 loss=4.76167\n",
      "Epcoh 948 W1=4.12 W2=8.12 b=0.47 loss=4.60093\n",
      "Epcoh 949 W1=4.12 W2=8.12 b=0.48 loss=4.38728\n",
      "Epcoh 950 W1=4.12 W2=8.12 b=0.48 loss=4.17218\n",
      "Epcoh 951 W1=4.12 W2=8.12 b=0.48 loss=3.88046\n",
      "Epcoh 952 W1=4.12 W2=8.12 b=0.48 loss=4.17115\n",
      "Epcoh 953 W1=4.12 W2=8.12 b=0.48 loss=5.43231\n",
      "Epcoh 954 W1=4.12 W2=8.12 b=0.48 loss=5.35503\n",
      "Epcoh 955 W1=4.12 W2=8.12 b=0.48 loss=4.37764\n",
      "Epcoh 956 W1=4.12 W2=8.12 b=0.48 loss=4.16477\n",
      "Epcoh 957 W1=4.12 W2=8.12 b=0.48 loss=4.74908\n",
      "Epcoh 958 W1=4.12 W2=8.12 b=0.48 loss=4.34427\n",
      "Epcoh 959 W1=4.12 W2=8.12 b=0.48 loss=3.99854\n",
      "Epcoh 960 W1=4.12 W2=8.12 b=0.48 loss=5.12050\n",
      "Epcoh 961 W1=4.12 W2=8.12 b=0.48 loss=4.51025\n",
      "Epcoh 962 W1=4.12 W2=8.12 b=0.48 loss=5.39806\n",
      "Epcoh 963 W1=4.12 W2=8.12 b=0.48 loss=3.27590\n",
      "Epcoh 964 W1=4.12 W2=8.12 b=0.48 loss=5.61145\n",
      "Epcoh 965 W1=4.12 W2=8.12 b=0.48 loss=3.45170\n",
      "Epcoh 966 W1=4.12 W2=8.12 b=0.48 loss=3.74297\n",
      "Epcoh 967 W1=4.12 W2=8.12 b=0.48 loss=4.67789\n",
      "Epcoh 968 W1=4.12 W2=8.12 b=0.48 loss=5.08271\n",
      "Epcoh 969 W1=4.12 W2=8.12 b=0.48 loss=3.62249\n",
      "Epcoh 970 W1=4.12 W2=8.12 b=0.48 loss=4.87565\n",
      "Epcoh 971 W1=4.12 W2=8.12 b=0.48 loss=4.27723\n",
      "Epcoh 972 W1=4.12 W2=8.12 b=0.48 loss=4.93181\n",
      "Epcoh 973 W1=4.12 W2=8.12 b=0.48 loss=4.99509\n",
      "Epcoh 974 W1=4.12 W2=8.12 b=0.48 loss=4.47433\n",
      "Epcoh 975 W1=4.12 W2=8.12 b=0.48 loss=4.81825\n",
      "Epcoh 976 W1=4.12 W2=8.12 b=0.48 loss=5.01686\n",
      "Epcoh 977 W1=4.12 W2=8.12 b=0.48 loss=4.75333\n",
      "Epcoh 978 W1=4.12 W2=8.12 b=0.48 loss=4.67674\n",
      "Epcoh 979 W1=4.12 W2=8.12 b=0.48 loss=4.64985\n",
      "Epcoh 980 W1=4.12 W2=8.12 b=0.48 loss=4.15432\n",
      "Epcoh 981 W1=4.12 W2=8.12 b=0.48 loss=4.42102\n",
      "Epcoh 982 W1=4.12 W2=8.12 b=0.48 loss=6.40487\n",
      "Epcoh 983 W1=4.12 W2=8.12 b=0.48 loss=5.44675\n",
      "Epcoh 984 W1=4.12 W2=8.12 b=0.48 loss=4.84630\n",
      "Epcoh 985 W1=4.12 W2=8.12 b=0.48 loss=4.92028\n",
      "Epcoh 986 W1=4.12 W2=8.12 b=0.48 loss=4.68401\n",
      "Epcoh 987 W1=4.12 W2=8.12 b=0.48 loss=5.09501\n",
      "Epcoh 988 W1=4.12 W2=8.12 b=0.48 loss=3.67102\n",
      "Epcoh 989 W1=4.12 W2=8.12 b=0.48 loss=4.96589\n",
      "Epcoh 990 W1=4.12 W2=8.12 b=0.48 loss=5.04461\n",
      "Epcoh 991 W1=4.12 W2=8.12 b=0.48 loss=4.66299\n",
      "Epcoh 992 W1=4.12 W2=8.12 b=0.48 loss=4.23992\n",
      "Epcoh 993 W1=4.12 W2=8.12 b=0.48 loss=6.04749\n",
      "Epcoh 994 W1=4.12 W2=8.12 b=0.48 loss=4.02665\n",
      "Epcoh 995 W1=4.12 W2=8.12 b=0.48 loss=4.43377\n",
      "Epcoh 996 W1=4.12 W2=8.12 b=0.48 loss=4.51524\n",
      "Epcoh 997 W1=4.12 W2=8.12 b=0.48 loss=4.45411\n",
      "Epcoh 998 W1=4.12 W2=8.12 b=0.48 loss=3.60660\n",
      "Epcoh 999 W1=4.12 W2=8.12 b=0.48 loss=3.03671\n"
     ]
    }
   ],
   "source": [
    "model=preds()\n",
    "\n",
    "w1s=[]\n",
    "w2s=[]\n",
    "bs=[]\n",
    "\n",
    "for epoch in range(1000):\n",
    "    w1s.append(model.w1.numpy())\n",
    "    w2s.append(model.w2.numpy())\n",
    "    bs.append(model.b.numpy())\n",
    "    \n",
    "    rand_int=np.random.choice(range(data.shape[0]),100)\n",
    "    outputs=y[rand_int]\n",
    "    inputs=data.iloc[rand_int,:]\n",
    "    \n",
    "    current_loss=loss(model(inputs),outputs)\n",
    "    \n",
    "    train(model,inputs,outputs,learning_rate=0.0001)\n",
    "    \n",
    "    print('Epcoh %2d W1=%1.2f W2=%1.2f b=%1.2f loss=%2.5f'%(epoch,w1s[-1],w2s[-1],bs[-1],current_loss))\n",
    "    "
   ]
  },
  {
   "cell_type": "code",
   "execution_count": null,
   "metadata": {},
   "outputs": [],
   "source": []
  },
  {
   "cell_type": "code",
   "execution_count": null,
   "metadata": {},
   "outputs": [],
   "source": []
  }
 ],
 "metadata": {
  "kernelspec": {
   "display_name": "Python 3",
   "language": "python",
   "name": "python3"
  },
  "language_info": {
   "codemirror_mode": {
    "name": "ipython",
    "version": 3
   },
   "file_extension": ".py",
   "mimetype": "text/x-python",
   "name": "python",
   "nbconvert_exporter": "python",
   "pygments_lexer": "ipython3",
   "version": "3.7.4"
  }
 },
 "nbformat": 4,
 "nbformat_minor": 2
}
